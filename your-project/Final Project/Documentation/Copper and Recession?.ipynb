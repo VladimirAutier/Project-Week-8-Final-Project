{
 "cells": [
  {
   "cell_type": "code",
   "execution_count": 1,
   "metadata": {},
   "outputs": [],
   "source": [
    "#https://www.macrotrends.net/1476/copper-prices-historical-chart-data"
   ]
  },
  {
   "cell_type": "code",
   "execution_count": 4,
   "metadata": {},
   "outputs": [],
   "source": [
    "#https://www.statista.com/statistics/948055/china-copper-consumption-volume/ ==> china consumption"
   ]
  },
  {
   "cell_type": "code",
   "execution_count": 5,
   "metadata": {},
   "outputs": [
    {
     "data": {
      "text/plain": [
       "\"The term Doctor Copper is market lingo for the base metal that is reputed to have a Ph.D. in economics because of its ability to predict turning points in the global economy. Because of copper's widespread applications in most sectors of the economy — from homes and factories to electronics and power generation and transmission — demand for copper is often viewed as a reliable leading indicator of economic health. This demand is reflected in the market price of copper. Generally, rising copper prices suggest strong copper demand and, hence, a growing global economy, while declining copper prices may indicate sluggish demand and an imminent economic slowdown.\\n\""
      ]
     },
     "execution_count": 5,
     "metadata": {},
     "output_type": "execute_result"
    }
   ],
   "source": [
    "#https://www.investopedia.com/terms/d/doctor-copper.asp\n",
    "'''The term Doctor Copper is market lingo for the base metal that is reputed to have a Ph.D. in economics because of its ability to predict turning points in the global economy. Because of copper's widespread applications in most sectors of the economy — from homes and factories to electronics and power generation and transmission — demand for copper is often viewed as a reliable leading indicator of economic health. This demand is reflected in the market price of copper. Generally, rising copper prices suggest strong copper demand and, hence, a growing global economy, while declining copper prices may indicate sluggish demand and an imminent economic slowdown.\n",
    "'''"
   ]
  },
  {
   "cell_type": "code",
   "execution_count": null,
   "metadata": {},
   "outputs": [],
   "source": []
  }
 ],
 "metadata": {
  "kernelspec": {
   "display_name": "Python 3",
   "language": "python",
   "name": "python3"
  },
  "language_info": {
   "codemirror_mode": {
    "name": "ipython",
    "version": 3
   },
   "file_extension": ".py",
   "mimetype": "text/x-python",
   "name": "python",
   "nbconvert_exporter": "python",
   "pygments_lexer": "ipython3",
   "version": "3.7.3"
  }
 },
 "nbformat": 4,
 "nbformat_minor": 2
}
