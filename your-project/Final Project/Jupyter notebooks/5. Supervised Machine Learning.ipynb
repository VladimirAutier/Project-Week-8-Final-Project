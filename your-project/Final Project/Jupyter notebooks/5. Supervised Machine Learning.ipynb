{
 "cells": [
  {
   "cell_type": "markdown",
   "metadata": {},
   "source": [
    "# Libraries"
   ]
  },
  {
   "cell_type": "code",
   "execution_count": 119,
   "metadata": {},
   "outputs": [],
   "source": [
    "import fbprophet\n",
    "from fbprophet import Prophet\n",
    "from fbprophet.plot import add_changepoints_to_plot\n",
    "from scipy.stats import boxcox\n",
    "import pandas as pd\n",
    "import numpy as np\n",
    "from datetime import date\n",
    "from datetime import time\n",
    "from datetime import datetime\n",
    "import seaborn as sns\n",
    "import matplotlib.pyplot as plt\n",
    "import matplotlib.dates as mdates\n",
    "from scipy import stats\n",
    "from scipy.stats import ttest_1samp\n",
    "import math\n",
    "import plotly \n",
    "import plotly.graph_objs as go\n",
    "import plotly.express as px\n",
    "import sklearn\n",
    "from sklearn.model_selection import train_test_split\n",
    "from sklearn.ensemble import RandomForestClassifier\n",
    "from sklearn.metrics import roc_auc_score\n",
    "from sklearn.metrics import confusion_matrix\n",
    "from sklearn.metrics import accuracy_score\n",
    "from sklearn.model_selection import cross_validate"
   ]
  },
  {
   "cell_type": "markdown",
   "metadata": {},
   "source": [
    "# Preparing the Data for ML"
   ]
  },
  {
   "cell_type": "code",
   "execution_count": 13,
   "metadata": {},
   "outputs": [],
   "source": [
    "# Economic estimators"
   ]
  },
  {
   "cell_type": "code",
   "execution_count": 2,
   "metadata": {},
   "outputs": [],
   "source": [
    "yc_cci = pd.read_csv('/Users/vladimirautier/Documents/GitHub/Week9/Project-Week-9-Final-Project/your-project/Final Project/Modified:Cleaned Data/yield_curve_cci_mre.csv')"
   ]
  },
  {
   "cell_type": "code",
   "execution_count": 3,
   "metadata": {},
   "outputs": [
    {
     "data": {
      "text/html": [
       "<div>\n",
       "<style scoped>\n",
       "    .dataframe tbody tr th:only-of-type {\n",
       "        vertical-align: middle;\n",
       "    }\n",
       "\n",
       "    .dataframe tbody tr th {\n",
       "        vertical-align: top;\n",
       "    }\n",
       "\n",
       "    .dataframe thead th {\n",
       "        text-align: right;\n",
       "    }\n",
       "</style>\n",
       "<table border=\"1\" class=\"dataframe\">\n",
       "  <thead>\n",
       "    <tr style=\"text-align: right;\">\n",
       "      <th></th>\n",
       "      <th>Date</th>\n",
       "      <th>10 Year Treasury Yield</th>\n",
       "      <th>3 Month Treasury Yield</th>\n",
       "      <th>3 Month Treasury Yield (Bond Equivalent Basis)</th>\n",
       "      <th>Spread</th>\n",
       "      <th>Rec_prob</th>\n",
       "      <th>NBER_Rec</th>\n",
       "      <th>Year</th>\n",
       "      <th>CCI Value</th>\n",
       "    </tr>\n",
       "  </thead>\n",
       "  <tbody>\n",
       "    <tr>\n",
       "      <th>0</th>\n",
       "      <td>1970-12-31</td>\n",
       "      <td>6.39</td>\n",
       "      <td>4.87</td>\n",
       "      <td>4.999180</td>\n",
       "      <td>1.390820</td>\n",
       "      <td>0.399079</td>\n",
       "      <td>0.0</td>\n",
       "      <td>1970</td>\n",
       "      <td>98.74387</td>\n",
       "    </tr>\n",
       "    <tr>\n",
       "      <th>1</th>\n",
       "      <td>1971-01-31</td>\n",
       "      <td>6.24</td>\n",
       "      <td>4.44</td>\n",
       "      <td>4.552764</td>\n",
       "      <td>1.687236</td>\n",
       "      <td>0.377920</td>\n",
       "      <td>0.0</td>\n",
       "      <td>1971</td>\n",
       "      <td>98.92701</td>\n",
       "    </tr>\n",
       "    <tr>\n",
       "      <th>2</th>\n",
       "      <td>1971-02-28</td>\n",
       "      <td>6.11</td>\n",
       "      <td>3.70</td>\n",
       "      <td>3.786806</td>\n",
       "      <td>2.323194</td>\n",
       "      <td>0.324102</td>\n",
       "      <td>0.0</td>\n",
       "      <td>1971</td>\n",
       "      <td>99.06342</td>\n",
       "    </tr>\n",
       "    <tr>\n",
       "      <th>3</th>\n",
       "      <td>1971-03-31</td>\n",
       "      <td>5.70</td>\n",
       "      <td>3.38</td>\n",
       "      <td>3.456476</td>\n",
       "      <td>2.243524</td>\n",
       "      <td>0.247934</td>\n",
       "      <td>0.0</td>\n",
       "      <td>1971</td>\n",
       "      <td>99.16283</td>\n",
       "    </tr>\n",
       "    <tr>\n",
       "      <th>4</th>\n",
       "      <td>1971-04-30</td>\n",
       "      <td>5.83</td>\n",
       "      <td>3.86</td>\n",
       "      <td>3.952173</td>\n",
       "      <td>1.877827</td>\n",
       "      <td>0.167723</td>\n",
       "      <td>0.0</td>\n",
       "      <td>1971</td>\n",
       "      <td>99.24342</td>\n",
       "    </tr>\n",
       "  </tbody>\n",
       "</table>\n",
       "</div>"
      ],
      "text/plain": [
       "         Date  10 Year Treasury Yield  3 Month Treasury Yield  \\\n",
       "0  1970-12-31                    6.39                    4.87   \n",
       "1  1971-01-31                    6.24                    4.44   \n",
       "2  1971-02-28                    6.11                    3.70   \n",
       "3  1971-03-31                    5.70                    3.38   \n",
       "4  1971-04-30                    5.83                    3.86   \n",
       "\n",
       "   3 Month Treasury Yield (Bond Equivalent Basis)    Spread  Rec_prob  \\\n",
       "0                                        4.999180  1.390820  0.399079   \n",
       "1                                        4.552764  1.687236  0.377920   \n",
       "2                                        3.786806  2.323194  0.324102   \n",
       "3                                        3.456476  2.243524  0.247934   \n",
       "4                                        3.952173  1.877827  0.167723   \n",
       "\n",
       "   NBER_Rec  Year  CCI Value  \n",
       "0       0.0  1970   98.74387  \n",
       "1       0.0  1971   98.92701  \n",
       "2       0.0  1971   99.06342  \n",
       "3       0.0  1971   99.16283  \n",
       "4       0.0  1971   99.24342  "
      ]
     },
     "execution_count": 3,
     "metadata": {},
     "output_type": "execute_result"
    }
   ],
   "source": [
    "yc_cci.head()"
   ]
  },
  {
   "cell_type": "code",
   "execution_count": 4,
   "metadata": {},
   "outputs": [],
   "source": [
    "# Using the Spread as the main Value"
   ]
  },
  {
   "cell_type": "code",
   "execution_count": 5,
   "metadata": {},
   "outputs": [],
   "source": [
    "yc_cci.drop(['10 Year Treasury Yield','3 Month Treasury Yield','3 Month Treasury Yield (Bond Equivalent Basis)','Rec_prob','Year'],axis=1,inplace=True)"
   ]
  },
  {
   "cell_type": "code",
   "execution_count": 6,
   "metadata": {},
   "outputs": [
    {
     "data": {
      "text/plain": [
       "Date         0\n",
       "Spread       0\n",
       "NBER_Rec     0\n",
       "CCI Value    0\n",
       "dtype: int64"
      ]
     },
     "execution_count": 6,
     "metadata": {},
     "output_type": "execute_result"
    }
   ],
   "source": [
    "yc_cci.isna().sum()"
   ]
  },
  {
   "cell_type": "code",
   "execution_count": 7,
   "metadata": {},
   "outputs": [
    {
     "data": {
      "text/html": [
       "<div>\n",
       "<style scoped>\n",
       "    .dataframe tbody tr th:only-of-type {\n",
       "        vertical-align: middle;\n",
       "    }\n",
       "\n",
       "    .dataframe tbody tr th {\n",
       "        vertical-align: top;\n",
       "    }\n",
       "\n",
       "    .dataframe thead th {\n",
       "        text-align: right;\n",
       "    }\n",
       "</style>\n",
       "<table border=\"1\" class=\"dataframe\">\n",
       "  <thead>\n",
       "    <tr style=\"text-align: right;\">\n",
       "      <th></th>\n",
       "      <th>Date</th>\n",
       "      <th>Spread</th>\n",
       "      <th>NBER_Rec</th>\n",
       "      <th>CCI Value</th>\n",
       "    </tr>\n",
       "  </thead>\n",
       "  <tbody>\n",
       "    <tr>\n",
       "      <th>0</th>\n",
       "      <td>1970-12-31</td>\n",
       "      <td>1.390820</td>\n",
       "      <td>0.0</td>\n",
       "      <td>98.74387</td>\n",
       "    </tr>\n",
       "    <tr>\n",
       "      <th>1</th>\n",
       "      <td>1971-01-31</td>\n",
       "      <td>1.687236</td>\n",
       "      <td>0.0</td>\n",
       "      <td>98.92701</td>\n",
       "    </tr>\n",
       "    <tr>\n",
       "      <th>2</th>\n",
       "      <td>1971-02-28</td>\n",
       "      <td>2.323194</td>\n",
       "      <td>0.0</td>\n",
       "      <td>99.06342</td>\n",
       "    </tr>\n",
       "    <tr>\n",
       "      <th>3</th>\n",
       "      <td>1971-03-31</td>\n",
       "      <td>2.243524</td>\n",
       "      <td>0.0</td>\n",
       "      <td>99.16283</td>\n",
       "    </tr>\n",
       "    <tr>\n",
       "      <th>4</th>\n",
       "      <td>1971-04-30</td>\n",
       "      <td>1.877827</td>\n",
       "      <td>0.0</td>\n",
       "      <td>99.24342</td>\n",
       "    </tr>\n",
       "  </tbody>\n",
       "</table>\n",
       "</div>"
      ],
      "text/plain": [
       "         Date    Spread  NBER_Rec  CCI Value\n",
       "0  1970-12-31  1.390820       0.0   98.74387\n",
       "1  1971-01-31  1.687236       0.0   98.92701\n",
       "2  1971-02-28  2.323194       0.0   99.06342\n",
       "3  1971-03-31  2.243524       0.0   99.16283\n",
       "4  1971-04-30  1.877827       0.0   99.24342"
      ]
     },
     "execution_count": 7,
     "metadata": {},
     "output_type": "execute_result"
    }
   ],
   "source": [
    "yc_cci.head()"
   ]
  },
  {
   "cell_type": "code",
   "execution_count": 8,
   "metadata": {},
   "outputs": [],
   "source": [
    "# Ordering columns\n",
    "\n",
    "yc_cci = yc_cci[['Date', 'CCI Value', 'Spread', 'NBER_Rec']]"
   ]
  },
  {
   "cell_type": "code",
   "execution_count": 9,
   "metadata": {},
   "outputs": [],
   "source": [
    "# Changing the types\n",
    "\n",
    "yc_cci['Date'] = pd.to_datetime(yc_cci['Date'])"
   ]
  },
  {
   "cell_type": "code",
   "execution_count": 10,
   "metadata": {},
   "outputs": [
    {
     "data": {
      "text/html": [
       "<div>\n",
       "<style scoped>\n",
       "    .dataframe tbody tr th:only-of-type {\n",
       "        vertical-align: middle;\n",
       "    }\n",
       "\n",
       "    .dataframe tbody tr th {\n",
       "        vertical-align: top;\n",
       "    }\n",
       "\n",
       "    .dataframe thead th {\n",
       "        text-align: right;\n",
       "    }\n",
       "</style>\n",
       "<table border=\"1\" class=\"dataframe\">\n",
       "  <thead>\n",
       "    <tr style=\"text-align: right;\">\n",
       "      <th></th>\n",
       "      <th>Date</th>\n",
       "      <th>CCI Value</th>\n",
       "      <th>Spread</th>\n",
       "      <th>NBER_Rec</th>\n",
       "    </tr>\n",
       "  </thead>\n",
       "  <tbody>\n",
       "    <tr>\n",
       "      <th>0</th>\n",
       "      <td>1970-12-31</td>\n",
       "      <td>98.74387</td>\n",
       "      <td>1.390820</td>\n",
       "      <td>0.0</td>\n",
       "    </tr>\n",
       "    <tr>\n",
       "      <th>1</th>\n",
       "      <td>1971-01-31</td>\n",
       "      <td>98.92701</td>\n",
       "      <td>1.687236</td>\n",
       "      <td>0.0</td>\n",
       "    </tr>\n",
       "    <tr>\n",
       "      <th>2</th>\n",
       "      <td>1971-02-28</td>\n",
       "      <td>99.06342</td>\n",
       "      <td>2.323194</td>\n",
       "      <td>0.0</td>\n",
       "    </tr>\n",
       "    <tr>\n",
       "      <th>3</th>\n",
       "      <td>1971-03-31</td>\n",
       "      <td>99.16283</td>\n",
       "      <td>2.243524</td>\n",
       "      <td>0.0</td>\n",
       "    </tr>\n",
       "    <tr>\n",
       "      <th>4</th>\n",
       "      <td>1971-04-30</td>\n",
       "      <td>99.24342</td>\n",
       "      <td>1.877827</td>\n",
       "      <td>0.0</td>\n",
       "    </tr>\n",
       "  </tbody>\n",
       "</table>\n",
       "</div>"
      ],
      "text/plain": [
       "        Date  CCI Value    Spread  NBER_Rec\n",
       "0 1970-12-31   98.74387  1.390820       0.0\n",
       "1 1971-01-31   98.92701  1.687236       0.0\n",
       "2 1971-02-28   99.06342  2.323194       0.0\n",
       "3 1971-03-31   99.16283  2.243524       0.0\n",
       "4 1971-04-30   99.24342  1.877827       0.0"
      ]
     },
     "execution_count": 10,
     "metadata": {},
     "output_type": "execute_result"
    }
   ],
   "source": [
    "yc_cci.head()"
   ]
  },
  {
   "cell_type": "code",
   "execution_count": 11,
   "metadata": {},
   "outputs": [],
   "source": [
    "# Month resampling\n",
    "\n",
    "yc_cci = yc_cci.resample('M', on='Date').mean()"
   ]
  },
  {
   "cell_type": "code",
   "execution_count": 12,
   "metadata": {},
   "outputs": [
    {
     "data": {
      "text/html": [
       "<div>\n",
       "<style scoped>\n",
       "    .dataframe tbody tr th:only-of-type {\n",
       "        vertical-align: middle;\n",
       "    }\n",
       "\n",
       "    .dataframe tbody tr th {\n",
       "        vertical-align: top;\n",
       "    }\n",
       "\n",
       "    .dataframe thead th {\n",
       "        text-align: right;\n",
       "    }\n",
       "</style>\n",
       "<table border=\"1\" class=\"dataframe\">\n",
       "  <thead>\n",
       "    <tr style=\"text-align: right;\">\n",
       "      <th></th>\n",
       "      <th>CCI Value</th>\n",
       "      <th>Spread</th>\n",
       "      <th>NBER_Rec</th>\n",
       "    </tr>\n",
       "    <tr>\n",
       "      <th>Date</th>\n",
       "      <th></th>\n",
       "      <th></th>\n",
       "      <th></th>\n",
       "    </tr>\n",
       "  </thead>\n",
       "  <tbody>\n",
       "    <tr>\n",
       "      <th>1970-12-31</th>\n",
       "      <td>98.74387</td>\n",
       "      <td>1.390820</td>\n",
       "      <td>0.0</td>\n",
       "    </tr>\n",
       "    <tr>\n",
       "      <th>1971-01-31</th>\n",
       "      <td>98.92701</td>\n",
       "      <td>1.687236</td>\n",
       "      <td>0.0</td>\n",
       "    </tr>\n",
       "    <tr>\n",
       "      <th>1971-02-28</th>\n",
       "      <td>99.06342</td>\n",
       "      <td>2.323194</td>\n",
       "      <td>0.0</td>\n",
       "    </tr>\n",
       "    <tr>\n",
       "      <th>1971-03-31</th>\n",
       "      <td>99.16283</td>\n",
       "      <td>2.243524</td>\n",
       "      <td>0.0</td>\n",
       "    </tr>\n",
       "    <tr>\n",
       "      <th>1971-04-30</th>\n",
       "      <td>99.24342</td>\n",
       "      <td>1.877827</td>\n",
       "      <td>0.0</td>\n",
       "    </tr>\n",
       "  </tbody>\n",
       "</table>\n",
       "</div>"
      ],
      "text/plain": [
       "            CCI Value    Spread  NBER_Rec\n",
       "Date                                     \n",
       "1970-12-31   98.74387  1.390820       0.0\n",
       "1971-01-31   98.92701  1.687236       0.0\n",
       "1971-02-28   99.06342  2.323194       0.0\n",
       "1971-03-31   99.16283  2.243524       0.0\n",
       "1971-04-30   99.24342  1.877827       0.0"
      ]
     },
     "execution_count": 12,
     "metadata": {},
     "output_type": "execute_result"
    }
   ],
   "source": [
    "yc_cci.head()"
   ]
  },
  {
   "cell_type": "code",
   "execution_count": 29,
   "metadata": {},
   "outputs": [],
   "source": [
    "# Copper price"
   ]
  },
  {
   "cell_type": "code",
   "execution_count": 30,
   "metadata": {},
   "outputs": [],
   "source": [
    "copper = pd.read_csv('/Users/vladimirautier/Documents/GitHub/Week9/Project-Week-9-Final-Project/your-project/Final Project/Modified:Cleaned Data/copper_ready_ML.csv')"
   ]
  },
  {
   "cell_type": "code",
   "execution_count": 31,
   "metadata": {},
   "outputs": [
    {
     "data": {
      "text/html": [
       "<div>\n",
       "<style scoped>\n",
       "    .dataframe tbody tr th:only-of-type {\n",
       "        vertical-align: middle;\n",
       "    }\n",
       "\n",
       "    .dataframe tbody tr th {\n",
       "        vertical-align: top;\n",
       "    }\n",
       "\n",
       "    .dataframe thead th {\n",
       "        text-align: right;\n",
       "    }\n",
       "</style>\n",
       "<table border=\"1\" class=\"dataframe\">\n",
       "  <thead>\n",
       "    <tr style=\"text-align: right;\">\n",
       "      <th></th>\n",
       "      <th>Date</th>\n",
       "      <th>Value of Copper in Dollars per Tonne</th>\n",
       "      <th>ds</th>\n",
       "      <th>y</th>\n",
       "    </tr>\n",
       "  </thead>\n",
       "  <tbody>\n",
       "    <tr>\n",
       "      <th>0</th>\n",
       "      <td>1959-07-02</td>\n",
       "      <td>645.7720</td>\n",
       "      <td>1959-07-02</td>\n",
       "      <td>645.7720</td>\n",
       "    </tr>\n",
       "    <tr>\n",
       "      <th>1</th>\n",
       "      <td>1959-07-06</td>\n",
       "      <td>641.3640</td>\n",
       "      <td>1959-07-06</td>\n",
       "      <td>641.3640</td>\n",
       "    </tr>\n",
       "    <tr>\n",
       "      <th>2</th>\n",
       "      <td>1959-07-07</td>\n",
       "      <td>621.5280</td>\n",
       "      <td>1959-07-07</td>\n",
       "      <td>621.5280</td>\n",
       "    </tr>\n",
       "    <tr>\n",
       "      <th>3</th>\n",
       "      <td>1959-07-08</td>\n",
       "      <td>627.2584</td>\n",
       "      <td>1959-07-08</td>\n",
       "      <td>627.2584</td>\n",
       "    </tr>\n",
       "    <tr>\n",
       "      <th>4</th>\n",
       "      <td>1959-07-09</td>\n",
       "      <td>608.3040</td>\n",
       "      <td>1959-07-09</td>\n",
       "      <td>608.3040</td>\n",
       "    </tr>\n",
       "  </tbody>\n",
       "</table>\n",
       "</div>"
      ],
      "text/plain": [
       "         Date  Value of Copper in Dollars per Tonne          ds         y\n",
       "0  1959-07-02                              645.7720  1959-07-02  645.7720\n",
       "1  1959-07-06                              641.3640  1959-07-06  641.3640\n",
       "2  1959-07-07                              621.5280  1959-07-07  621.5280\n",
       "3  1959-07-08                              627.2584  1959-07-08  627.2584\n",
       "4  1959-07-09                              608.3040  1959-07-09  608.3040"
      ]
     },
     "execution_count": 31,
     "metadata": {},
     "output_type": "execute_result"
    }
   ],
   "source": [
    "copper.head()"
   ]
  },
  {
   "cell_type": "code",
   "execution_count": 32,
   "metadata": {},
   "outputs": [],
   "source": [
    "#Cleaning the unwanted columns\n",
    "\n",
    "copper.drop(['Value of Copper in Dollars per Tonne','ds'],axis=1,inplace=True)"
   ]
  },
  {
   "cell_type": "code",
   "execution_count": 33,
   "metadata": {},
   "outputs": [
    {
     "data": {
      "text/html": [
       "<div>\n",
       "<style scoped>\n",
       "    .dataframe tbody tr th:only-of-type {\n",
       "        vertical-align: middle;\n",
       "    }\n",
       "\n",
       "    .dataframe tbody tr th {\n",
       "        vertical-align: top;\n",
       "    }\n",
       "\n",
       "    .dataframe thead th {\n",
       "        text-align: right;\n",
       "    }\n",
       "</style>\n",
       "<table border=\"1\" class=\"dataframe\">\n",
       "  <thead>\n",
       "    <tr style=\"text-align: right;\">\n",
       "      <th></th>\n",
       "      <th>Date</th>\n",
       "      <th>y</th>\n",
       "    </tr>\n",
       "  </thead>\n",
       "  <tbody>\n",
       "    <tr>\n",
       "      <th>0</th>\n",
       "      <td>1959-07-02</td>\n",
       "      <td>645.7720</td>\n",
       "    </tr>\n",
       "    <tr>\n",
       "      <th>1</th>\n",
       "      <td>1959-07-06</td>\n",
       "      <td>641.3640</td>\n",
       "    </tr>\n",
       "    <tr>\n",
       "      <th>2</th>\n",
       "      <td>1959-07-07</td>\n",
       "      <td>621.5280</td>\n",
       "    </tr>\n",
       "    <tr>\n",
       "      <th>3</th>\n",
       "      <td>1959-07-08</td>\n",
       "      <td>627.2584</td>\n",
       "    </tr>\n",
       "    <tr>\n",
       "      <th>4</th>\n",
       "      <td>1959-07-09</td>\n",
       "      <td>608.3040</td>\n",
       "    </tr>\n",
       "  </tbody>\n",
       "</table>\n",
       "</div>"
      ],
      "text/plain": [
       "         Date         y\n",
       "0  1959-07-02  645.7720\n",
       "1  1959-07-06  641.3640\n",
       "2  1959-07-07  621.5280\n",
       "3  1959-07-08  627.2584\n",
       "4  1959-07-09  608.3040"
      ]
     },
     "execution_count": 33,
     "metadata": {},
     "output_type": "execute_result"
    }
   ],
   "source": [
    "copper.head()"
   ]
  },
  {
   "cell_type": "code",
   "execution_count": 34,
   "metadata": {},
   "outputs": [],
   "source": [
    "#Renaming column\n",
    "\n",
    "copper = copper.rename({'y':'Value of Copper'}, axis=1)"
   ]
  },
  {
   "cell_type": "code",
   "execution_count": 35,
   "metadata": {},
   "outputs": [
    {
     "data": {
      "text/html": [
       "<div>\n",
       "<style scoped>\n",
       "    .dataframe tbody tr th:only-of-type {\n",
       "        vertical-align: middle;\n",
       "    }\n",
       "\n",
       "    .dataframe tbody tr th {\n",
       "        vertical-align: top;\n",
       "    }\n",
       "\n",
       "    .dataframe thead th {\n",
       "        text-align: right;\n",
       "    }\n",
       "</style>\n",
       "<table border=\"1\" class=\"dataframe\">\n",
       "  <thead>\n",
       "    <tr style=\"text-align: right;\">\n",
       "      <th></th>\n",
       "      <th>Date</th>\n",
       "      <th>Value of Copper</th>\n",
       "    </tr>\n",
       "  </thead>\n",
       "  <tbody>\n",
       "    <tr>\n",
       "      <th>0</th>\n",
       "      <td>1959-07-02</td>\n",
       "      <td>645.7720</td>\n",
       "    </tr>\n",
       "    <tr>\n",
       "      <th>1</th>\n",
       "      <td>1959-07-06</td>\n",
       "      <td>641.3640</td>\n",
       "    </tr>\n",
       "    <tr>\n",
       "      <th>2</th>\n",
       "      <td>1959-07-07</td>\n",
       "      <td>621.5280</td>\n",
       "    </tr>\n",
       "    <tr>\n",
       "      <th>3</th>\n",
       "      <td>1959-07-08</td>\n",
       "      <td>627.2584</td>\n",
       "    </tr>\n",
       "    <tr>\n",
       "      <th>4</th>\n",
       "      <td>1959-07-09</td>\n",
       "      <td>608.3040</td>\n",
       "    </tr>\n",
       "  </tbody>\n",
       "</table>\n",
       "</div>"
      ],
      "text/plain": [
       "         Date  Value of Copper\n",
       "0  1959-07-02         645.7720\n",
       "1  1959-07-06         641.3640\n",
       "2  1959-07-07         621.5280\n",
       "3  1959-07-08         627.2584\n",
       "4  1959-07-09         608.3040"
      ]
     },
     "execution_count": 35,
     "metadata": {},
     "output_type": "execute_result"
    }
   ],
   "source": [
    "copper.head()"
   ]
  },
  {
   "cell_type": "code",
   "execution_count": 38,
   "metadata": {},
   "outputs": [],
   "source": [
    "copper['Date'] = pd.to_datetime(copper['Date']) "
   ]
  },
  {
   "cell_type": "code",
   "execution_count": 39,
   "metadata": {},
   "outputs": [],
   "source": [
    "copper = copper.reset_index()"
   ]
  },
  {
   "cell_type": "code",
   "execution_count": 40,
   "metadata": {},
   "outputs": [],
   "source": [
    "# Month resampling\n",
    "\n",
    "copper = copper.resample('M', on='Date').mean()"
   ]
  },
  {
   "cell_type": "code",
   "execution_count": 51,
   "metadata": {},
   "outputs": [],
   "source": [
    "#Merging cleaned DF\n",
    "\n",
    "original_values = pd.merge(yc_cci,copper,left_index=True, right_index=True)"
   ]
  },
  {
   "cell_type": "code",
   "execution_count": 52,
   "metadata": {},
   "outputs": [
    {
     "data": {
      "text/html": [
       "<div>\n",
       "<style scoped>\n",
       "    .dataframe tbody tr th:only-of-type {\n",
       "        vertical-align: middle;\n",
       "    }\n",
       "\n",
       "    .dataframe tbody tr th {\n",
       "        vertical-align: top;\n",
       "    }\n",
       "\n",
       "    .dataframe thead th {\n",
       "        text-align: right;\n",
       "    }\n",
       "</style>\n",
       "<table border=\"1\" class=\"dataframe\">\n",
       "  <thead>\n",
       "    <tr style=\"text-align: right;\">\n",
       "      <th></th>\n",
       "      <th>CCI Value</th>\n",
       "      <th>Spread</th>\n",
       "      <th>NBER_Rec</th>\n",
       "      <th>level_0</th>\n",
       "      <th>index</th>\n",
       "      <th>Value of Copper</th>\n",
       "    </tr>\n",
       "    <tr>\n",
       "      <th>Date</th>\n",
       "      <th></th>\n",
       "      <th></th>\n",
       "      <th></th>\n",
       "      <th></th>\n",
       "      <th></th>\n",
       "      <th></th>\n",
       "    </tr>\n",
       "  </thead>\n",
       "  <tbody>\n",
       "    <tr>\n",
       "      <th>1970-12-31</th>\n",
       "      <td>98.74387</td>\n",
       "      <td>1.390820</td>\n",
       "      <td>0.0</td>\n",
       "      <td>2851.5</td>\n",
       "      <td>2851.5</td>\n",
       "      <td>1029.989309</td>\n",
       "    </tr>\n",
       "    <tr>\n",
       "      <th>1971-01-31</th>\n",
       "      <td>98.92701</td>\n",
       "      <td>1.687236</td>\n",
       "      <td>0.0</td>\n",
       "      <td>2872.5</td>\n",
       "      <td>2872.5</td>\n",
       "      <td>1000.560900</td>\n",
       "    </tr>\n",
       "    <tr>\n",
       "      <th>1971-02-28</th>\n",
       "      <td>99.06342</td>\n",
       "      <td>2.323194</td>\n",
       "      <td>0.0</td>\n",
       "      <td>2891.5</td>\n",
       "      <td>2891.5</td>\n",
       "      <td>1034.447400</td>\n",
       "    </tr>\n",
       "    <tr>\n",
       "      <th>1971-03-31</th>\n",
       "      <td>99.16283</td>\n",
       "      <td>2.243524</td>\n",
       "      <td>0.0</td>\n",
       "      <td>2912.0</td>\n",
       "      <td>2912.0</td>\n",
       "      <td>1160.549739</td>\n",
       "    </tr>\n",
       "    <tr>\n",
       "      <th>1971-04-30</th>\n",
       "      <td>99.24342</td>\n",
       "      <td>1.877827</td>\n",
       "      <td>0.0</td>\n",
       "      <td>2934.0</td>\n",
       "      <td>2934.0</td>\n",
       "      <td>1240.684076</td>\n",
       "    </tr>\n",
       "  </tbody>\n",
       "</table>\n",
       "</div>"
      ],
      "text/plain": [
       "            CCI Value    Spread  NBER_Rec  level_0   index  Value of Copper\n",
       "Date                                                                       \n",
       "1970-12-31   98.74387  1.390820       0.0   2851.5  2851.5      1029.989309\n",
       "1971-01-31   98.92701  1.687236       0.0   2872.5  2872.5      1000.560900\n",
       "1971-02-28   99.06342  2.323194       0.0   2891.5  2891.5      1034.447400\n",
       "1971-03-31   99.16283  2.243524       0.0   2912.0  2912.0      1160.549739\n",
       "1971-04-30   99.24342  1.877827       0.0   2934.0  2934.0      1240.684076"
      ]
     },
     "execution_count": 52,
     "metadata": {},
     "output_type": "execute_result"
    }
   ],
   "source": [
    "original_values.head()"
   ]
  },
  {
   "cell_type": "code",
   "execution_count": 53,
   "metadata": {},
   "outputs": [],
   "source": [
    "# Dropping  unwanted columns\n",
    "\n",
    "original_values.drop(['level_0','index'],axis=1,inplace=True)"
   ]
  },
  {
   "cell_type": "code",
   "execution_count": 54,
   "metadata": {},
   "outputs": [],
   "source": [
    "# Ordering columns\n",
    "\n",
    "original_values = original_values[['CCI Value','Spread','Value of Copper','NBER_Rec']]"
   ]
  },
  {
   "cell_type": "code",
   "execution_count": 55,
   "metadata": {},
   "outputs": [
    {
     "data": {
      "text/html": [
       "<div>\n",
       "<style scoped>\n",
       "    .dataframe tbody tr th:only-of-type {\n",
       "        vertical-align: middle;\n",
       "    }\n",
       "\n",
       "    .dataframe tbody tr th {\n",
       "        vertical-align: top;\n",
       "    }\n",
       "\n",
       "    .dataframe thead th {\n",
       "        text-align: right;\n",
       "    }\n",
       "</style>\n",
       "<table border=\"1\" class=\"dataframe\">\n",
       "  <thead>\n",
       "    <tr style=\"text-align: right;\">\n",
       "      <th></th>\n",
       "      <th>CCI Value</th>\n",
       "      <th>Spread</th>\n",
       "      <th>Value of Copper</th>\n",
       "      <th>NBER_Rec</th>\n",
       "    </tr>\n",
       "    <tr>\n",
       "      <th>Date</th>\n",
       "      <th></th>\n",
       "      <th></th>\n",
       "      <th></th>\n",
       "      <th></th>\n",
       "    </tr>\n",
       "  </thead>\n",
       "  <tbody>\n",
       "    <tr>\n",
       "      <th>1970-12-31</th>\n",
       "      <td>98.74387</td>\n",
       "      <td>1.390820</td>\n",
       "      <td>1029.989309</td>\n",
       "      <td>0.0</td>\n",
       "    </tr>\n",
       "    <tr>\n",
       "      <th>1971-01-31</th>\n",
       "      <td>98.92701</td>\n",
       "      <td>1.687236</td>\n",
       "      <td>1000.560900</td>\n",
       "      <td>0.0</td>\n",
       "    </tr>\n",
       "    <tr>\n",
       "      <th>1971-02-28</th>\n",
       "      <td>99.06342</td>\n",
       "      <td>2.323194</td>\n",
       "      <td>1034.447400</td>\n",
       "      <td>0.0</td>\n",
       "    </tr>\n",
       "    <tr>\n",
       "      <th>1971-03-31</th>\n",
       "      <td>99.16283</td>\n",
       "      <td>2.243524</td>\n",
       "      <td>1160.549739</td>\n",
       "      <td>0.0</td>\n",
       "    </tr>\n",
       "    <tr>\n",
       "      <th>1971-04-30</th>\n",
       "      <td>99.24342</td>\n",
       "      <td>1.877827</td>\n",
       "      <td>1240.684076</td>\n",
       "      <td>0.0</td>\n",
       "    </tr>\n",
       "  </tbody>\n",
       "</table>\n",
       "</div>"
      ],
      "text/plain": [
       "            CCI Value    Spread  Value of Copper  NBER_Rec\n",
       "Date                                                      \n",
       "1970-12-31   98.74387  1.390820      1029.989309       0.0\n",
       "1971-01-31   98.92701  1.687236      1000.560900       0.0\n",
       "1971-02-28   99.06342  2.323194      1034.447400       0.0\n",
       "1971-03-31   99.16283  2.243524      1160.549739       0.0\n",
       "1971-04-30   99.24342  1.877827      1240.684076       0.0"
      ]
     },
     "execution_count": 55,
     "metadata": {},
     "output_type": "execute_result"
    }
   ],
   "source": [
    "original_values.head()"
   ]
  },
  {
   "cell_type": "markdown",
   "metadata": {},
   "source": [
    "# Using Random Forest Algorithm"
   ]
  },
  {
   "cell_type": "code",
   "execution_count": 62,
   "metadata": {},
   "outputs": [],
   "source": [
    "#Splitting the data\n",
    "\n",
    "yt = original_values.NBER_Rec\n",
    "Xt= original_values.drop('NBER_Rec', axis=1)"
   ]
  },
  {
   "cell_type": "code",
   "execution_count": 63,
   "metadata": {},
   "outputs": [],
   "source": [
    "train_Xt, test_Xt, train_yt, test_yt = train_test_split(Xt, yt, test_size=0.2, stratify=yt)"
   ]
  },
  {
   "cell_type": "code",
   "execution_count": 64,
   "metadata": {},
   "outputs": [],
   "source": [
    "#RANDOM FOREST ALGO"
   ]
  },
  {
   "cell_type": "code",
   "execution_count": 65,
   "metadata": {},
   "outputs": [],
   "source": [
    "model_rf = RandomForestClassifier()"
   ]
  },
  {
   "cell_type": "code",
   "execution_count": 66,
   "metadata": {},
   "outputs": [
    {
     "data": {
      "text/plain": [
       "RandomForestClassifier(bootstrap=True, ccp_alpha=0.0, class_weight=None,\n",
       "                       criterion='gini', max_depth=None, max_features='auto',\n",
       "                       max_leaf_nodes=None, max_samples=None,\n",
       "                       min_impurity_decrease=0.0, min_impurity_split=None,\n",
       "                       min_samples_leaf=1, min_samples_split=2,\n",
       "                       min_weight_fraction_leaf=0.0, n_estimators=100,\n",
       "                       n_jobs=None, oob_score=False, random_state=None,\n",
       "                       verbose=0, warm_start=False)"
      ]
     },
     "execution_count": 66,
     "metadata": {},
     "output_type": "execute_result"
    }
   ],
   "source": [
    "model_rf.fit(train_Xt,train_yt)"
   ]
  },
  {
   "cell_type": "code",
   "execution_count": 67,
   "metadata": {},
   "outputs": [],
   "source": [
    "rf_predictions = model_rf.predict(test_Xt) # Random forest predictions"
   ]
  },
  {
   "cell_type": "code",
   "execution_count": 68,
   "metadata": {},
   "outputs": [],
   "source": [
    "rf_probs = model_rf.predict_proba(test_Xt)[:, 1]"
   ]
  },
  {
   "cell_type": "code",
   "execution_count": 69,
   "metadata": {},
   "outputs": [],
   "source": [
    "# Anlysing the efficiency of the algorithm"
   ]
  },
  {
   "cell_type": "code",
   "execution_count": 70,
   "metadata": {},
   "outputs": [],
   "source": [
    "#AUC-SCORE"
   ]
  },
  {
   "cell_type": "code",
   "execution_count": 71,
   "metadata": {},
   "outputs": [],
   "source": [
    "roc_value = roc_auc_score(test_yt, rf_probs)"
   ]
  },
  {
   "cell_type": "code",
   "execution_count": 72,
   "metadata": {},
   "outputs": [
    {
     "data": {
      "text/plain": [
       "0.9041895604395604"
      ]
     },
     "execution_count": 72,
     "metadata": {},
     "output_type": "execute_result"
    }
   ],
   "source": [
    "roc_value"
   ]
  },
  {
   "cell_type": "code",
   "execution_count": 73,
   "metadata": {},
   "outputs": [],
   "source": [
    "#Confusion Matrix & Accuracy"
   ]
  },
  {
   "cell_type": "code",
   "execution_count": 78,
   "metadata": {},
   "outputs": [
    {
     "name": "stdout",
     "output_type": "stream",
     "text": [
      "[[104   0]\n",
      " [  8   6]]\n",
      "0.9322033898305084\n"
     ]
    }
   ],
   "source": [
    "y_pred_t = model_rf.predict(test_Xt)\n",
    "\n",
    "print(confusion_matrix(test_yt, y_pred_t))\n",
    "print(accuracy_score(test_yt, y_pred_t))"
   ]
  },
  {
   "cell_type": "code",
   "execution_count": 79,
   "metadata": {},
   "outputs": [
    {
     "name": "stdout",
     "output_type": "stream",
     "text": [
      "[0. 0. 0. 0. 0. 0. 0. 0. 0. 0. 0. 0. 0. 0. 1. 0. 0. 0. 0. 0. 0. 0. 0. 0.\n",
      " 0. 0. 0. 0. 0. 0. 0. 0. 0. 0. 0. 0. 0. 0. 0. 0. 0. 0. 0. 0. 0. 0. 0. 0.\n",
      " 0. 0. 0. 0. 0. 0. 0. 1. 0. 0. 1. 0. 0. 0. 0. 0. 0. 0. 0. 0. 0. 0. 0. 0.\n",
      " 0. 0. 0. 0. 0. 0. 1. 0. 0. 0. 0. 0. 0. 0. 0. 1. 0. 0. 0. 0. 0. 0. 0. 0.\n",
      " 0. 0. 0. 0. 0. 0. 0. 0. 0. 0. 0. 0. 0. 1. 0. 0. 0. 0. 0. 0. 0. 0.]\n"
     ]
    }
   ],
   "source": [
    "print(rf_predictions)"
   ]
  },
  {
   "cell_type": "code",
   "execution_count": null,
   "metadata": {},
   "outputs": [],
   "source": [
    "# I will now use this fitted Random Forest Algorithm and use it on the forecast values Dataframe to predict recession"
   ]
  },
  {
   "cell_type": "code",
   "execution_count": 80,
   "metadata": {},
   "outputs": [],
   "source": [
    "forecast = pd.read_csv('/Users/vladimirautier/Documents/GitHub/Week9/Project-Week-9-Final-Project/your-project/Final Project/Modified:Cleaned Data/forecast_values.csv')"
   ]
  },
  {
   "cell_type": "code",
   "execution_count": 81,
   "metadata": {},
   "outputs": [
    {
     "data": {
      "text/html": [
       "<div>\n",
       "<style scoped>\n",
       "    .dataframe tbody tr th:only-of-type {\n",
       "        vertical-align: middle;\n",
       "    }\n",
       "\n",
       "    .dataframe tbody tr th {\n",
       "        vertical-align: top;\n",
       "    }\n",
       "\n",
       "    .dataframe thead th {\n",
       "        text-align: right;\n",
       "    }\n",
       "</style>\n",
       "<table border=\"1\" class=\"dataframe\">\n",
       "  <thead>\n",
       "    <tr style=\"text-align: right;\">\n",
       "      <th></th>\n",
       "      <th>Date</th>\n",
       "      <th>CCI forecast value</th>\n",
       "      <th>Spread forecast value</th>\n",
       "      <th>Copper forecast value</th>\n",
       "    </tr>\n",
       "  </thead>\n",
       "  <tbody>\n",
       "    <tr>\n",
       "      <th>0</th>\n",
       "      <td>2019-12-31</td>\n",
       "      <td>102.061426</td>\n",
       "      <td>1.897287</td>\n",
       "      <td>5762.266288</td>\n",
       "    </tr>\n",
       "    <tr>\n",
       "      <th>1</th>\n",
       "      <td>2020-01-31</td>\n",
       "      <td>101.988899</td>\n",
       "      <td>1.931208</td>\n",
       "      <td>5764.090938</td>\n",
       "    </tr>\n",
       "    <tr>\n",
       "      <th>2</th>\n",
       "      <td>2020-02-29</td>\n",
       "      <td>101.946537</td>\n",
       "      <td>1.959907</td>\n",
       "      <td>5869.088710</td>\n",
       "    </tr>\n",
       "    <tr>\n",
       "      <th>3</th>\n",
       "      <td>2020-03-31</td>\n",
       "      <td>102.048541</td>\n",
       "      <td>1.943971</td>\n",
       "      <td>5841.285785</td>\n",
       "    </tr>\n",
       "    <tr>\n",
       "      <th>4</th>\n",
       "      <td>2020-04-30</td>\n",
       "      <td>102.121244</td>\n",
       "      <td>2.028687</td>\n",
       "      <td>5835.889038</td>\n",
       "    </tr>\n",
       "  </tbody>\n",
       "</table>\n",
       "</div>"
      ],
      "text/plain": [
       "         Date  CCI forecast value  Spread forecast value  \\\n",
       "0  2019-12-31          102.061426               1.897287   \n",
       "1  2020-01-31          101.988899               1.931208   \n",
       "2  2020-02-29          101.946537               1.959907   \n",
       "3  2020-03-31          102.048541               1.943971   \n",
       "4  2020-04-30          102.121244               2.028687   \n",
       "\n",
       "   Copper forecast value  \n",
       "0            5762.266288  \n",
       "1            5764.090938  \n",
       "2            5869.088710  \n",
       "3            5841.285785  \n",
       "4            5835.889038  "
      ]
     },
     "execution_count": 81,
     "metadata": {},
     "output_type": "execute_result"
    }
   ],
   "source": [
    "forecast.head()"
   ]
  },
  {
   "cell_type": "code",
   "execution_count": 82,
   "metadata": {},
   "outputs": [],
   "source": [
    "forecast['Date'] = pd.to_datetime(forecast['Date']) "
   ]
  },
  {
   "cell_type": "code",
   "execution_count": 83,
   "metadata": {},
   "outputs": [],
   "source": [
    "forecast.set_index('Date', inplace=True)"
   ]
  },
  {
   "cell_type": "code",
   "execution_count": 84,
   "metadata": {},
   "outputs": [
    {
     "data": {
      "text/html": [
       "<div>\n",
       "<style scoped>\n",
       "    .dataframe tbody tr th:only-of-type {\n",
       "        vertical-align: middle;\n",
       "    }\n",
       "\n",
       "    .dataframe tbody tr th {\n",
       "        vertical-align: top;\n",
       "    }\n",
       "\n",
       "    .dataframe thead th {\n",
       "        text-align: right;\n",
       "    }\n",
       "</style>\n",
       "<table border=\"1\" class=\"dataframe\">\n",
       "  <thead>\n",
       "    <tr style=\"text-align: right;\">\n",
       "      <th></th>\n",
       "      <th>CCI forecast value</th>\n",
       "      <th>Spread forecast value</th>\n",
       "      <th>Copper forecast value</th>\n",
       "    </tr>\n",
       "    <tr>\n",
       "      <th>Date</th>\n",
       "      <th></th>\n",
       "      <th></th>\n",
       "      <th></th>\n",
       "    </tr>\n",
       "  </thead>\n",
       "  <tbody>\n",
       "    <tr>\n",
       "      <th>2019-12-31</th>\n",
       "      <td>102.061426</td>\n",
       "      <td>1.897287</td>\n",
       "      <td>5762.266288</td>\n",
       "    </tr>\n",
       "    <tr>\n",
       "      <th>2020-01-31</th>\n",
       "      <td>101.988899</td>\n",
       "      <td>1.931208</td>\n",
       "      <td>5764.090938</td>\n",
       "    </tr>\n",
       "    <tr>\n",
       "      <th>2020-02-29</th>\n",
       "      <td>101.946537</td>\n",
       "      <td>1.959907</td>\n",
       "      <td>5869.088710</td>\n",
       "    </tr>\n",
       "    <tr>\n",
       "      <th>2020-03-31</th>\n",
       "      <td>102.048541</td>\n",
       "      <td>1.943971</td>\n",
       "      <td>5841.285785</td>\n",
       "    </tr>\n",
       "    <tr>\n",
       "      <th>2020-04-30</th>\n",
       "      <td>102.121244</td>\n",
       "      <td>2.028687</td>\n",
       "      <td>5835.889038</td>\n",
       "    </tr>\n",
       "  </tbody>\n",
       "</table>\n",
       "</div>"
      ],
      "text/plain": [
       "            CCI forecast value  Spread forecast value  Copper forecast value\n",
       "Date                                                                        \n",
       "2019-12-31          102.061426               1.897287            5762.266288\n",
       "2020-01-31          101.988899               1.931208            5764.090938\n",
       "2020-02-29          101.946537               1.959907            5869.088710\n",
       "2020-03-31          102.048541               1.943971            5841.285785\n",
       "2020-04-30          102.121244               2.028687            5835.889038"
      ]
     },
     "execution_count": 84,
     "metadata": {},
     "output_type": "execute_result"
    }
   ],
   "source": [
    "forecast.head()"
   ]
  },
  {
   "cell_type": "code",
   "execution_count": 85,
   "metadata": {},
   "outputs": [],
   "source": [
    "rf_predictions = model_rf.predict(forecast)"
   ]
  },
  {
   "cell_type": "code",
   "execution_count": 86,
   "metadata": {},
   "outputs": [],
   "source": [
    "rf_probs = model_rf.predict_proba(forecast)[:, 1]"
   ]
  },
  {
   "cell_type": "code",
   "execution_count": 87,
   "metadata": {},
   "outputs": [
    {
     "name": "stdout",
     "output_type": "stream",
     "text": [
      "[0. 0. 0. 0. 0. 0. 0. 0. 0. 0. 0.]\n"
     ]
    }
   ],
   "source": [
    "print(rf_predictions)"
   ]
  },
  {
   "cell_type": "code",
   "execution_count": 88,
   "metadata": {},
   "outputs": [
    {
     "data": {
      "text/plain": [
       "numpy.ndarray"
      ]
     },
     "execution_count": 88,
     "metadata": {},
     "output_type": "execute_result"
    }
   ],
   "source": [
    "type(rf_predictions)"
   ]
  },
  {
   "cell_type": "code",
   "execution_count": 89,
   "metadata": {},
   "outputs": [],
   "source": [
    "new_series = pd.Series(rf_predictions)"
   ]
  },
  {
   "cell_type": "code",
   "execution_count": 90,
   "metadata": {},
   "outputs": [],
   "source": [
    "forecast['NBER_Rec'] = rf_predictions"
   ]
  },
  {
   "cell_type": "code",
   "execution_count": 91,
   "metadata": {},
   "outputs": [
    {
     "data": {
      "text/html": [
       "<div>\n",
       "<style scoped>\n",
       "    .dataframe tbody tr th:only-of-type {\n",
       "        vertical-align: middle;\n",
       "    }\n",
       "\n",
       "    .dataframe tbody tr th {\n",
       "        vertical-align: top;\n",
       "    }\n",
       "\n",
       "    .dataframe thead th {\n",
       "        text-align: right;\n",
       "    }\n",
       "</style>\n",
       "<table border=\"1\" class=\"dataframe\">\n",
       "  <thead>\n",
       "    <tr style=\"text-align: right;\">\n",
       "      <th></th>\n",
       "      <th>CCI forecast value</th>\n",
       "      <th>Spread forecast value</th>\n",
       "      <th>Copper forecast value</th>\n",
       "      <th>NBER_Rec</th>\n",
       "    </tr>\n",
       "    <tr>\n",
       "      <th>Date</th>\n",
       "      <th></th>\n",
       "      <th></th>\n",
       "      <th></th>\n",
       "      <th></th>\n",
       "    </tr>\n",
       "  </thead>\n",
       "  <tbody>\n",
       "    <tr>\n",
       "      <th>2019-12-31</th>\n",
       "      <td>102.061426</td>\n",
       "      <td>1.897287</td>\n",
       "      <td>5762.266288</td>\n",
       "      <td>0.0</td>\n",
       "    </tr>\n",
       "    <tr>\n",
       "      <th>2020-01-31</th>\n",
       "      <td>101.988899</td>\n",
       "      <td>1.931208</td>\n",
       "      <td>5764.090938</td>\n",
       "      <td>0.0</td>\n",
       "    </tr>\n",
       "    <tr>\n",
       "      <th>2020-02-29</th>\n",
       "      <td>101.946537</td>\n",
       "      <td>1.959907</td>\n",
       "      <td>5869.088710</td>\n",
       "      <td>0.0</td>\n",
       "    </tr>\n",
       "    <tr>\n",
       "      <th>2020-03-31</th>\n",
       "      <td>102.048541</td>\n",
       "      <td>1.943971</td>\n",
       "      <td>5841.285785</td>\n",
       "      <td>0.0</td>\n",
       "    </tr>\n",
       "    <tr>\n",
       "      <th>2020-04-30</th>\n",
       "      <td>102.121244</td>\n",
       "      <td>2.028687</td>\n",
       "      <td>5835.889038</td>\n",
       "      <td>0.0</td>\n",
       "    </tr>\n",
       "    <tr>\n",
       "      <th>2020-05-31</th>\n",
       "      <td>102.169202</td>\n",
       "      <td>2.096228</td>\n",
       "      <td>5795.636618</td>\n",
       "      <td>0.0</td>\n",
       "    </tr>\n",
       "    <tr>\n",
       "      <th>2020-06-30</th>\n",
       "      <td>102.163057</td>\n",
       "      <td>2.084937</td>\n",
       "      <td>5708.449673</td>\n",
       "      <td>0.0</td>\n",
       "    </tr>\n",
       "    <tr>\n",
       "      <th>2020-07-31</th>\n",
       "      <td>102.133214</td>\n",
       "      <td>2.018410</td>\n",
       "      <td>5749.931522</td>\n",
       "      <td>0.0</td>\n",
       "    </tr>\n",
       "    <tr>\n",
       "      <th>2020-08-31</th>\n",
       "      <td>102.133983</td>\n",
       "      <td>1.956485</td>\n",
       "      <td>5701.377373</td>\n",
       "      <td>0.0</td>\n",
       "    </tr>\n",
       "    <tr>\n",
       "      <th>2020-09-30</th>\n",
       "      <td>102.156798</td>\n",
       "      <td>1.960727</td>\n",
       "      <td>5668.041225</td>\n",
       "      <td>0.0</td>\n",
       "    </tr>\n",
       "    <tr>\n",
       "      <th>2020-10-31</th>\n",
       "      <td>102.163235</td>\n",
       "      <td>1.975724</td>\n",
       "      <td>5689.686096</td>\n",
       "      <td>0.0</td>\n",
       "    </tr>\n",
       "  </tbody>\n",
       "</table>\n",
       "</div>"
      ],
      "text/plain": [
       "            CCI forecast value  Spread forecast value  Copper forecast value  \\\n",
       "Date                                                                           \n",
       "2019-12-31          102.061426               1.897287            5762.266288   \n",
       "2020-01-31          101.988899               1.931208            5764.090938   \n",
       "2020-02-29          101.946537               1.959907            5869.088710   \n",
       "2020-03-31          102.048541               1.943971            5841.285785   \n",
       "2020-04-30          102.121244               2.028687            5835.889038   \n",
       "2020-05-31          102.169202               2.096228            5795.636618   \n",
       "2020-06-30          102.163057               2.084937            5708.449673   \n",
       "2020-07-31          102.133214               2.018410            5749.931522   \n",
       "2020-08-31          102.133983               1.956485            5701.377373   \n",
       "2020-09-30          102.156798               1.960727            5668.041225   \n",
       "2020-10-31          102.163235               1.975724            5689.686096   \n",
       "\n",
       "            NBER_Rec  \n",
       "Date                  \n",
       "2019-12-31       0.0  \n",
       "2020-01-31       0.0  \n",
       "2020-02-29       0.0  \n",
       "2020-03-31       0.0  \n",
       "2020-04-30       0.0  \n",
       "2020-05-31       0.0  \n",
       "2020-06-30       0.0  \n",
       "2020-07-31       0.0  \n",
       "2020-08-31       0.0  \n",
       "2020-09-30       0.0  \n",
       "2020-10-31       0.0  "
      ]
     },
     "execution_count": 91,
     "metadata": {},
     "output_type": "execute_result"
    }
   ],
   "source": [
    "forecast"
   ]
  },
  {
   "cell_type": "code",
   "execution_count": 92,
   "metadata": {},
   "outputs": [],
   "source": [
    "# Here we have the predicted economic situation regarding the chosen estimators\n",
    "# NOOOO RECESSION IN THE YEAR TO COME"
   ]
  },
  {
   "cell_type": "code",
   "execution_count": null,
   "metadata": {},
   "outputs": [],
   "source": []
  },
  {
   "cell_type": "code",
   "execution_count": null,
   "metadata": {},
   "outputs": [],
   "source": []
  },
  {
   "cell_type": "markdown",
   "metadata": {},
   "source": [
    "# Looking at all the economic estimators without copper"
   ]
  },
  {
   "cell_type": "code",
   "execution_count": 96,
   "metadata": {},
   "outputs": [],
   "source": [
    "# We have to take into account that this has been done using Year resampling in oder to keep the GDP(which evolves yearly)."
   ]
  },
  {
   "cell_type": "code",
   "execution_count": 94,
   "metadata": {},
   "outputs": [],
   "source": [
    "eco_indicators = pd.read_csv('/Users/vladimirautier/Documents/GitHub/Week9/Project-Week-9-Final-Project/your-project/Final Project/Modified:Cleaned Data/df_gdp_yield_cci_yre.csv')"
   ]
  },
  {
   "cell_type": "code",
   "execution_count": 95,
   "metadata": {},
   "outputs": [
    {
     "data": {
      "text/html": [
       "<div>\n",
       "<style scoped>\n",
       "    .dataframe tbody tr th:only-of-type {\n",
       "        vertical-align: middle;\n",
       "    }\n",
       "\n",
       "    .dataframe tbody tr th {\n",
       "        vertical-align: top;\n",
       "    }\n",
       "\n",
       "    .dataframe thead th {\n",
       "        text-align: right;\n",
       "    }\n",
       "</style>\n",
       "<table border=\"1\" class=\"dataframe\">\n",
       "  <thead>\n",
       "    <tr style=\"text-align: right;\">\n",
       "      <th></th>\n",
       "      <th>Date</th>\n",
       "      <th>CCI Value</th>\n",
       "      <th>GDP per capita growth (annual %)</th>\n",
       "      <th>index</th>\n",
       "      <th>10 Year Treasury Yield</th>\n",
       "      <th>3 Month Treasury Yield</th>\n",
       "      <th>3 Month Treasury Yield (Bond Equivalent Basis)</th>\n",
       "      <th>Spread</th>\n",
       "      <th>Rec_prob</th>\n",
       "      <th>NBER_Rec</th>\n",
       "      <th>Year</th>\n",
       "    </tr>\n",
       "  </thead>\n",
       "  <tbody>\n",
       "    <tr>\n",
       "      <th>0</th>\n",
       "      <td>1970-12-31</td>\n",
       "      <td>98.743870</td>\n",
       "      <td>1.552273</td>\n",
       "      <td>125.5</td>\n",
       "      <td>7.348333</td>\n",
       "      <td>6.391667</td>\n",
       "      <td>6.588419</td>\n",
       "      <td>0.759914</td>\n",
       "      <td>0.344521</td>\n",
       "      <td>1.0</td>\n",
       "      <td>1970</td>\n",
       "    </tr>\n",
       "    <tr>\n",
       "      <th>1</th>\n",
       "      <td>1971-12-31</td>\n",
       "      <td>99.425517</td>\n",
       "      <td>2.188471</td>\n",
       "      <td>137.5</td>\n",
       "      <td>6.159167</td>\n",
       "      <td>4.332500</td>\n",
       "      <td>4.442091</td>\n",
       "      <td>1.717076</td>\n",
       "      <td>0.168818</td>\n",
       "      <td>0.0</td>\n",
       "      <td>1971</td>\n",
       "    </tr>\n",
       "    <tr>\n",
       "      <th>2</th>\n",
       "      <td>1972-12-31</td>\n",
       "      <td>100.458448</td>\n",
       "      <td>3.620346</td>\n",
       "      <td>149.5</td>\n",
       "      <td>6.210000</td>\n",
       "      <td>4.072500</td>\n",
       "      <td>4.172884</td>\n",
       "      <td>2.037116</td>\n",
       "      <td>0.056955</td>\n",
       "      <td>0.0</td>\n",
       "      <td>1972</td>\n",
       "    </tr>\n",
       "    <tr>\n",
       "      <th>3</th>\n",
       "      <td>1973-12-31</td>\n",
       "      <td>98.640602</td>\n",
       "      <td>4.452205</td>\n",
       "      <td>161.5</td>\n",
       "      <td>6.842500</td>\n",
       "      <td>7.031667</td>\n",
       "      <td>7.261206</td>\n",
       "      <td>-0.418706</td>\n",
       "      <td>0.040342</td>\n",
       "      <td>1.0</td>\n",
       "      <td>1973</td>\n",
       "    </tr>\n",
       "    <tr>\n",
       "      <th>4</th>\n",
       "      <td>1974-12-31</td>\n",
       "      <td>98.089943</td>\n",
       "      <td>0.050785</td>\n",
       "      <td>173.5</td>\n",
       "      <td>7.557500</td>\n",
       "      <td>7.830000</td>\n",
       "      <td>8.099749</td>\n",
       "      <td>-0.542249</td>\n",
       "      <td>0.410346</td>\n",
       "      <td>1.0</td>\n",
       "      <td>1974</td>\n",
       "    </tr>\n",
       "  </tbody>\n",
       "</table>\n",
       "</div>"
      ],
      "text/plain": [
       "         Date   CCI Value  GDP per capita growth (annual %)  index  \\\n",
       "0  1970-12-31   98.743870                          1.552273  125.5   \n",
       "1  1971-12-31   99.425517                          2.188471  137.5   \n",
       "2  1972-12-31  100.458448                          3.620346  149.5   \n",
       "3  1973-12-31   98.640602                          4.452205  161.5   \n",
       "4  1974-12-31   98.089943                          0.050785  173.5   \n",
       "\n",
       "   10 Year Treasury Yield  3 Month Treasury Yield  \\\n",
       "0                7.348333                6.391667   \n",
       "1                6.159167                4.332500   \n",
       "2                6.210000                4.072500   \n",
       "3                6.842500                7.031667   \n",
       "4                7.557500                7.830000   \n",
       "\n",
       "   3 Month Treasury Yield (Bond Equivalent Basis)    Spread  Rec_prob  \\\n",
       "0                                        6.588419  0.759914  0.344521   \n",
       "1                                        4.442091  1.717076  0.168818   \n",
       "2                                        4.172884  2.037116  0.056955   \n",
       "3                                        7.261206 -0.418706  0.040342   \n",
       "4                                        8.099749 -0.542249  0.410346   \n",
       "\n",
       "   NBER_Rec  Year  \n",
       "0       1.0  1970  \n",
       "1       0.0  1971  \n",
       "2       0.0  1972  \n",
       "3       1.0  1973  \n",
       "4       1.0  1974  "
      ]
     },
     "execution_count": 95,
     "metadata": {},
     "output_type": "execute_result"
    }
   ],
   "source": [
    "eco_indicators.head()"
   ]
  },
  {
   "cell_type": "code",
   "execution_count": 98,
   "metadata": {},
   "outputs": [],
   "source": [
    "#Droping columns (rec_prob is in % and I decide to drop it as well) to keep essential ones\n",
    "\n",
    "eco_indicators.drop(['index','10 Year Treasury Yield','3 Month Treasury Yield','3 Month Treasury Yield (Bond Equivalent Basis)','Year','Rec_prob'],axis=1,inplace=True)"
   ]
  },
  {
   "cell_type": "code",
   "execution_count": 99,
   "metadata": {},
   "outputs": [
    {
     "data": {
      "text/html": [
       "<div>\n",
       "<style scoped>\n",
       "    .dataframe tbody tr th:only-of-type {\n",
       "        vertical-align: middle;\n",
       "    }\n",
       "\n",
       "    .dataframe tbody tr th {\n",
       "        vertical-align: top;\n",
       "    }\n",
       "\n",
       "    .dataframe thead th {\n",
       "        text-align: right;\n",
       "    }\n",
       "</style>\n",
       "<table border=\"1\" class=\"dataframe\">\n",
       "  <thead>\n",
       "    <tr style=\"text-align: right;\">\n",
       "      <th></th>\n",
       "      <th>Date</th>\n",
       "      <th>CCI Value</th>\n",
       "      <th>GDP per capita growth (annual %)</th>\n",
       "      <th>Spread</th>\n",
       "      <th>NBER_Rec</th>\n",
       "    </tr>\n",
       "  </thead>\n",
       "  <tbody>\n",
       "    <tr>\n",
       "      <th>0</th>\n",
       "      <td>1970-12-31</td>\n",
       "      <td>98.743870</td>\n",
       "      <td>1.552273</td>\n",
       "      <td>0.759914</td>\n",
       "      <td>1.0</td>\n",
       "    </tr>\n",
       "    <tr>\n",
       "      <th>1</th>\n",
       "      <td>1971-12-31</td>\n",
       "      <td>99.425517</td>\n",
       "      <td>2.188471</td>\n",
       "      <td>1.717076</td>\n",
       "      <td>0.0</td>\n",
       "    </tr>\n",
       "    <tr>\n",
       "      <th>2</th>\n",
       "      <td>1972-12-31</td>\n",
       "      <td>100.458448</td>\n",
       "      <td>3.620346</td>\n",
       "      <td>2.037116</td>\n",
       "      <td>0.0</td>\n",
       "    </tr>\n",
       "    <tr>\n",
       "      <th>3</th>\n",
       "      <td>1973-12-31</td>\n",
       "      <td>98.640602</td>\n",
       "      <td>4.452205</td>\n",
       "      <td>-0.418706</td>\n",
       "      <td>1.0</td>\n",
       "    </tr>\n",
       "    <tr>\n",
       "      <th>4</th>\n",
       "      <td>1974-12-31</td>\n",
       "      <td>98.089943</td>\n",
       "      <td>0.050785</td>\n",
       "      <td>-0.542249</td>\n",
       "      <td>1.0</td>\n",
       "    </tr>\n",
       "  </tbody>\n",
       "</table>\n",
       "</div>"
      ],
      "text/plain": [
       "         Date   CCI Value  GDP per capita growth (annual %)    Spread  \\\n",
       "0  1970-12-31   98.743870                          1.552273  0.759914   \n",
       "1  1971-12-31   99.425517                          2.188471  1.717076   \n",
       "2  1972-12-31  100.458448                          3.620346  2.037116   \n",
       "3  1973-12-31   98.640602                          4.452205 -0.418706   \n",
       "4  1974-12-31   98.089943                          0.050785 -0.542249   \n",
       "\n",
       "   NBER_Rec  \n",
       "0       1.0  \n",
       "1       0.0  \n",
       "2       0.0  \n",
       "3       1.0  \n",
       "4       1.0  "
      ]
     },
     "execution_count": 99,
     "metadata": {},
     "output_type": "execute_result"
    }
   ],
   "source": [
    "eco_indicators.head()"
   ]
  },
  {
   "cell_type": "code",
   "execution_count": 100,
   "metadata": {},
   "outputs": [],
   "source": [
    "eco_indicators['Date'] =  pd.to_datetime(eco_indicators['Date'])"
   ]
  },
  {
   "cell_type": "code",
   "execution_count": 101,
   "metadata": {},
   "outputs": [],
   "source": [
    "eco_indicators.set_index('Date', inplace=True)"
   ]
  },
  {
   "cell_type": "code",
   "execution_count": 102,
   "metadata": {},
   "outputs": [
    {
     "data": {
      "text/html": [
       "<div>\n",
       "<style scoped>\n",
       "    .dataframe tbody tr th:only-of-type {\n",
       "        vertical-align: middle;\n",
       "    }\n",
       "\n",
       "    .dataframe tbody tr th {\n",
       "        vertical-align: top;\n",
       "    }\n",
       "\n",
       "    .dataframe thead th {\n",
       "        text-align: right;\n",
       "    }\n",
       "</style>\n",
       "<table border=\"1\" class=\"dataframe\">\n",
       "  <thead>\n",
       "    <tr style=\"text-align: right;\">\n",
       "      <th></th>\n",
       "      <th>CCI Value</th>\n",
       "      <th>GDP per capita growth (annual %)</th>\n",
       "      <th>Spread</th>\n",
       "      <th>NBER_Rec</th>\n",
       "    </tr>\n",
       "    <tr>\n",
       "      <th>Date</th>\n",
       "      <th></th>\n",
       "      <th></th>\n",
       "      <th></th>\n",
       "      <th></th>\n",
       "    </tr>\n",
       "  </thead>\n",
       "  <tbody>\n",
       "    <tr>\n",
       "      <th>1970-12-31</th>\n",
       "      <td>98.743870</td>\n",
       "      <td>1.552273</td>\n",
       "      <td>0.759914</td>\n",
       "      <td>1.0</td>\n",
       "    </tr>\n",
       "    <tr>\n",
       "      <th>1971-12-31</th>\n",
       "      <td>99.425517</td>\n",
       "      <td>2.188471</td>\n",
       "      <td>1.717076</td>\n",
       "      <td>0.0</td>\n",
       "    </tr>\n",
       "    <tr>\n",
       "      <th>1972-12-31</th>\n",
       "      <td>100.458448</td>\n",
       "      <td>3.620346</td>\n",
       "      <td>2.037116</td>\n",
       "      <td>0.0</td>\n",
       "    </tr>\n",
       "    <tr>\n",
       "      <th>1973-12-31</th>\n",
       "      <td>98.640602</td>\n",
       "      <td>4.452205</td>\n",
       "      <td>-0.418706</td>\n",
       "      <td>1.0</td>\n",
       "    </tr>\n",
       "    <tr>\n",
       "      <th>1974-12-31</th>\n",
       "      <td>98.089943</td>\n",
       "      <td>0.050785</td>\n",
       "      <td>-0.542249</td>\n",
       "      <td>1.0</td>\n",
       "    </tr>\n",
       "  </tbody>\n",
       "</table>\n",
       "</div>"
      ],
      "text/plain": [
       "             CCI Value  GDP per capita growth (annual %)    Spread  NBER_Rec\n",
       "Date                                                                        \n",
       "1970-12-31   98.743870                          1.552273  0.759914       1.0\n",
       "1971-12-31   99.425517                          2.188471  1.717076       0.0\n",
       "1972-12-31  100.458448                          3.620346  2.037116       0.0\n",
       "1973-12-31   98.640602                          4.452205 -0.418706       1.0\n",
       "1974-12-31   98.089943                          0.050785 -0.542249       1.0"
      ]
     },
     "execution_count": 102,
     "metadata": {},
     "output_type": "execute_result"
    }
   ],
   "source": [
    "eco_indicators.head()"
   ]
  },
  {
   "cell_type": "code",
   "execution_count": 103,
   "metadata": {},
   "outputs": [],
   "source": [
    "#Splitting the data\n",
    "\n",
    "y = eco_indicators.NBER_Rec\n",
    "X= eco_indicators.drop('NBER_Rec', axis=1)"
   ]
  },
  {
   "cell_type": "code",
   "execution_count": 104,
   "metadata": {},
   "outputs": [],
   "source": [
    "#Training the data\n",
    "\n",
    "import sklearn\n",
    "from sklearn.model_selection import train_test_split"
   ]
  },
  {
   "cell_type": "code",
   "execution_count": 105,
   "metadata": {},
   "outputs": [],
   "source": [
    "train_X, test_X, train_y, test_y = train_test_split(X, y, test_size=0.2,stratify=y)"
   ]
  },
  {
   "cell_type": "code",
   "execution_count": 106,
   "metadata": {},
   "outputs": [],
   "source": [
    "#RANDOM FOREST ALGO"
   ]
  },
  {
   "cell_type": "code",
   "execution_count": 107,
   "metadata": {},
   "outputs": [],
   "source": [
    "model_rf = RandomForestClassifier()"
   ]
  },
  {
   "cell_type": "code",
   "execution_count": 108,
   "metadata": {},
   "outputs": [
    {
     "data": {
      "text/plain": [
       "RandomForestClassifier(bootstrap=True, ccp_alpha=0.0, class_weight=None,\n",
       "                       criterion='gini', max_depth=None, max_features='auto',\n",
       "                       max_leaf_nodes=None, max_samples=None,\n",
       "                       min_impurity_decrease=0.0, min_impurity_split=None,\n",
       "                       min_samples_leaf=1, min_samples_split=2,\n",
       "                       min_weight_fraction_leaf=0.0, n_estimators=100,\n",
       "                       n_jobs=None, oob_score=False, random_state=None,\n",
       "                       verbose=0, warm_start=False)"
      ]
     },
     "execution_count": 108,
     "metadata": {},
     "output_type": "execute_result"
    }
   ],
   "source": [
    "model_rf.fit(train_X,train_y)"
   ]
  },
  {
   "cell_type": "code",
   "execution_count": 109,
   "metadata": {},
   "outputs": [],
   "source": [
    "rf_predictions = model_rf.predict(test_X)"
   ]
  },
  {
   "cell_type": "code",
   "execution_count": 110,
   "metadata": {},
   "outputs": [],
   "source": [
    "rf_probs = model_rf.predict_proba(test_X)[:, 1]"
   ]
  },
  {
   "cell_type": "code",
   "execution_count": 111,
   "metadata": {},
   "outputs": [],
   "source": [
    "# Anlysing the efficiency of the algorithm"
   ]
  },
  {
   "cell_type": "code",
   "execution_count": 112,
   "metadata": {},
   "outputs": [],
   "source": [
    "#AUC-SCORE"
   ]
  },
  {
   "cell_type": "code",
   "execution_count": 113,
   "metadata": {},
   "outputs": [],
   "source": [
    "roc_value = roc_auc_score(test_y, rf_probs)"
   ]
  },
  {
   "cell_type": "code",
   "execution_count": 114,
   "metadata": {},
   "outputs": [
    {
     "data": {
      "text/plain": [
       "0.8125"
      ]
     },
     "execution_count": 114,
     "metadata": {},
     "output_type": "execute_result"
    }
   ],
   "source": [
    "roc_value"
   ]
  },
  {
   "cell_type": "code",
   "execution_count": 115,
   "metadata": {},
   "outputs": [],
   "source": [
    "#CONFUSION MATRIX & ACCURACY"
   ]
  },
  {
   "cell_type": "code",
   "execution_count": 116,
   "metadata": {},
   "outputs": [
    {
     "name": "stdout",
     "output_type": "stream",
     "text": [
      "[[7 1]\n",
      " [1 1]]\n",
      "0.8\n"
     ]
    }
   ],
   "source": [
    "y_pred_CM = model_rf.predict(test_X)\n",
    "\n",
    "print(confusion_matrix(test_y, y_pred_CM))\n",
    "print(accuracy_score(test_y, y_pred_CM))"
   ]
  },
  {
   "cell_type": "code",
   "execution_count": 117,
   "metadata": {},
   "outputs": [],
   "source": [
    "#CROSS-VALIDATION"
   ]
  },
  {
   "cell_type": "code",
   "execution_count": 120,
   "metadata": {},
   "outputs": [],
   "source": [
    "cv_results = cross_validate(model_rf, X, y, cv=3)"
   ]
  },
  {
   "cell_type": "code",
   "execution_count": 121,
   "metadata": {},
   "outputs": [
    {
     "data": {
      "text/plain": [
       "['fit_time', 'score_time', 'test_score']"
      ]
     },
     "execution_count": 121,
     "metadata": {},
     "output_type": "execute_result"
    }
   ],
   "source": [
    "sorted(cv_results.keys())"
   ]
  },
  {
   "cell_type": "code",
   "execution_count": 122,
   "metadata": {},
   "outputs": [
    {
     "data": {
      "text/plain": [
       "array([0.82352941, 0.8125    , 0.6875    ])"
      ]
     },
     "execution_count": 122,
     "metadata": {},
     "output_type": "execute_result"
    }
   ],
   "source": [
    "cv_results['test_score']"
   ]
  },
  {
   "cell_type": "code",
   "execution_count": null,
   "metadata": {},
   "outputs": [],
   "source": []
  },
  {
   "cell_type": "markdown",
   "metadata": {},
   "source": [
    "# Looking at CCI & Yield (Spread) without copper"
   ]
  },
  {
   "cell_type": "code",
   "execution_count": 135,
   "metadata": {},
   "outputs": [],
   "source": [
    "## We have to take into account that this has been done using month resampling because here I frop GDP(which evolves yearly)."
   ]
  },
  {
   "cell_type": "code",
   "execution_count": 136,
   "metadata": {},
   "outputs": [],
   "source": [
    "yield_cci = pd.read_csv('/Users/vladimirautier/Documents/GitHub/Week9/Project-Week-9-Final-Project/your-project/Final Project/Modified:Cleaned Data/yield_curve_cci_mre.csv')"
   ]
  },
  {
   "cell_type": "code",
   "execution_count": 137,
   "metadata": {},
   "outputs": [
    {
     "data": {
      "text/html": [
       "<div>\n",
       "<style scoped>\n",
       "    .dataframe tbody tr th:only-of-type {\n",
       "        vertical-align: middle;\n",
       "    }\n",
       "\n",
       "    .dataframe tbody tr th {\n",
       "        vertical-align: top;\n",
       "    }\n",
       "\n",
       "    .dataframe thead th {\n",
       "        text-align: right;\n",
       "    }\n",
       "</style>\n",
       "<table border=\"1\" class=\"dataframe\">\n",
       "  <thead>\n",
       "    <tr style=\"text-align: right;\">\n",
       "      <th></th>\n",
       "      <th>Date</th>\n",
       "      <th>10 Year Treasury Yield</th>\n",
       "      <th>3 Month Treasury Yield</th>\n",
       "      <th>3 Month Treasury Yield (Bond Equivalent Basis)</th>\n",
       "      <th>Spread</th>\n",
       "      <th>Rec_prob</th>\n",
       "      <th>NBER_Rec</th>\n",
       "      <th>Year</th>\n",
       "      <th>CCI Value</th>\n",
       "    </tr>\n",
       "  </thead>\n",
       "  <tbody>\n",
       "    <tr>\n",
       "      <th>0</th>\n",
       "      <td>1970-12-31</td>\n",
       "      <td>6.39</td>\n",
       "      <td>4.87</td>\n",
       "      <td>4.999180</td>\n",
       "      <td>1.390820</td>\n",
       "      <td>0.399079</td>\n",
       "      <td>0.0</td>\n",
       "      <td>1970</td>\n",
       "      <td>98.74387</td>\n",
       "    </tr>\n",
       "    <tr>\n",
       "      <th>1</th>\n",
       "      <td>1971-01-31</td>\n",
       "      <td>6.24</td>\n",
       "      <td>4.44</td>\n",
       "      <td>4.552764</td>\n",
       "      <td>1.687236</td>\n",
       "      <td>0.377920</td>\n",
       "      <td>0.0</td>\n",
       "      <td>1971</td>\n",
       "      <td>98.92701</td>\n",
       "    </tr>\n",
       "    <tr>\n",
       "      <th>2</th>\n",
       "      <td>1971-02-28</td>\n",
       "      <td>6.11</td>\n",
       "      <td>3.70</td>\n",
       "      <td>3.786806</td>\n",
       "      <td>2.323194</td>\n",
       "      <td>0.324102</td>\n",
       "      <td>0.0</td>\n",
       "      <td>1971</td>\n",
       "      <td>99.06342</td>\n",
       "    </tr>\n",
       "    <tr>\n",
       "      <th>3</th>\n",
       "      <td>1971-03-31</td>\n",
       "      <td>5.70</td>\n",
       "      <td>3.38</td>\n",
       "      <td>3.456476</td>\n",
       "      <td>2.243524</td>\n",
       "      <td>0.247934</td>\n",
       "      <td>0.0</td>\n",
       "      <td>1971</td>\n",
       "      <td>99.16283</td>\n",
       "    </tr>\n",
       "    <tr>\n",
       "      <th>4</th>\n",
       "      <td>1971-04-30</td>\n",
       "      <td>5.83</td>\n",
       "      <td>3.86</td>\n",
       "      <td>3.952173</td>\n",
       "      <td>1.877827</td>\n",
       "      <td>0.167723</td>\n",
       "      <td>0.0</td>\n",
       "      <td>1971</td>\n",
       "      <td>99.24342</td>\n",
       "    </tr>\n",
       "  </tbody>\n",
       "</table>\n",
       "</div>"
      ],
      "text/plain": [
       "         Date  10 Year Treasury Yield  3 Month Treasury Yield  \\\n",
       "0  1970-12-31                    6.39                    4.87   \n",
       "1  1971-01-31                    6.24                    4.44   \n",
       "2  1971-02-28                    6.11                    3.70   \n",
       "3  1971-03-31                    5.70                    3.38   \n",
       "4  1971-04-30                    5.83                    3.86   \n",
       "\n",
       "   3 Month Treasury Yield (Bond Equivalent Basis)    Spread  Rec_prob  \\\n",
       "0                                        4.999180  1.390820  0.399079   \n",
       "1                                        4.552764  1.687236  0.377920   \n",
       "2                                        3.786806  2.323194  0.324102   \n",
       "3                                        3.456476  2.243524  0.247934   \n",
       "4                                        3.952173  1.877827  0.167723   \n",
       "\n",
       "   NBER_Rec  Year  CCI Value  \n",
       "0       0.0  1970   98.74387  \n",
       "1       0.0  1971   98.92701  \n",
       "2       0.0  1971   99.06342  \n",
       "3       0.0  1971   99.16283  \n",
       "4       0.0  1971   99.24342  "
      ]
     },
     "execution_count": 137,
     "metadata": {},
     "output_type": "execute_result"
    }
   ],
   "source": [
    "yield_cci.head()"
   ]
  },
  {
   "cell_type": "code",
   "execution_count": 138,
   "metadata": {},
   "outputs": [],
   "source": [
    "##Droping columns (rec_prob is in % and I decide to drop it as well) to keep essential ones\n",
    "\n",
    "yield_cci.drop(['10 Year Treasury Yield','3 Month Treasury Yield','3 Month Treasury Yield (Bond Equivalent Basis)','Year','Rec_prob'],axis=1,inplace=True)"
   ]
  },
  {
   "cell_type": "code",
   "execution_count": 139,
   "metadata": {},
   "outputs": [
    {
     "data": {
      "text/html": [
       "<div>\n",
       "<style scoped>\n",
       "    .dataframe tbody tr th:only-of-type {\n",
       "        vertical-align: middle;\n",
       "    }\n",
       "\n",
       "    .dataframe tbody tr th {\n",
       "        vertical-align: top;\n",
       "    }\n",
       "\n",
       "    .dataframe thead th {\n",
       "        text-align: right;\n",
       "    }\n",
       "</style>\n",
       "<table border=\"1\" class=\"dataframe\">\n",
       "  <thead>\n",
       "    <tr style=\"text-align: right;\">\n",
       "      <th></th>\n",
       "      <th>Date</th>\n",
       "      <th>Spread</th>\n",
       "      <th>NBER_Rec</th>\n",
       "      <th>CCI Value</th>\n",
       "    </tr>\n",
       "  </thead>\n",
       "  <tbody>\n",
       "    <tr>\n",
       "      <th>0</th>\n",
       "      <td>1970-12-31</td>\n",
       "      <td>1.390820</td>\n",
       "      <td>0.0</td>\n",
       "      <td>98.74387</td>\n",
       "    </tr>\n",
       "    <tr>\n",
       "      <th>1</th>\n",
       "      <td>1971-01-31</td>\n",
       "      <td>1.687236</td>\n",
       "      <td>0.0</td>\n",
       "      <td>98.92701</td>\n",
       "    </tr>\n",
       "    <tr>\n",
       "      <th>2</th>\n",
       "      <td>1971-02-28</td>\n",
       "      <td>2.323194</td>\n",
       "      <td>0.0</td>\n",
       "      <td>99.06342</td>\n",
       "    </tr>\n",
       "    <tr>\n",
       "      <th>3</th>\n",
       "      <td>1971-03-31</td>\n",
       "      <td>2.243524</td>\n",
       "      <td>0.0</td>\n",
       "      <td>99.16283</td>\n",
       "    </tr>\n",
       "    <tr>\n",
       "      <th>4</th>\n",
       "      <td>1971-04-30</td>\n",
       "      <td>1.877827</td>\n",
       "      <td>0.0</td>\n",
       "      <td>99.24342</td>\n",
       "    </tr>\n",
       "  </tbody>\n",
       "</table>\n",
       "</div>"
      ],
      "text/plain": [
       "         Date    Spread  NBER_Rec  CCI Value\n",
       "0  1970-12-31  1.390820       0.0   98.74387\n",
       "1  1971-01-31  1.687236       0.0   98.92701\n",
       "2  1971-02-28  2.323194       0.0   99.06342\n",
       "3  1971-03-31  2.243524       0.0   99.16283\n",
       "4  1971-04-30  1.877827       0.0   99.24342"
      ]
     },
     "execution_count": 139,
     "metadata": {},
     "output_type": "execute_result"
    }
   ],
   "source": [
    "yield_cci.head()"
   ]
  },
  {
   "cell_type": "code",
   "execution_count": 140,
   "metadata": {},
   "outputs": [],
   "source": [
    "# Ordering columns\n",
    "\n",
    "yield_cci = yield_cci[['Date','Spread','CCI Value','NBER_Rec']]"
   ]
  },
  {
   "cell_type": "code",
   "execution_count": 141,
   "metadata": {},
   "outputs": [
    {
     "data": {
      "text/html": [
       "<div>\n",
       "<style scoped>\n",
       "    .dataframe tbody tr th:only-of-type {\n",
       "        vertical-align: middle;\n",
       "    }\n",
       "\n",
       "    .dataframe tbody tr th {\n",
       "        vertical-align: top;\n",
       "    }\n",
       "\n",
       "    .dataframe thead th {\n",
       "        text-align: right;\n",
       "    }\n",
       "</style>\n",
       "<table border=\"1\" class=\"dataframe\">\n",
       "  <thead>\n",
       "    <tr style=\"text-align: right;\">\n",
       "      <th></th>\n",
       "      <th>Date</th>\n",
       "      <th>Spread</th>\n",
       "      <th>CCI Value</th>\n",
       "      <th>NBER_Rec</th>\n",
       "    </tr>\n",
       "  </thead>\n",
       "  <tbody>\n",
       "    <tr>\n",
       "      <th>0</th>\n",
       "      <td>1970-12-31</td>\n",
       "      <td>1.390820</td>\n",
       "      <td>98.74387</td>\n",
       "      <td>0.0</td>\n",
       "    </tr>\n",
       "    <tr>\n",
       "      <th>1</th>\n",
       "      <td>1971-01-31</td>\n",
       "      <td>1.687236</td>\n",
       "      <td>98.92701</td>\n",
       "      <td>0.0</td>\n",
       "    </tr>\n",
       "    <tr>\n",
       "      <th>2</th>\n",
       "      <td>1971-02-28</td>\n",
       "      <td>2.323194</td>\n",
       "      <td>99.06342</td>\n",
       "      <td>0.0</td>\n",
       "    </tr>\n",
       "    <tr>\n",
       "      <th>3</th>\n",
       "      <td>1971-03-31</td>\n",
       "      <td>2.243524</td>\n",
       "      <td>99.16283</td>\n",
       "      <td>0.0</td>\n",
       "    </tr>\n",
       "    <tr>\n",
       "      <th>4</th>\n",
       "      <td>1971-04-30</td>\n",
       "      <td>1.877827</td>\n",
       "      <td>99.24342</td>\n",
       "      <td>0.0</td>\n",
       "    </tr>\n",
       "  </tbody>\n",
       "</table>\n",
       "</div>"
      ],
      "text/plain": [
       "         Date    Spread  CCI Value  NBER_Rec\n",
       "0  1970-12-31  1.390820   98.74387       0.0\n",
       "1  1971-01-31  1.687236   98.92701       0.0\n",
       "2  1971-02-28  2.323194   99.06342       0.0\n",
       "3  1971-03-31  2.243524   99.16283       0.0\n",
       "4  1971-04-30  1.877827   99.24342       0.0"
      ]
     },
     "execution_count": 141,
     "metadata": {},
     "output_type": "execute_result"
    }
   ],
   "source": [
    "yield_cci.head()"
   ]
  },
  {
   "cell_type": "code",
   "execution_count": 142,
   "metadata": {},
   "outputs": [],
   "source": [
    "yield_cci['Date'] =  pd.to_datetime(yield_cci['Date'])"
   ]
  },
  {
   "cell_type": "code",
   "execution_count": 143,
   "metadata": {},
   "outputs": [],
   "source": [
    "yield_cci.set_index('Date', inplace=True)"
   ]
  },
  {
   "cell_type": "code",
   "execution_count": 144,
   "metadata": {},
   "outputs": [
    {
     "data": {
      "text/html": [
       "<div>\n",
       "<style scoped>\n",
       "    .dataframe tbody tr th:only-of-type {\n",
       "        vertical-align: middle;\n",
       "    }\n",
       "\n",
       "    .dataframe tbody tr th {\n",
       "        vertical-align: top;\n",
       "    }\n",
       "\n",
       "    .dataframe thead th {\n",
       "        text-align: right;\n",
       "    }\n",
       "</style>\n",
       "<table border=\"1\" class=\"dataframe\">\n",
       "  <thead>\n",
       "    <tr style=\"text-align: right;\">\n",
       "      <th></th>\n",
       "      <th>Spread</th>\n",
       "      <th>CCI Value</th>\n",
       "      <th>NBER_Rec</th>\n",
       "    </tr>\n",
       "    <tr>\n",
       "      <th>Date</th>\n",
       "      <th></th>\n",
       "      <th></th>\n",
       "      <th></th>\n",
       "    </tr>\n",
       "  </thead>\n",
       "  <tbody>\n",
       "    <tr>\n",
       "      <th>1970-12-31</th>\n",
       "      <td>1.390820</td>\n",
       "      <td>98.74387</td>\n",
       "      <td>0.0</td>\n",
       "    </tr>\n",
       "    <tr>\n",
       "      <th>1971-01-31</th>\n",
       "      <td>1.687236</td>\n",
       "      <td>98.92701</td>\n",
       "      <td>0.0</td>\n",
       "    </tr>\n",
       "    <tr>\n",
       "      <th>1971-02-28</th>\n",
       "      <td>2.323194</td>\n",
       "      <td>99.06342</td>\n",
       "      <td>0.0</td>\n",
       "    </tr>\n",
       "    <tr>\n",
       "      <th>1971-03-31</th>\n",
       "      <td>2.243524</td>\n",
       "      <td>99.16283</td>\n",
       "      <td>0.0</td>\n",
       "    </tr>\n",
       "    <tr>\n",
       "      <th>1971-04-30</th>\n",
       "      <td>1.877827</td>\n",
       "      <td>99.24342</td>\n",
       "      <td>0.0</td>\n",
       "    </tr>\n",
       "  </tbody>\n",
       "</table>\n",
       "</div>"
      ],
      "text/plain": [
       "              Spread  CCI Value  NBER_Rec\n",
       "Date                                     \n",
       "1970-12-31  1.390820   98.74387       0.0\n",
       "1971-01-31  1.687236   98.92701       0.0\n",
       "1971-02-28  2.323194   99.06342       0.0\n",
       "1971-03-31  2.243524   99.16283       0.0\n",
       "1971-04-30  1.877827   99.24342       0.0"
      ]
     },
     "execution_count": 144,
     "metadata": {},
     "output_type": "execute_result"
    }
   ],
   "source": [
    "yield_cci.head()"
   ]
  },
  {
   "cell_type": "code",
   "execution_count": 145,
   "metadata": {},
   "outputs": [],
   "source": [
    "#Splitting the data\n",
    "\n",
    "y1 = yield_cci.NBER_Rec\n",
    "X1= yield_cci.drop('NBER_Rec', axis=1)"
   ]
  },
  {
   "cell_type": "code",
   "execution_count": 146,
   "metadata": {},
   "outputs": [],
   "source": [
    "train_X1, test_X1, train_y1, test_y1 = train_test_split(X1, y1, test_size=0.2,stratify=y1)"
   ]
  },
  {
   "cell_type": "code",
   "execution_count": 147,
   "metadata": {},
   "outputs": [],
   "source": [
    "#RANDOM FOREST ALGO"
   ]
  },
  {
   "cell_type": "code",
   "execution_count": 148,
   "metadata": {},
   "outputs": [
    {
     "data": {
      "text/plain": [
       "RandomForestClassifier(bootstrap=True, ccp_alpha=0.0, class_weight=None,\n",
       "                       criterion='gini', max_depth=None, max_features='auto',\n",
       "                       max_leaf_nodes=None, max_samples=None,\n",
       "                       min_impurity_decrease=0.0, min_impurity_split=None,\n",
       "                       min_samples_leaf=1, min_samples_split=2,\n",
       "                       min_weight_fraction_leaf=0.0, n_estimators=100,\n",
       "                       n_jobs=None, oob_score=False, random_state=None,\n",
       "                       verbose=0, warm_start=False)"
      ]
     },
     "execution_count": 148,
     "metadata": {},
     "output_type": "execute_result"
    }
   ],
   "source": [
    "model_rf.fit(train_X1,train_y1)"
   ]
  },
  {
   "cell_type": "code",
   "execution_count": 149,
   "metadata": {},
   "outputs": [],
   "source": [
    "rf_predictions = model_rf.predict(test_X1)"
   ]
  },
  {
   "cell_type": "code",
   "execution_count": 150,
   "metadata": {},
   "outputs": [],
   "source": [
    "rf_probs = model_rf.predict_proba(test_X1)[:, 1]"
   ]
  },
  {
   "cell_type": "code",
   "execution_count": 151,
   "metadata": {},
   "outputs": [],
   "source": [
    "#AUC-SCORE"
   ]
  },
  {
   "cell_type": "code",
   "execution_count": 152,
   "metadata": {},
   "outputs": [],
   "source": [
    "roc_value = roc_auc_score(test_y1, rf_probs)"
   ]
  },
  {
   "cell_type": "code",
   "execution_count": 153,
   "metadata": {},
   "outputs": [
    {
     "data": {
      "text/plain": [
       "0.8901098901098901"
      ]
     },
     "execution_count": 153,
     "metadata": {},
     "output_type": "execute_result"
    }
   ],
   "source": [
    "roc_value"
   ]
  },
  {
   "cell_type": "code",
   "execution_count": 154,
   "metadata": {},
   "outputs": [],
   "source": [
    "#CONFUSION MATRIX & ACCURACY"
   ]
  },
  {
   "cell_type": "code",
   "execution_count": 155,
   "metadata": {},
   "outputs": [
    {
     "name": "stdout",
     "output_type": "stream",
     "text": [
      "[[100   4]\n",
      " [  9   5]]\n",
      "0.8898305084745762\n"
     ]
    }
   ],
   "source": [
    "y_pred_CM = model_rf.predict(test_X1)\n",
    "\n",
    "print(confusion_matrix(test_y1, y_pred_CM))\n",
    "print(accuracy_score(test_y1, y_pred_CM))"
   ]
  },
  {
   "cell_type": "code",
   "execution_count": 156,
   "metadata": {},
   "outputs": [],
   "source": [
    "#CROSS-VALIDATION"
   ]
  },
  {
   "cell_type": "code",
   "execution_count": 157,
   "metadata": {},
   "outputs": [],
   "source": [
    "cv_results = cross_validate(model_rf, X1, y1, cv=3)"
   ]
  },
  {
   "cell_type": "code",
   "execution_count": 158,
   "metadata": {},
   "outputs": [
    {
     "data": {
      "text/plain": [
       "['fit_time', 'score_time', 'test_score']"
      ]
     },
     "execution_count": 158,
     "metadata": {},
     "output_type": "execute_result"
    }
   ],
   "source": [
    "sorted(cv_results.keys())"
   ]
  },
  {
   "cell_type": "code",
   "execution_count": 159,
   "metadata": {},
   "outputs": [
    {
     "data": {
      "text/plain": [
       "array([0.8622449 , 0.90816327, 0.79081633])"
      ]
     },
     "execution_count": 159,
     "metadata": {},
     "output_type": "execute_result"
    }
   ],
   "source": [
    "cv_results['test_score']"
   ]
  },
  {
   "cell_type": "code",
   "execution_count": null,
   "metadata": {},
   "outputs": [],
   "source": []
  }
 ],
 "metadata": {
  "kernelspec": {
   "display_name": "Python 3",
   "language": "python",
   "name": "python3"
  },
  "language_info": {
   "codemirror_mode": {
    "name": "ipython",
    "version": 3
   },
   "file_extension": ".py",
   "mimetype": "text/x-python",
   "name": "python",
   "nbconvert_exporter": "python",
   "pygments_lexer": "ipython3",
   "version": "3.7.3"
  }
 },
 "nbformat": 4,
 "nbformat_minor": 2
}
