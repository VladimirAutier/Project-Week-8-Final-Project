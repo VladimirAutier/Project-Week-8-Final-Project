{
 "cells": [
  {
   "cell_type": "markdown",
   "metadata": {},
   "source": [
    "# Libraries"
   ]
  },
  {
   "cell_type": "code",
   "execution_count": 1,
   "metadata": {},
   "outputs": [],
   "source": [
    "import fbprophet\n",
    "from fbprophet import Prophet\n",
    "from fbprophet.plot import add_changepoints_to_plot\n",
    "from scipy.stats import boxcox\n",
    "import pandas as pd\n",
    "import numpy as np\n",
    "from datetime import date\n",
    "from datetime import time\n",
    "from datetime import datetime\n",
    "import seaborn as sns\n",
    "import matplotlib.pyplot as plt\n",
    "import matplotlib.dates as mdates\n",
    "from scipy import stats\n",
    "from scipy.stats import ttest_1samp\n",
    "import math\n",
    "import plotly \n",
    "import plotly.graph_objs as go\n",
    "import plotly.express as px"
   ]
  },
  {
   "cell_type": "code",
   "execution_count": 2,
   "metadata": {},
   "outputs": [],
   "source": [
    "pd.set_option('display.max_rows', None)"
   ]
  },
  {
   "cell_type": "markdown",
   "metadata": {},
   "source": [
    "# Loading the 3 economic estimators"
   ]
  },
  {
   "cell_type": "code",
   "execution_count": 3,
   "metadata": {},
   "outputs": [],
   "source": [
    "yield_curve = pd.read_csv('/Users/vladimirautier/Documents/GitHub/Week9/Project-Week-9-Final-Project/your-project/Final Project/Modified:Cleaned Data/yield_curve_clean.csv')"
   ]
  },
  {
   "cell_type": "code",
   "execution_count": 4,
   "metadata": {},
   "outputs": [],
   "source": [
    "cci = pd.read_csv('/Users/vladimirautier/Documents/GitHub/Week9/Project-Week-9-Final-Project/your-project/Final Project/Modified:Cleaned Data/CCI_clean.csv')"
   ]
  },
  {
   "cell_type": "code",
   "execution_count": 5,
   "metadata": {},
   "outputs": [],
   "source": [
    "gdp = pd.read_csv('/Users/vladimirautier/Documents/GitHub/Week9/Project-Week-9-Final-Project/your-project/Final Project/Modified:Cleaned Data/gdp_world_clean.csv')"
   ]
  },
  {
   "cell_type": "markdown",
   "metadata": {},
   "source": [
    "# Final Cleaning before merging"
   ]
  },
  {
   "cell_type": "markdown",
   "metadata": {},
   "source": [
    "# Cleaning GDP"
   ]
  },
  {
   "cell_type": "code",
   "execution_count": 6,
   "metadata": {},
   "outputs": [
    {
     "data": {
      "text/html": [
       "<div>\n",
       "<style scoped>\n",
       "    .dataframe tbody tr th:only-of-type {\n",
       "        vertical-align: middle;\n",
       "    }\n",
       "\n",
       "    .dataframe tbody tr th {\n",
       "        vertical-align: top;\n",
       "    }\n",
       "\n",
       "    .dataframe thead th {\n",
       "        text-align: right;\n",
       "    }\n",
       "</style>\n",
       "<table border=\"1\" class=\"dataframe\">\n",
       "  <thead>\n",
       "    <tr style=\"text-align: right;\">\n",
       "      <th></th>\n",
       "      <th>Unnamed: 0</th>\n",
       "      <th>Year</th>\n",
       "      <th>GDP per capita growth (annual %)</th>\n",
       "    </tr>\n",
       "  </thead>\n",
       "  <tbody>\n",
       "    <tr>\n",
       "      <th>0</th>\n",
       "      <td>0</td>\n",
       "      <td>Country Code</td>\n",
       "      <td>WLD</td>\n",
       "    </tr>\n",
       "    <tr>\n",
       "      <th>1</th>\n",
       "      <td>1</td>\n",
       "      <td>1961</td>\n",
       "      <td>2.96546892976448</td>\n",
       "    </tr>\n",
       "    <tr>\n",
       "      <th>2</th>\n",
       "      <td>2</td>\n",
       "      <td>1962</td>\n",
       "      <td>3.78632332497055</td>\n",
       "    </tr>\n",
       "    <tr>\n",
       "      <th>3</th>\n",
       "      <td>3</td>\n",
       "      <td>1963</td>\n",
       "      <td>3.07027760261226</td>\n",
       "    </tr>\n",
       "    <tr>\n",
       "      <th>4</th>\n",
       "      <td>4</td>\n",
       "      <td>1964</td>\n",
       "      <td>4.51897302590693</td>\n",
       "    </tr>\n",
       "  </tbody>\n",
       "</table>\n",
       "</div>"
      ],
      "text/plain": [
       "   Unnamed: 0          Year GDP per capita growth (annual %)\n",
       "0           0  Country Code                              WLD\n",
       "1           1          1961                 2.96546892976448\n",
       "2           2          1962                 3.78632332497055\n",
       "3           3          1963                 3.07027760261226\n",
       "4           4          1964                 4.51897302590693"
      ]
     },
     "execution_count": 6,
     "metadata": {},
     "output_type": "execute_result"
    }
   ],
   "source": [
    "gdp.head()"
   ]
  },
  {
   "cell_type": "code",
   "execution_count": 7,
   "metadata": {},
   "outputs": [
    {
     "data": {
      "text/plain": [
       "Index(['Unnamed: 0', 'Year', 'GDP per capita growth (annual %)'], dtype='object')"
      ]
     },
     "execution_count": 7,
     "metadata": {},
     "output_type": "execute_result"
    }
   ],
   "source": [
    "gdp.columns # Unnamed 0 is not wanted we need to drop this column"
   ]
  },
  {
   "cell_type": "code",
   "execution_count": 8,
   "metadata": {},
   "outputs": [],
   "source": [
    "gdp.drop(['Unnamed: 0'],axis=1,inplace=True) # Dropping unwanted columns"
   ]
  },
  {
   "cell_type": "code",
   "execution_count": 9,
   "metadata": {},
   "outputs": [],
   "source": [
    "gdp = gdp.reset_index(drop=True)"
   ]
  },
  {
   "cell_type": "code",
   "execution_count": 10,
   "metadata": {},
   "outputs": [
    {
     "data": {
      "text/html": [
       "<div>\n",
       "<style scoped>\n",
       "    .dataframe tbody tr th:only-of-type {\n",
       "        vertical-align: middle;\n",
       "    }\n",
       "\n",
       "    .dataframe tbody tr th {\n",
       "        vertical-align: top;\n",
       "    }\n",
       "\n",
       "    .dataframe thead th {\n",
       "        text-align: right;\n",
       "    }\n",
       "</style>\n",
       "<table border=\"1\" class=\"dataframe\">\n",
       "  <thead>\n",
       "    <tr style=\"text-align: right;\">\n",
       "      <th></th>\n",
       "      <th>Year</th>\n",
       "      <th>GDP per capita growth (annual %)</th>\n",
       "    </tr>\n",
       "  </thead>\n",
       "  <tbody>\n",
       "    <tr>\n",
       "      <th>0</th>\n",
       "      <td>Country Code</td>\n",
       "      <td>WLD</td>\n",
       "    </tr>\n",
       "    <tr>\n",
       "      <th>1</th>\n",
       "      <td>1961</td>\n",
       "      <td>2.96546892976448</td>\n",
       "    </tr>\n",
       "    <tr>\n",
       "      <th>2</th>\n",
       "      <td>1962</td>\n",
       "      <td>3.78632332497055</td>\n",
       "    </tr>\n",
       "    <tr>\n",
       "      <th>3</th>\n",
       "      <td>1963</td>\n",
       "      <td>3.07027760261226</td>\n",
       "    </tr>\n",
       "    <tr>\n",
       "      <th>4</th>\n",
       "      <td>1964</td>\n",
       "      <td>4.51897302590693</td>\n",
       "    </tr>\n",
       "  </tbody>\n",
       "</table>\n",
       "</div>"
      ],
      "text/plain": [
       "           Year GDP per capita growth (annual %)\n",
       "0  Country Code                              WLD\n",
       "1          1961                 2.96546892976448\n",
       "2          1962                 3.78632332497055\n",
       "3          1963                 3.07027760261226\n",
       "4          1964                 4.51897302590693"
      ]
     },
     "execution_count": 10,
     "metadata": {},
     "output_type": "execute_result"
    }
   ],
   "source": [
    "gdp.head()"
   ]
  },
  {
   "cell_type": "code",
   "execution_count": 11,
   "metadata": {},
   "outputs": [],
   "source": [
    "gdp.drop(gdp.index[:1],inplace=True) # dropping the first row"
   ]
  },
  {
   "cell_type": "code",
   "execution_count": 12,
   "metadata": {},
   "outputs": [
    {
     "data": {
      "text/html": [
       "<div>\n",
       "<style scoped>\n",
       "    .dataframe tbody tr th:only-of-type {\n",
       "        vertical-align: middle;\n",
       "    }\n",
       "\n",
       "    .dataframe tbody tr th {\n",
       "        vertical-align: top;\n",
       "    }\n",
       "\n",
       "    .dataframe thead th {\n",
       "        text-align: right;\n",
       "    }\n",
       "</style>\n",
       "<table border=\"1\" class=\"dataframe\">\n",
       "  <thead>\n",
       "    <tr style=\"text-align: right;\">\n",
       "      <th></th>\n",
       "      <th>Year</th>\n",
       "      <th>GDP per capita growth (annual %)</th>\n",
       "    </tr>\n",
       "  </thead>\n",
       "  <tbody>\n",
       "    <tr>\n",
       "      <th>1</th>\n",
       "      <td>1961</td>\n",
       "      <td>2.96546892976448</td>\n",
       "    </tr>\n",
       "    <tr>\n",
       "      <th>2</th>\n",
       "      <td>1962</td>\n",
       "      <td>3.78632332497055</td>\n",
       "    </tr>\n",
       "    <tr>\n",
       "      <th>3</th>\n",
       "      <td>1963</td>\n",
       "      <td>3.07027760261226</td>\n",
       "    </tr>\n",
       "    <tr>\n",
       "      <th>4</th>\n",
       "      <td>1964</td>\n",
       "      <td>4.51897302590693</td>\n",
       "    </tr>\n",
       "    <tr>\n",
       "      <th>5</th>\n",
       "      <td>1965</td>\n",
       "      <td>3.43351075792553</td>\n",
       "    </tr>\n",
       "  </tbody>\n",
       "</table>\n",
       "</div>"
      ],
      "text/plain": [
       "   Year GDP per capita growth (annual %)\n",
       "1  1961                 2.96546892976448\n",
       "2  1962                 3.78632332497055\n",
       "3  1963                 3.07027760261226\n",
       "4  1964                 4.51897302590693\n",
       "5  1965                 3.43351075792553"
      ]
     },
     "execution_count": 12,
     "metadata": {},
     "output_type": "execute_result"
    }
   ],
   "source": [
    "gdp.head()"
   ]
  },
  {
   "cell_type": "code",
   "execution_count": 13,
   "metadata": {},
   "outputs": [
    {
     "data": {
      "text/plain": [
       "Year                                object\n",
       "GDP per capita growth (annual %)    object\n",
       "dtype: object"
      ]
     },
     "execution_count": 13,
     "metadata": {},
     "output_type": "execute_result"
    }
   ],
   "source": [
    "gdp.dtypes # We need to change the object types to numeric ones"
   ]
  },
  {
   "cell_type": "code",
   "execution_count": 14,
   "metadata": {},
   "outputs": [],
   "source": [
    "gdp['Year'] = pd.to_datetime(gdp['Year']) "
   ]
  },
  {
   "cell_type": "code",
   "execution_count": 15,
   "metadata": {},
   "outputs": [],
   "source": [
    "gdp['GDP per capita growth (annual %)'] = gdp['GDP per capita growth (annual %)'].apply(pd.to_numeric, errors='coerce')"
   ]
  },
  {
   "cell_type": "code",
   "execution_count": 16,
   "metadata": {},
   "outputs": [
    {
     "data": {
      "text/plain": [
       "Year                                datetime64[ns]\n",
       "GDP per capita growth (annual %)           float64\n",
       "dtype: object"
      ]
     },
     "execution_count": 16,
     "metadata": {},
     "output_type": "execute_result"
    }
   ],
   "source": [
    "gdp.dtypes # Types are in order"
   ]
  },
  {
   "cell_type": "code",
   "execution_count": 17,
   "metadata": {},
   "outputs": [],
   "source": [
    "gdp.columns = ['Date','GDP per capita growth (annual %)']"
   ]
  },
  {
   "cell_type": "code",
   "execution_count": 18,
   "metadata": {},
   "outputs": [],
   "source": [
    "gdp.set_index('Date',inplace=True)"
   ]
  },
  {
   "cell_type": "code",
   "execution_count": 19,
   "metadata": {},
   "outputs": [
    {
     "data": {
      "text/html": [
       "<div>\n",
       "<style scoped>\n",
       "    .dataframe tbody tr th:only-of-type {\n",
       "        vertical-align: middle;\n",
       "    }\n",
       "\n",
       "    .dataframe tbody tr th {\n",
       "        vertical-align: top;\n",
       "    }\n",
       "\n",
       "    .dataframe thead th {\n",
       "        text-align: right;\n",
       "    }\n",
       "</style>\n",
       "<table border=\"1\" class=\"dataframe\">\n",
       "  <thead>\n",
       "    <tr style=\"text-align: right;\">\n",
       "      <th></th>\n",
       "      <th>GDP per capita growth (annual %)</th>\n",
       "    </tr>\n",
       "    <tr>\n",
       "      <th>Date</th>\n",
       "      <th></th>\n",
       "    </tr>\n",
       "  </thead>\n",
       "  <tbody>\n",
       "    <tr>\n",
       "      <th>1961-01-01</th>\n",
       "      <td>2.965469</td>\n",
       "    </tr>\n",
       "    <tr>\n",
       "      <th>1962-01-01</th>\n",
       "      <td>3.786323</td>\n",
       "    </tr>\n",
       "    <tr>\n",
       "      <th>1963-01-01</th>\n",
       "      <td>3.070278</td>\n",
       "    </tr>\n",
       "    <tr>\n",
       "      <th>1964-01-01</th>\n",
       "      <td>4.518973</td>\n",
       "    </tr>\n",
       "    <tr>\n",
       "      <th>1965-01-01</th>\n",
       "      <td>3.433511</td>\n",
       "    </tr>\n",
       "  </tbody>\n",
       "</table>\n",
       "</div>"
      ],
      "text/plain": [
       "            GDP per capita growth (annual %)\n",
       "Date                                        \n",
       "1961-01-01                          2.965469\n",
       "1962-01-01                          3.786323\n",
       "1963-01-01                          3.070278\n",
       "1964-01-01                          4.518973\n",
       "1965-01-01                          3.433511"
      ]
     },
     "execution_count": 19,
     "metadata": {},
     "output_type": "execute_result"
    }
   ],
   "source": [
    "gdp.head()"
   ]
  },
  {
   "cell_type": "markdown",
   "metadata": {},
   "source": [
    "# Cleaning Yield Curve"
   ]
  },
  {
   "cell_type": "code",
   "execution_count": 20,
   "metadata": {},
   "outputs": [
    {
     "data": {
      "text/html": [
       "<div>\n",
       "<style scoped>\n",
       "    .dataframe tbody tr th:only-of-type {\n",
       "        vertical-align: middle;\n",
       "    }\n",
       "\n",
       "    .dataframe tbody tr th {\n",
       "        vertical-align: top;\n",
       "    }\n",
       "\n",
       "    .dataframe thead th {\n",
       "        text-align: right;\n",
       "    }\n",
       "</style>\n",
       "<table border=\"1\" class=\"dataframe\">\n",
       "  <thead>\n",
       "    <tr style=\"text-align: right;\">\n",
       "      <th></th>\n",
       "      <th>Unnamed: 0</th>\n",
       "      <th>Date</th>\n",
       "      <th>10 Year Treasury Yield</th>\n",
       "      <th>3 Month Treasury Yield</th>\n",
       "      <th>3 Month Treasury Yield (Bond Equivalent Basis)</th>\n",
       "      <th>Spread</th>\n",
       "      <th>Rec_prob</th>\n",
       "      <th>NBER_Rec</th>\n",
       "    </tr>\n",
       "  </thead>\n",
       "  <tbody>\n",
       "    <tr>\n",
       "      <th>0</th>\n",
       "      <td>12</td>\n",
       "      <td>1960-01-31</td>\n",
       "      <td>4.72</td>\n",
       "      <td>4.35</td>\n",
       "      <td>4.459452</td>\n",
       "      <td>0.260548</td>\n",
       "      <td>0.104719</td>\n",
       "      <td>0.0</td>\n",
       "    </tr>\n",
       "    <tr>\n",
       "      <th>1</th>\n",
       "      <td>13</td>\n",
       "      <td>1960-02-29</td>\n",
       "      <td>4.49</td>\n",
       "      <td>3.96</td>\n",
       "      <td>4.055597</td>\n",
       "      <td>0.434403</td>\n",
       "      <td>0.097620</td>\n",
       "      <td>0.0</td>\n",
       "    </tr>\n",
       "    <tr>\n",
       "      <th>2</th>\n",
       "      <td>14</td>\n",
       "      <td>1960-03-31</td>\n",
       "      <td>4.25</td>\n",
       "      <td>3.31</td>\n",
       "      <td>3.384288</td>\n",
       "      <td>0.865712</td>\n",
       "      <td>0.105806</td>\n",
       "      <td>0.0</td>\n",
       "    </tr>\n",
       "    <tr>\n",
       "      <th>3</th>\n",
       "      <td>15</td>\n",
       "      <td>1960-04-30</td>\n",
       "      <td>4.28</td>\n",
       "      <td>3.23</td>\n",
       "      <td>3.301820</td>\n",
       "      <td>0.978180</td>\n",
       "      <td>0.108648</td>\n",
       "      <td>0.0</td>\n",
       "    </tr>\n",
       "    <tr>\n",
       "      <th>4</th>\n",
       "      <td>16</td>\n",
       "      <td>1960-05-31</td>\n",
       "      <td>4.35</td>\n",
       "      <td>3.29</td>\n",
       "      <td>3.363668</td>\n",
       "      <td>0.986332</td>\n",
       "      <td>0.076983</td>\n",
       "      <td>1.0</td>\n",
       "    </tr>\n",
       "  </tbody>\n",
       "</table>\n",
       "</div>"
      ],
      "text/plain": [
       "   Unnamed: 0        Date  10 Year Treasury Yield  3 Month Treasury Yield  \\\n",
       "0          12  1960-01-31                    4.72                    4.35   \n",
       "1          13  1960-02-29                    4.49                    3.96   \n",
       "2          14  1960-03-31                    4.25                    3.31   \n",
       "3          15  1960-04-30                    4.28                    3.23   \n",
       "4          16  1960-05-31                    4.35                    3.29   \n",
       "\n",
       "   3 Month Treasury Yield (Bond Equivalent Basis)    Spread  Rec_prob  \\\n",
       "0                                        4.459452  0.260548  0.104719   \n",
       "1                                        4.055597  0.434403  0.097620   \n",
       "2                                        3.384288  0.865712  0.105806   \n",
       "3                                        3.301820  0.978180  0.108648   \n",
       "4                                        3.363668  0.986332  0.076983   \n",
       "\n",
       "   NBER_Rec  \n",
       "0       0.0  \n",
       "1       0.0  \n",
       "2       0.0  \n",
       "3       0.0  \n",
       "4       1.0  "
      ]
     },
     "execution_count": 20,
     "metadata": {},
     "output_type": "execute_result"
    }
   ],
   "source": [
    "yield_curve.head()"
   ]
  },
  {
   "cell_type": "code",
   "execution_count": 21,
   "metadata": {},
   "outputs": [
    {
     "data": {
      "text/plain": [
       "Index(['Unnamed: 0', 'Date', '10 Year Treasury Yield',\n",
       "       '3 Month Treasury Yield',\n",
       "       '3 Month Treasury Yield (Bond Equivalent Basis)', 'Spread', 'Rec_prob',\n",
       "       'NBER_Rec'],\n",
       "      dtype='object')"
      ]
     },
     "execution_count": 21,
     "metadata": {},
     "output_type": "execute_result"
    }
   ],
   "source": [
    "yield_curve.columns # Unwanted column to drop"
   ]
  },
  {
   "cell_type": "code",
   "execution_count": 22,
   "metadata": {},
   "outputs": [],
   "source": [
    "yield_curve.drop(['Unnamed: 0'],axis=1,inplace=True) # Dropping unnamed 0 column"
   ]
  },
  {
   "cell_type": "code",
   "execution_count": 23,
   "metadata": {},
   "outputs": [
    {
     "data": {
      "text/html": [
       "<div>\n",
       "<style scoped>\n",
       "    .dataframe tbody tr th:only-of-type {\n",
       "        vertical-align: middle;\n",
       "    }\n",
       "\n",
       "    .dataframe tbody tr th {\n",
       "        vertical-align: top;\n",
       "    }\n",
       "\n",
       "    .dataframe thead th {\n",
       "        text-align: right;\n",
       "    }\n",
       "</style>\n",
       "<table border=\"1\" class=\"dataframe\">\n",
       "  <thead>\n",
       "    <tr style=\"text-align: right;\">\n",
       "      <th></th>\n",
       "      <th>Date</th>\n",
       "      <th>10 Year Treasury Yield</th>\n",
       "      <th>3 Month Treasury Yield</th>\n",
       "      <th>3 Month Treasury Yield (Bond Equivalent Basis)</th>\n",
       "      <th>Spread</th>\n",
       "      <th>Rec_prob</th>\n",
       "      <th>NBER_Rec</th>\n",
       "    </tr>\n",
       "  </thead>\n",
       "  <tbody>\n",
       "    <tr>\n",
       "      <th>0</th>\n",
       "      <td>1960-01-31</td>\n",
       "      <td>4.72</td>\n",
       "      <td>4.35</td>\n",
       "      <td>4.459452</td>\n",
       "      <td>0.260548</td>\n",
       "      <td>0.104719</td>\n",
       "      <td>0.0</td>\n",
       "    </tr>\n",
       "    <tr>\n",
       "      <th>1</th>\n",
       "      <td>1960-02-29</td>\n",
       "      <td>4.49</td>\n",
       "      <td>3.96</td>\n",
       "      <td>4.055597</td>\n",
       "      <td>0.434403</td>\n",
       "      <td>0.097620</td>\n",
       "      <td>0.0</td>\n",
       "    </tr>\n",
       "    <tr>\n",
       "      <th>2</th>\n",
       "      <td>1960-03-31</td>\n",
       "      <td>4.25</td>\n",
       "      <td>3.31</td>\n",
       "      <td>3.384288</td>\n",
       "      <td>0.865712</td>\n",
       "      <td>0.105806</td>\n",
       "      <td>0.0</td>\n",
       "    </tr>\n",
       "    <tr>\n",
       "      <th>3</th>\n",
       "      <td>1960-04-30</td>\n",
       "      <td>4.28</td>\n",
       "      <td>3.23</td>\n",
       "      <td>3.301820</td>\n",
       "      <td>0.978180</td>\n",
       "      <td>0.108648</td>\n",
       "      <td>0.0</td>\n",
       "    </tr>\n",
       "    <tr>\n",
       "      <th>4</th>\n",
       "      <td>1960-05-31</td>\n",
       "      <td>4.35</td>\n",
       "      <td>3.29</td>\n",
       "      <td>3.363668</td>\n",
       "      <td>0.986332</td>\n",
       "      <td>0.076983</td>\n",
       "      <td>1.0</td>\n",
       "    </tr>\n",
       "  </tbody>\n",
       "</table>\n",
       "</div>"
      ],
      "text/plain": [
       "         Date  10 Year Treasury Yield  3 Month Treasury Yield  \\\n",
       "0  1960-01-31                    4.72                    4.35   \n",
       "1  1960-02-29                    4.49                    3.96   \n",
       "2  1960-03-31                    4.25                    3.31   \n",
       "3  1960-04-30                    4.28                    3.23   \n",
       "4  1960-05-31                    4.35                    3.29   \n",
       "\n",
       "   3 Month Treasury Yield (Bond Equivalent Basis)    Spread  Rec_prob  \\\n",
       "0                                        4.459452  0.260548  0.104719   \n",
       "1                                        4.055597  0.434403  0.097620   \n",
       "2                                        3.384288  0.865712  0.105806   \n",
       "3                                        3.301820  0.978180  0.108648   \n",
       "4                                        3.363668  0.986332  0.076983   \n",
       "\n",
       "   NBER_Rec  \n",
       "0       0.0  \n",
       "1       0.0  \n",
       "2       0.0  \n",
       "3       0.0  \n",
       "4       1.0  "
      ]
     },
     "execution_count": 23,
     "metadata": {},
     "output_type": "execute_result"
    }
   ],
   "source": [
    "yield_curve.head()"
   ]
  },
  {
   "cell_type": "code",
   "execution_count": 24,
   "metadata": {},
   "outputs": [
    {
     "data": {
      "text/plain": [
       "Date                                               object\n",
       "10 Year Treasury Yield                            float64\n",
       "3 Month Treasury Yield                            float64\n",
       "3 Month Treasury Yield (Bond Equivalent Basis)    float64\n",
       "Spread                                            float64\n",
       "Rec_prob                                          float64\n",
       "NBER_Rec                                          float64\n",
       "dtype: object"
      ]
     },
     "execution_count": 24,
     "metadata": {},
     "output_type": "execute_result"
    }
   ],
   "source": [
    "yield_curve.dtypes # need to change the Date to a datetime"
   ]
  },
  {
   "cell_type": "code",
   "execution_count": 25,
   "metadata": {},
   "outputs": [],
   "source": [
    "yield_curve['Date'] = pd.to_datetime(yield_curve['Date']) "
   ]
  },
  {
   "cell_type": "code",
   "execution_count": 26,
   "metadata": {},
   "outputs": [],
   "source": [
    "yield_curve.set_index('Date', inplace=True) # Seeting index"
   ]
  },
  {
   "cell_type": "code",
   "execution_count": 27,
   "metadata": {},
   "outputs": [],
   "source": [
    "yield_curve['Year'] = yield_curve.index.year"
   ]
  },
  {
   "cell_type": "code",
   "execution_count": 28,
   "metadata": {},
   "outputs": [
    {
     "data": {
      "text/html": [
       "<div>\n",
       "<style scoped>\n",
       "    .dataframe tbody tr th:only-of-type {\n",
       "        vertical-align: middle;\n",
       "    }\n",
       "\n",
       "    .dataframe tbody tr th {\n",
       "        vertical-align: top;\n",
       "    }\n",
       "\n",
       "    .dataframe thead th {\n",
       "        text-align: right;\n",
       "    }\n",
       "</style>\n",
       "<table border=\"1\" class=\"dataframe\">\n",
       "  <thead>\n",
       "    <tr style=\"text-align: right;\">\n",
       "      <th></th>\n",
       "      <th>10 Year Treasury Yield</th>\n",
       "      <th>3 Month Treasury Yield</th>\n",
       "      <th>3 Month Treasury Yield (Bond Equivalent Basis)</th>\n",
       "      <th>Spread</th>\n",
       "      <th>Rec_prob</th>\n",
       "      <th>NBER_Rec</th>\n",
       "      <th>Year</th>\n",
       "    </tr>\n",
       "    <tr>\n",
       "      <th>Date</th>\n",
       "      <th></th>\n",
       "      <th></th>\n",
       "      <th></th>\n",
       "      <th></th>\n",
       "      <th></th>\n",
       "      <th></th>\n",
       "      <th></th>\n",
       "    </tr>\n",
       "  </thead>\n",
       "  <tbody>\n",
       "    <tr>\n",
       "      <th>1960-01-31</th>\n",
       "      <td>4.72</td>\n",
       "      <td>4.35</td>\n",
       "      <td>4.459452</td>\n",
       "      <td>0.260548</td>\n",
       "      <td>0.104719</td>\n",
       "      <td>0.0</td>\n",
       "      <td>1960</td>\n",
       "    </tr>\n",
       "    <tr>\n",
       "      <th>1960-02-29</th>\n",
       "      <td>4.49</td>\n",
       "      <td>3.96</td>\n",
       "      <td>4.055597</td>\n",
       "      <td>0.434403</td>\n",
       "      <td>0.097620</td>\n",
       "      <td>0.0</td>\n",
       "      <td>1960</td>\n",
       "    </tr>\n",
       "    <tr>\n",
       "      <th>1960-03-31</th>\n",
       "      <td>4.25</td>\n",
       "      <td>3.31</td>\n",
       "      <td>3.384288</td>\n",
       "      <td>0.865712</td>\n",
       "      <td>0.105806</td>\n",
       "      <td>0.0</td>\n",
       "      <td>1960</td>\n",
       "    </tr>\n",
       "    <tr>\n",
       "      <th>1960-04-30</th>\n",
       "      <td>4.28</td>\n",
       "      <td>3.23</td>\n",
       "      <td>3.301820</td>\n",
       "      <td>0.978180</td>\n",
       "      <td>0.108648</td>\n",
       "      <td>0.0</td>\n",
       "      <td>1960</td>\n",
       "    </tr>\n",
       "    <tr>\n",
       "      <th>1960-05-31</th>\n",
       "      <td>4.35</td>\n",
       "      <td>3.29</td>\n",
       "      <td>3.363668</td>\n",
       "      <td>0.986332</td>\n",
       "      <td>0.076983</td>\n",
       "      <td>1.0</td>\n",
       "      <td>1960</td>\n",
       "    </tr>\n",
       "  </tbody>\n",
       "</table>\n",
       "</div>"
      ],
      "text/plain": [
       "            10 Year Treasury Yield  3 Month Treasury Yield  \\\n",
       "Date                                                         \n",
       "1960-01-31                    4.72                    4.35   \n",
       "1960-02-29                    4.49                    3.96   \n",
       "1960-03-31                    4.25                    3.31   \n",
       "1960-04-30                    4.28                    3.23   \n",
       "1960-05-31                    4.35                    3.29   \n",
       "\n",
       "            3 Month Treasury Yield (Bond Equivalent Basis)    Spread  \\\n",
       "Date                                                                   \n",
       "1960-01-31                                        4.459452  0.260548   \n",
       "1960-02-29                                        4.055597  0.434403   \n",
       "1960-03-31                                        3.384288  0.865712   \n",
       "1960-04-30                                        3.301820  0.978180   \n",
       "1960-05-31                                        3.363668  0.986332   \n",
       "\n",
       "            Rec_prob  NBER_Rec  Year  \n",
       "Date                                  \n",
       "1960-01-31  0.104719       0.0  1960  \n",
       "1960-02-29  0.097620       0.0  1960  \n",
       "1960-03-31  0.105806       0.0  1960  \n",
       "1960-04-30  0.108648       0.0  1960  \n",
       "1960-05-31  0.076983       1.0  1960  "
      ]
     },
     "execution_count": 28,
     "metadata": {},
     "output_type": "execute_result"
    }
   ],
   "source": [
    "yield_curve.head()"
   ]
  },
  {
   "cell_type": "code",
   "execution_count": 29,
   "metadata": {},
   "outputs": [
    {
     "data": {
      "text/plain": [
       "10 Year Treasury Yield                            float64\n",
       "3 Month Treasury Yield                            float64\n",
       "3 Month Treasury Yield (Bond Equivalent Basis)    float64\n",
       "Spread                                            float64\n",
       "Rec_prob                                          float64\n",
       "NBER_Rec                                          float64\n",
       "Year                                                int64\n",
       "dtype: object"
      ]
     },
     "execution_count": 29,
     "metadata": {},
     "output_type": "execute_result"
    }
   ],
   "source": [
    "yield_curve.dtypes"
   ]
  },
  {
   "cell_type": "code",
   "execution_count": 30,
   "metadata": {},
   "outputs": [],
   "source": [
    "yield_curve.to_csv('/Users/vladimirautier/Documents/GitHub/Week9/Project-Week-9-Final-Project/your-project/Final Project/Modified:Cleaned Data/yield_curve_last.csv')"
   ]
  },
  {
   "cell_type": "markdown",
   "metadata": {},
   "source": [
    "# Cleaning Customer Confifence Index"
   ]
  },
  {
   "cell_type": "code",
   "execution_count": 31,
   "metadata": {},
   "outputs": [
    {
     "data": {
      "text/html": [
       "<div>\n",
       "<style scoped>\n",
       "    .dataframe tbody tr th:only-of-type {\n",
       "        vertical-align: middle;\n",
       "    }\n",
       "\n",
       "    .dataframe tbody tr th {\n",
       "        vertical-align: top;\n",
       "    }\n",
       "\n",
       "    .dataframe thead th {\n",
       "        text-align: right;\n",
       "    }\n",
       "</style>\n",
       "<table border=\"1\" class=\"dataframe\">\n",
       "  <thead>\n",
       "    <tr style=\"text-align: right;\">\n",
       "      <th></th>\n",
       "      <th>Unnamed: 0</th>\n",
       "      <th>Location</th>\n",
       "      <th>Year</th>\n",
       "      <th>CCI Value</th>\n",
       "    </tr>\n",
       "  </thead>\n",
       "  <tbody>\n",
       "    <tr>\n",
       "      <th>0</th>\n",
       "      <td>0</td>\n",
       "      <td>OECD</td>\n",
       "      <td>1974-01-01</td>\n",
       "      <td>98.96154</td>\n",
       "    </tr>\n",
       "    <tr>\n",
       "      <th>1</th>\n",
       "      <td>1</td>\n",
       "      <td>OECD</td>\n",
       "      <td>1974-02-01</td>\n",
       "      <td>98.94519</td>\n",
       "    </tr>\n",
       "    <tr>\n",
       "      <th>2</th>\n",
       "      <td>2</td>\n",
       "      <td>OECD</td>\n",
       "      <td>1974-03-01</td>\n",
       "      <td>99.07729</td>\n",
       "    </tr>\n",
       "    <tr>\n",
       "      <th>3</th>\n",
       "      <td>3</td>\n",
       "      <td>OECD</td>\n",
       "      <td>1974-04-01</td>\n",
       "      <td>99.20571</td>\n",
       "    </tr>\n",
       "    <tr>\n",
       "      <th>4</th>\n",
       "      <td>4</td>\n",
       "      <td>OECD</td>\n",
       "      <td>1974-05-01</td>\n",
       "      <td>99.18984</td>\n",
       "    </tr>\n",
       "  </tbody>\n",
       "</table>\n",
       "</div>"
      ],
      "text/plain": [
       "   Unnamed: 0 Location        Year  CCI Value\n",
       "0           0     OECD  1974-01-01   98.96154\n",
       "1           1     OECD  1974-02-01   98.94519\n",
       "2           2     OECD  1974-03-01   99.07729\n",
       "3           3     OECD  1974-04-01   99.20571\n",
       "4           4     OECD  1974-05-01   99.18984"
      ]
     },
     "execution_count": 31,
     "metadata": {},
     "output_type": "execute_result"
    }
   ],
   "source": [
    "cci.head()"
   ]
  },
  {
   "cell_type": "code",
   "execution_count": 32,
   "metadata": {},
   "outputs": [],
   "source": [
    "cci.drop(['Unnamed: 0'],axis=1,inplace=True) # Dropping unnamed 0 column"
   ]
  },
  {
   "cell_type": "code",
   "execution_count": 33,
   "metadata": {},
   "outputs": [
    {
     "data": {
      "text/html": [
       "<div>\n",
       "<style scoped>\n",
       "    .dataframe tbody tr th:only-of-type {\n",
       "        vertical-align: middle;\n",
       "    }\n",
       "\n",
       "    .dataframe tbody tr th {\n",
       "        vertical-align: top;\n",
       "    }\n",
       "\n",
       "    .dataframe thead th {\n",
       "        text-align: right;\n",
       "    }\n",
       "</style>\n",
       "<table border=\"1\" class=\"dataframe\">\n",
       "  <thead>\n",
       "    <tr style=\"text-align: right;\">\n",
       "      <th></th>\n",
       "      <th>Location</th>\n",
       "      <th>Year</th>\n",
       "      <th>CCI Value</th>\n",
       "    </tr>\n",
       "  </thead>\n",
       "  <tbody>\n",
       "    <tr>\n",
       "      <th>0</th>\n",
       "      <td>OECD</td>\n",
       "      <td>1974-01-01</td>\n",
       "      <td>98.96154</td>\n",
       "    </tr>\n",
       "    <tr>\n",
       "      <th>1</th>\n",
       "      <td>OECD</td>\n",
       "      <td>1974-02-01</td>\n",
       "      <td>98.94519</td>\n",
       "    </tr>\n",
       "    <tr>\n",
       "      <th>2</th>\n",
       "      <td>OECD</td>\n",
       "      <td>1974-03-01</td>\n",
       "      <td>99.07729</td>\n",
       "    </tr>\n",
       "    <tr>\n",
       "      <th>3</th>\n",
       "      <td>OECD</td>\n",
       "      <td>1974-04-01</td>\n",
       "      <td>99.20571</td>\n",
       "    </tr>\n",
       "    <tr>\n",
       "      <th>4</th>\n",
       "      <td>OECD</td>\n",
       "      <td>1974-05-01</td>\n",
       "      <td>99.18984</td>\n",
       "    </tr>\n",
       "  </tbody>\n",
       "</table>\n",
       "</div>"
      ],
      "text/plain": [
       "  Location        Year  CCI Value\n",
       "0     OECD  1974-01-01   98.96154\n",
       "1     OECD  1974-02-01   98.94519\n",
       "2     OECD  1974-03-01   99.07729\n",
       "3     OECD  1974-04-01   99.20571\n",
       "4     OECD  1974-05-01   99.18984"
      ]
     },
     "execution_count": 33,
     "metadata": {},
     "output_type": "execute_result"
    }
   ],
   "source": [
    "cci.head()"
   ]
  },
  {
   "cell_type": "code",
   "execution_count": 34,
   "metadata": {},
   "outputs": [
    {
     "data": {
      "text/plain": [
       "Location      object\n",
       "Year          object\n",
       "CCI Value    float64\n",
       "dtype: object"
      ]
     },
     "execution_count": 34,
     "metadata": {},
     "output_type": "execute_result"
    }
   ],
   "source": [
    "cci.dtypes"
   ]
  },
  {
   "cell_type": "code",
   "execution_count": 35,
   "metadata": {},
   "outputs": [],
   "source": [
    "cci['Year']=pd.to_datetime(cci['Year'])"
   ]
  },
  {
   "cell_type": "code",
   "execution_count": 36,
   "metadata": {},
   "outputs": [
    {
     "data": {
      "text/plain": [
       "Location             object\n",
       "Year         datetime64[ns]\n",
       "CCI Value           float64\n",
       "dtype: object"
      ]
     },
     "execution_count": 36,
     "metadata": {},
     "output_type": "execute_result"
    }
   ],
   "source": [
    "cci.dtypes"
   ]
  },
  {
   "cell_type": "code",
   "execution_count": 37,
   "metadata": {},
   "outputs": [
    {
     "data": {
      "text/plain": [
       "array(['OECD', 'USA', 'CHN'], dtype=object)"
      ]
     },
     "execution_count": 37,
     "metadata": {},
     "output_type": "execute_result"
    }
   ],
   "source": [
    "cci.Location.unique()"
   ]
  },
  {
   "cell_type": "code",
   "execution_count": 38,
   "metadata": {},
   "outputs": [],
   "source": [
    "cci.columns = ['Location','Date','CCI Value']"
   ]
  },
  {
   "cell_type": "code",
   "execution_count": 39,
   "metadata": {},
   "outputs": [],
   "source": [
    "#cci.set_index('Date',inplace=True)"
   ]
  },
  {
   "cell_type": "code",
   "execution_count": 40,
   "metadata": {},
   "outputs": [
    {
     "data": {
      "text/html": [
       "<div>\n",
       "<style scoped>\n",
       "    .dataframe tbody tr th:only-of-type {\n",
       "        vertical-align: middle;\n",
       "    }\n",
       "\n",
       "    .dataframe tbody tr th {\n",
       "        vertical-align: top;\n",
       "    }\n",
       "\n",
       "    .dataframe thead th {\n",
       "        text-align: right;\n",
       "    }\n",
       "</style>\n",
       "<table border=\"1\" class=\"dataframe\">\n",
       "  <thead>\n",
       "    <tr style=\"text-align: right;\">\n",
       "      <th></th>\n",
       "      <th>Location</th>\n",
       "      <th>Date</th>\n",
       "      <th>CCI Value</th>\n",
       "    </tr>\n",
       "  </thead>\n",
       "  <tbody>\n",
       "    <tr>\n",
       "      <th>0</th>\n",
       "      <td>OECD</td>\n",
       "      <td>1974-01-01</td>\n",
       "      <td>98.96154</td>\n",
       "    </tr>\n",
       "    <tr>\n",
       "      <th>1</th>\n",
       "      <td>OECD</td>\n",
       "      <td>1974-02-01</td>\n",
       "      <td>98.94519</td>\n",
       "    </tr>\n",
       "    <tr>\n",
       "      <th>2</th>\n",
       "      <td>OECD</td>\n",
       "      <td>1974-03-01</td>\n",
       "      <td>99.07729</td>\n",
       "    </tr>\n",
       "    <tr>\n",
       "      <th>3</th>\n",
       "      <td>OECD</td>\n",
       "      <td>1974-04-01</td>\n",
       "      <td>99.20571</td>\n",
       "    </tr>\n",
       "    <tr>\n",
       "      <th>4</th>\n",
       "      <td>OECD</td>\n",
       "      <td>1974-05-01</td>\n",
       "      <td>99.18984</td>\n",
       "    </tr>\n",
       "  </tbody>\n",
       "</table>\n",
       "</div>"
      ],
      "text/plain": [
       "  Location       Date  CCI Value\n",
       "0     OECD 1974-01-01   98.96154\n",
       "1     OECD 1974-02-01   98.94519\n",
       "2     OECD 1974-03-01   99.07729\n",
       "3     OECD 1974-04-01   99.20571\n",
       "4     OECD 1974-05-01   99.18984"
      ]
     },
     "execution_count": 40,
     "metadata": {},
     "output_type": "execute_result"
    }
   ],
   "source": [
    "cci.head()"
   ]
  },
  {
   "cell_type": "code",
   "execution_count": 41,
   "metadata": {},
   "outputs": [],
   "source": [
    "cci_re = cci.resample('M', on='Date').mean()"
   ]
  },
  {
   "cell_type": "code",
   "execution_count": 42,
   "metadata": {},
   "outputs": [
    {
     "data": {
      "text/html": [
       "<div>\n",
       "<style scoped>\n",
       "    .dataframe tbody tr th:only-of-type {\n",
       "        vertical-align: middle;\n",
       "    }\n",
       "\n",
       "    .dataframe tbody tr th {\n",
       "        vertical-align: top;\n",
       "    }\n",
       "\n",
       "    .dataframe thead th {\n",
       "        text-align: right;\n",
       "    }\n",
       "</style>\n",
       "<table border=\"1\" class=\"dataframe\">\n",
       "  <thead>\n",
       "    <tr style=\"text-align: right;\">\n",
       "      <th></th>\n",
       "      <th>CCI Value</th>\n",
       "    </tr>\n",
       "    <tr>\n",
       "      <th>Date</th>\n",
       "      <th></th>\n",
       "    </tr>\n",
       "  </thead>\n",
       "  <tbody>\n",
       "    <tr>\n",
       "      <th>1970-12-31</th>\n",
       "      <td>98.74387</td>\n",
       "    </tr>\n",
       "    <tr>\n",
       "      <th>1971-01-31</th>\n",
       "      <td>98.92701</td>\n",
       "    </tr>\n",
       "    <tr>\n",
       "      <th>1971-02-28</th>\n",
       "      <td>99.06342</td>\n",
       "    </tr>\n",
       "    <tr>\n",
       "      <th>1971-03-31</th>\n",
       "      <td>99.16283</td>\n",
       "    </tr>\n",
       "    <tr>\n",
       "      <th>1971-04-30</th>\n",
       "      <td>99.24342</td>\n",
       "    </tr>\n",
       "  </tbody>\n",
       "</table>\n",
       "</div>"
      ],
      "text/plain": [
       "            CCI Value\n",
       "Date                 \n",
       "1970-12-31   98.74387\n",
       "1971-01-31   98.92701\n",
       "1971-02-28   99.06342\n",
       "1971-03-31   99.16283\n",
       "1971-04-30   99.24342"
      ]
     },
     "execution_count": 42,
     "metadata": {},
     "output_type": "execute_result"
    }
   ],
   "source": [
    "cci_re.head()"
   ]
  },
  {
   "cell_type": "code",
   "execution_count": 43,
   "metadata": {},
   "outputs": [
    {
     "data": {
      "text/plain": [
       "DatetimeIndex(['1970-12-31', '1971-01-31', '1971-02-28', '1971-03-31',\n",
       "               '1971-04-30', '1971-05-31', '1971-06-30', '1971-07-31',\n",
       "               '1971-08-31', '1971-09-30',\n",
       "               ...\n",
       "               '2019-02-28', '2019-03-31', '2019-04-30', '2019-05-31',\n",
       "               '2019-06-30', '2019-07-31', '2019-08-31', '2019-09-30',\n",
       "               '2019-10-31', '2019-11-30'],\n",
       "              dtype='datetime64[ns]', name='Date', length=588, freq='M')"
      ]
     },
     "execution_count": 43,
     "metadata": {},
     "output_type": "execute_result"
    }
   ],
   "source": [
    "cci_re.index"
   ]
  },
  {
   "cell_type": "markdown",
   "metadata": {},
   "source": [
    "# Merging CCI and Yield by Months resampling"
   ]
  },
  {
   "cell_type": "code",
   "execution_count": 46,
   "metadata": {},
   "outputs": [
    {
     "data": {
      "text/html": [
       "<div>\n",
       "<style scoped>\n",
       "    .dataframe tbody tr th:only-of-type {\n",
       "        vertical-align: middle;\n",
       "    }\n",
       "\n",
       "    .dataframe tbody tr th {\n",
       "        vertical-align: top;\n",
       "    }\n",
       "\n",
       "    .dataframe thead th {\n",
       "        text-align: right;\n",
       "    }\n",
       "</style>\n",
       "<table border=\"1\" class=\"dataframe\">\n",
       "  <thead>\n",
       "    <tr style=\"text-align: right;\">\n",
       "      <th></th>\n",
       "      <th>CCI Value</th>\n",
       "    </tr>\n",
       "    <tr>\n",
       "      <th>Date</th>\n",
       "      <th></th>\n",
       "    </tr>\n",
       "  </thead>\n",
       "  <tbody>\n",
       "    <tr>\n",
       "      <th>1970-12-31</th>\n",
       "      <td>98.74387</td>\n",
       "    </tr>\n",
       "    <tr>\n",
       "      <th>1971-01-31</th>\n",
       "      <td>98.92701</td>\n",
       "    </tr>\n",
       "    <tr>\n",
       "      <th>1971-02-28</th>\n",
       "      <td>99.06342</td>\n",
       "    </tr>\n",
       "    <tr>\n",
       "      <th>1971-03-31</th>\n",
       "      <td>99.16283</td>\n",
       "    </tr>\n",
       "    <tr>\n",
       "      <th>1971-04-30</th>\n",
       "      <td>99.24342</td>\n",
       "    </tr>\n",
       "  </tbody>\n",
       "</table>\n",
       "</div>"
      ],
      "text/plain": [
       "            CCI Value\n",
       "Date                 \n",
       "1970-12-31   98.74387\n",
       "1971-01-31   98.92701\n",
       "1971-02-28   99.06342\n",
       "1971-03-31   99.16283\n",
       "1971-04-30   99.24342"
      ]
     },
     "execution_count": 46,
     "metadata": {},
     "output_type": "execute_result"
    }
   ],
   "source": [
    "cci_re.head()"
   ]
  },
  {
   "cell_type": "code",
   "execution_count": 48,
   "metadata": {},
   "outputs": [
    {
     "data": {
      "text/html": [
       "<div>\n",
       "<style scoped>\n",
       "    .dataframe tbody tr th:only-of-type {\n",
       "        vertical-align: middle;\n",
       "    }\n",
       "\n",
       "    .dataframe tbody tr th {\n",
       "        vertical-align: top;\n",
       "    }\n",
       "\n",
       "    .dataframe thead th {\n",
       "        text-align: right;\n",
       "    }\n",
       "</style>\n",
       "<table border=\"1\" class=\"dataframe\">\n",
       "  <thead>\n",
       "    <tr style=\"text-align: right;\">\n",
       "      <th></th>\n",
       "      <th>10 Year Treasury Yield</th>\n",
       "      <th>3 Month Treasury Yield</th>\n",
       "      <th>3 Month Treasury Yield (Bond Equivalent Basis)</th>\n",
       "      <th>Spread</th>\n",
       "      <th>Rec_prob</th>\n",
       "      <th>NBER_Rec</th>\n",
       "      <th>Year</th>\n",
       "    </tr>\n",
       "    <tr>\n",
       "      <th>Date</th>\n",
       "      <th></th>\n",
       "      <th></th>\n",
       "      <th></th>\n",
       "      <th></th>\n",
       "      <th></th>\n",
       "      <th></th>\n",
       "      <th></th>\n",
       "    </tr>\n",
       "  </thead>\n",
       "  <tbody>\n",
       "    <tr>\n",
       "      <th>1960-01-31</th>\n",
       "      <td>4.72</td>\n",
       "      <td>4.35</td>\n",
       "      <td>4.459452</td>\n",
       "      <td>0.260548</td>\n",
       "      <td>0.104719</td>\n",
       "      <td>0.0</td>\n",
       "      <td>1960</td>\n",
       "    </tr>\n",
       "    <tr>\n",
       "      <th>1960-02-29</th>\n",
       "      <td>4.49</td>\n",
       "      <td>3.96</td>\n",
       "      <td>4.055597</td>\n",
       "      <td>0.434403</td>\n",
       "      <td>0.097620</td>\n",
       "      <td>0.0</td>\n",
       "      <td>1960</td>\n",
       "    </tr>\n",
       "    <tr>\n",
       "      <th>1960-03-31</th>\n",
       "      <td>4.25</td>\n",
       "      <td>3.31</td>\n",
       "      <td>3.384288</td>\n",
       "      <td>0.865712</td>\n",
       "      <td>0.105806</td>\n",
       "      <td>0.0</td>\n",
       "      <td>1960</td>\n",
       "    </tr>\n",
       "    <tr>\n",
       "      <th>1960-04-30</th>\n",
       "      <td>4.28</td>\n",
       "      <td>3.23</td>\n",
       "      <td>3.301820</td>\n",
       "      <td>0.978180</td>\n",
       "      <td>0.108648</td>\n",
       "      <td>0.0</td>\n",
       "      <td>1960</td>\n",
       "    </tr>\n",
       "    <tr>\n",
       "      <th>1960-05-31</th>\n",
       "      <td>4.35</td>\n",
       "      <td>3.29</td>\n",
       "      <td>3.363668</td>\n",
       "      <td>0.986332</td>\n",
       "      <td>0.076983</td>\n",
       "      <td>1.0</td>\n",
       "      <td>1960</td>\n",
       "    </tr>\n",
       "  </tbody>\n",
       "</table>\n",
       "</div>"
      ],
      "text/plain": [
       "            10 Year Treasury Yield  3 Month Treasury Yield  \\\n",
       "Date                                                         \n",
       "1960-01-31                    4.72                    4.35   \n",
       "1960-02-29                    4.49                    3.96   \n",
       "1960-03-31                    4.25                    3.31   \n",
       "1960-04-30                    4.28                    3.23   \n",
       "1960-05-31                    4.35                    3.29   \n",
       "\n",
       "            3 Month Treasury Yield (Bond Equivalent Basis)    Spread  \\\n",
       "Date                                                                   \n",
       "1960-01-31                                        4.459452  0.260548   \n",
       "1960-02-29                                        4.055597  0.434403   \n",
       "1960-03-31                                        3.384288  0.865712   \n",
       "1960-04-30                                        3.301820  0.978180   \n",
       "1960-05-31                                        3.363668  0.986332   \n",
       "\n",
       "            Rec_prob  NBER_Rec  Year  \n",
       "Date                                  \n",
       "1960-01-31  0.104719       0.0  1960  \n",
       "1960-02-29  0.097620       0.0  1960  \n",
       "1960-03-31  0.105806       0.0  1960  \n",
       "1960-04-30  0.108648       0.0  1960  \n",
       "1960-05-31  0.076983       1.0  1960  "
      ]
     },
     "execution_count": 48,
     "metadata": {},
     "output_type": "execute_result"
    }
   ],
   "source": [
    "yield_curve.head()"
   ]
  },
  {
   "cell_type": "code",
   "execution_count": 52,
   "metadata": {},
   "outputs": [],
   "source": [
    "yield_curve = yield_curve.reset_index()"
   ]
  },
  {
   "cell_type": "code",
   "execution_count": 53,
   "metadata": {},
   "outputs": [],
   "source": [
    "#  month resampling\n",
    "\n",
    "yield_curve_re = yield_curve.resample('M', on='Date').mean() "
   ]
  },
  {
   "cell_type": "code",
   "execution_count": 54,
   "metadata": {},
   "outputs": [
    {
     "data": {
      "text/html": [
       "<div>\n",
       "<style scoped>\n",
       "    .dataframe tbody tr th:only-of-type {\n",
       "        vertical-align: middle;\n",
       "    }\n",
       "\n",
       "    .dataframe tbody tr th {\n",
       "        vertical-align: top;\n",
       "    }\n",
       "\n",
       "    .dataframe thead th {\n",
       "        text-align: right;\n",
       "    }\n",
       "</style>\n",
       "<table border=\"1\" class=\"dataframe\">\n",
       "  <thead>\n",
       "    <tr style=\"text-align: right;\">\n",
       "      <th></th>\n",
       "      <th>10 Year Treasury Yield</th>\n",
       "      <th>3 Month Treasury Yield</th>\n",
       "      <th>3 Month Treasury Yield (Bond Equivalent Basis)</th>\n",
       "      <th>Spread</th>\n",
       "      <th>Rec_prob</th>\n",
       "      <th>NBER_Rec</th>\n",
       "      <th>Year</th>\n",
       "    </tr>\n",
       "    <tr>\n",
       "      <th>Date</th>\n",
       "      <th></th>\n",
       "      <th></th>\n",
       "      <th></th>\n",
       "      <th></th>\n",
       "      <th></th>\n",
       "      <th></th>\n",
       "      <th></th>\n",
       "    </tr>\n",
       "  </thead>\n",
       "  <tbody>\n",
       "    <tr>\n",
       "      <th>1960-01-31</th>\n",
       "      <td>4.72</td>\n",
       "      <td>4.35</td>\n",
       "      <td>4.459452</td>\n",
       "      <td>0.260548</td>\n",
       "      <td>0.104719</td>\n",
       "      <td>0.0</td>\n",
       "      <td>1960</td>\n",
       "    </tr>\n",
       "    <tr>\n",
       "      <th>1960-02-29</th>\n",
       "      <td>4.49</td>\n",
       "      <td>3.96</td>\n",
       "      <td>4.055597</td>\n",
       "      <td>0.434403</td>\n",
       "      <td>0.097620</td>\n",
       "      <td>0.0</td>\n",
       "      <td>1960</td>\n",
       "    </tr>\n",
       "    <tr>\n",
       "      <th>1960-03-31</th>\n",
       "      <td>4.25</td>\n",
       "      <td>3.31</td>\n",
       "      <td>3.384288</td>\n",
       "      <td>0.865712</td>\n",
       "      <td>0.105806</td>\n",
       "      <td>0.0</td>\n",
       "      <td>1960</td>\n",
       "    </tr>\n",
       "    <tr>\n",
       "      <th>1960-04-30</th>\n",
       "      <td>4.28</td>\n",
       "      <td>3.23</td>\n",
       "      <td>3.301820</td>\n",
       "      <td>0.978180</td>\n",
       "      <td>0.108648</td>\n",
       "      <td>0.0</td>\n",
       "      <td>1960</td>\n",
       "    </tr>\n",
       "    <tr>\n",
       "      <th>1960-05-31</th>\n",
       "      <td>4.35</td>\n",
       "      <td>3.29</td>\n",
       "      <td>3.363668</td>\n",
       "      <td>0.986332</td>\n",
       "      <td>0.076983</td>\n",
       "      <td>1.0</td>\n",
       "      <td>1960</td>\n",
       "    </tr>\n",
       "  </tbody>\n",
       "</table>\n",
       "</div>"
      ],
      "text/plain": [
       "            10 Year Treasury Yield  3 Month Treasury Yield  \\\n",
       "Date                                                         \n",
       "1960-01-31                    4.72                    4.35   \n",
       "1960-02-29                    4.49                    3.96   \n",
       "1960-03-31                    4.25                    3.31   \n",
       "1960-04-30                    4.28                    3.23   \n",
       "1960-05-31                    4.35                    3.29   \n",
       "\n",
       "            3 Month Treasury Yield (Bond Equivalent Basis)    Spread  \\\n",
       "Date                                                                   \n",
       "1960-01-31                                        4.459452  0.260548   \n",
       "1960-02-29                                        4.055597  0.434403   \n",
       "1960-03-31                                        3.384288  0.865712   \n",
       "1960-04-30                                        3.301820  0.978180   \n",
       "1960-05-31                                        3.363668  0.986332   \n",
       "\n",
       "            Rec_prob  NBER_Rec  Year  \n",
       "Date                                  \n",
       "1960-01-31  0.104719       0.0  1960  \n",
       "1960-02-29  0.097620       0.0  1960  \n",
       "1960-03-31  0.105806       0.0  1960  \n",
       "1960-04-30  0.108648       0.0  1960  \n",
       "1960-05-31  0.076983       1.0  1960  "
      ]
     },
     "execution_count": 54,
     "metadata": {},
     "output_type": "execute_result"
    }
   ],
   "source": [
    "yield_curve_re.head()"
   ]
  },
  {
   "cell_type": "code",
   "execution_count": 55,
   "metadata": {},
   "outputs": [],
   "source": [
    "#merging both tables using month resampling\n",
    "\n",
    "yield_curve_cci_mre = pd.merge(yield_curve_re,cci_re,left_index=True, right_index=True) "
   ]
  },
  {
   "cell_type": "code",
   "execution_count": 56,
   "metadata": {},
   "outputs": [
    {
     "data": {
      "text/html": [
       "<div>\n",
       "<style scoped>\n",
       "    .dataframe tbody tr th:only-of-type {\n",
       "        vertical-align: middle;\n",
       "    }\n",
       "\n",
       "    .dataframe tbody tr th {\n",
       "        vertical-align: top;\n",
       "    }\n",
       "\n",
       "    .dataframe thead th {\n",
       "        text-align: right;\n",
       "    }\n",
       "</style>\n",
       "<table border=\"1\" class=\"dataframe\">\n",
       "  <thead>\n",
       "    <tr style=\"text-align: right;\">\n",
       "      <th></th>\n",
       "      <th>10 Year Treasury Yield</th>\n",
       "      <th>3 Month Treasury Yield</th>\n",
       "      <th>3 Month Treasury Yield (Bond Equivalent Basis)</th>\n",
       "      <th>Spread</th>\n",
       "      <th>Rec_prob</th>\n",
       "      <th>NBER_Rec</th>\n",
       "      <th>Year</th>\n",
       "      <th>CCI Value</th>\n",
       "    </tr>\n",
       "    <tr>\n",
       "      <th>Date</th>\n",
       "      <th></th>\n",
       "      <th></th>\n",
       "      <th></th>\n",
       "      <th></th>\n",
       "      <th></th>\n",
       "      <th></th>\n",
       "      <th></th>\n",
       "      <th></th>\n",
       "    </tr>\n",
       "  </thead>\n",
       "  <tbody>\n",
       "    <tr>\n",
       "      <th>1970-12-31</th>\n",
       "      <td>6.39</td>\n",
       "      <td>4.87</td>\n",
       "      <td>4.999180</td>\n",
       "      <td>1.390820</td>\n",
       "      <td>0.399079</td>\n",
       "      <td>0.0</td>\n",
       "      <td>1970</td>\n",
       "      <td>98.74387</td>\n",
       "    </tr>\n",
       "    <tr>\n",
       "      <th>1971-01-31</th>\n",
       "      <td>6.24</td>\n",
       "      <td>4.44</td>\n",
       "      <td>4.552764</td>\n",
       "      <td>1.687236</td>\n",
       "      <td>0.377920</td>\n",
       "      <td>0.0</td>\n",
       "      <td>1971</td>\n",
       "      <td>98.92701</td>\n",
       "    </tr>\n",
       "    <tr>\n",
       "      <th>1971-02-28</th>\n",
       "      <td>6.11</td>\n",
       "      <td>3.70</td>\n",
       "      <td>3.786806</td>\n",
       "      <td>2.323194</td>\n",
       "      <td>0.324102</td>\n",
       "      <td>0.0</td>\n",
       "      <td>1971</td>\n",
       "      <td>99.06342</td>\n",
       "    </tr>\n",
       "    <tr>\n",
       "      <th>1971-03-31</th>\n",
       "      <td>5.70</td>\n",
       "      <td>3.38</td>\n",
       "      <td>3.456476</td>\n",
       "      <td>2.243524</td>\n",
       "      <td>0.247934</td>\n",
       "      <td>0.0</td>\n",
       "      <td>1971</td>\n",
       "      <td>99.16283</td>\n",
       "    </tr>\n",
       "    <tr>\n",
       "      <th>1971-04-30</th>\n",
       "      <td>5.83</td>\n",
       "      <td>3.86</td>\n",
       "      <td>3.952173</td>\n",
       "      <td>1.877827</td>\n",
       "      <td>0.167723</td>\n",
       "      <td>0.0</td>\n",
       "      <td>1971</td>\n",
       "      <td>99.24342</td>\n",
       "    </tr>\n",
       "  </tbody>\n",
       "</table>\n",
       "</div>"
      ],
      "text/plain": [
       "            10 Year Treasury Yield  3 Month Treasury Yield  \\\n",
       "Date                                                         \n",
       "1970-12-31                    6.39                    4.87   \n",
       "1971-01-31                    6.24                    4.44   \n",
       "1971-02-28                    6.11                    3.70   \n",
       "1971-03-31                    5.70                    3.38   \n",
       "1971-04-30                    5.83                    3.86   \n",
       "\n",
       "            3 Month Treasury Yield (Bond Equivalent Basis)    Spread  \\\n",
       "Date                                                                   \n",
       "1970-12-31                                        4.999180  1.390820   \n",
       "1971-01-31                                        4.552764  1.687236   \n",
       "1971-02-28                                        3.786806  2.323194   \n",
       "1971-03-31                                        3.456476  2.243524   \n",
       "1971-04-30                                        3.952173  1.877827   \n",
       "\n",
       "            Rec_prob  NBER_Rec  Year  CCI Value  \n",
       "Date                                             \n",
       "1970-12-31  0.399079       0.0  1970   98.74387  \n",
       "1971-01-31  0.377920       0.0  1971   98.92701  \n",
       "1971-02-28  0.324102       0.0  1971   99.06342  \n",
       "1971-03-31  0.247934       0.0  1971   99.16283  \n",
       "1971-04-30  0.167723       0.0  1971   99.24342  "
      ]
     },
     "execution_count": 56,
     "metadata": {},
     "output_type": "execute_result"
    }
   ],
   "source": [
    "yield_curve_cci_mre.head()"
   ]
  },
  {
   "cell_type": "code",
   "execution_count": 57,
   "metadata": {},
   "outputs": [],
   "source": [
    "yield_curve_cci_mre.to_csv('/Users/vladimirautier/Documents/GitHub/Week9/Project-Week-9-Final-Project/your-project/Final Project/Modified:Cleaned Data/yield_curve_cci_mre.csv')"
   ]
  },
  {
   "cell_type": "markdown",
   "metadata": {},
   "source": [
    "# Merging GDP, CCI and Yield using Year resampling"
   ]
  },
  {
   "cell_type": "code",
   "execution_count": 58,
   "metadata": {},
   "outputs": [
    {
     "data": {
      "text/html": [
       "<div>\n",
       "<style scoped>\n",
       "    .dataframe tbody tr th:only-of-type {\n",
       "        vertical-align: middle;\n",
       "    }\n",
       "\n",
       "    .dataframe tbody tr th {\n",
       "        vertical-align: top;\n",
       "    }\n",
       "\n",
       "    .dataframe thead th {\n",
       "        text-align: right;\n",
       "    }\n",
       "</style>\n",
       "<table border=\"1\" class=\"dataframe\">\n",
       "  <thead>\n",
       "    <tr style=\"text-align: right;\">\n",
       "      <th></th>\n",
       "      <th>Date</th>\n",
       "      <th>10 Year Treasury Yield</th>\n",
       "      <th>3 Month Treasury Yield</th>\n",
       "      <th>3 Month Treasury Yield (Bond Equivalent Basis)</th>\n",
       "      <th>Spread</th>\n",
       "      <th>Rec_prob</th>\n",
       "      <th>NBER_Rec</th>\n",
       "      <th>Year</th>\n",
       "    </tr>\n",
       "  </thead>\n",
       "  <tbody>\n",
       "    <tr>\n",
       "      <th>0</th>\n",
       "      <td>1960-01-31</td>\n",
       "      <td>4.72</td>\n",
       "      <td>4.35</td>\n",
       "      <td>4.459452</td>\n",
       "      <td>0.260548</td>\n",
       "      <td>0.104719</td>\n",
       "      <td>0.0</td>\n",
       "      <td>1960</td>\n",
       "    </tr>\n",
       "    <tr>\n",
       "      <th>1</th>\n",
       "      <td>1960-02-29</td>\n",
       "      <td>4.49</td>\n",
       "      <td>3.96</td>\n",
       "      <td>4.055597</td>\n",
       "      <td>0.434403</td>\n",
       "      <td>0.097620</td>\n",
       "      <td>0.0</td>\n",
       "      <td>1960</td>\n",
       "    </tr>\n",
       "    <tr>\n",
       "      <th>2</th>\n",
       "      <td>1960-03-31</td>\n",
       "      <td>4.25</td>\n",
       "      <td>3.31</td>\n",
       "      <td>3.384288</td>\n",
       "      <td>0.865712</td>\n",
       "      <td>0.105806</td>\n",
       "      <td>0.0</td>\n",
       "      <td>1960</td>\n",
       "    </tr>\n",
       "    <tr>\n",
       "      <th>3</th>\n",
       "      <td>1960-04-30</td>\n",
       "      <td>4.28</td>\n",
       "      <td>3.23</td>\n",
       "      <td>3.301820</td>\n",
       "      <td>0.978180</td>\n",
       "      <td>0.108648</td>\n",
       "      <td>0.0</td>\n",
       "      <td>1960</td>\n",
       "    </tr>\n",
       "    <tr>\n",
       "      <th>4</th>\n",
       "      <td>1960-05-31</td>\n",
       "      <td>4.35</td>\n",
       "      <td>3.29</td>\n",
       "      <td>3.363668</td>\n",
       "      <td>0.986332</td>\n",
       "      <td>0.076983</td>\n",
       "      <td>1.0</td>\n",
       "      <td>1960</td>\n",
       "    </tr>\n",
       "  </tbody>\n",
       "</table>\n",
       "</div>"
      ],
      "text/plain": [
       "        Date  10 Year Treasury Yield  3 Month Treasury Yield  \\\n",
       "0 1960-01-31                    4.72                    4.35   \n",
       "1 1960-02-29                    4.49                    3.96   \n",
       "2 1960-03-31                    4.25                    3.31   \n",
       "3 1960-04-30                    4.28                    3.23   \n",
       "4 1960-05-31                    4.35                    3.29   \n",
       "\n",
       "   3 Month Treasury Yield (Bond Equivalent Basis)    Spread  Rec_prob  \\\n",
       "0                                        4.459452  0.260548  0.104719   \n",
       "1                                        4.055597  0.434403  0.097620   \n",
       "2                                        3.384288  0.865712  0.105806   \n",
       "3                                        3.301820  0.978180  0.108648   \n",
       "4                                        3.363668  0.986332  0.076983   \n",
       "\n",
       "   NBER_Rec  Year  \n",
       "0       0.0  1960  \n",
       "1       0.0  1960  \n",
       "2       0.0  1960  \n",
       "3       0.0  1960  \n",
       "4       1.0  1960  "
      ]
     },
     "execution_count": 58,
     "metadata": {},
     "output_type": "execute_result"
    }
   ],
   "source": [
    "yield_curve.head()"
   ]
  },
  {
   "cell_type": "code",
   "execution_count": 59,
   "metadata": {},
   "outputs": [],
   "source": [
    "yield_curve = yield_curve.reset_index()"
   ]
  },
  {
   "cell_type": "code",
   "execution_count": 60,
   "metadata": {},
   "outputs": [],
   "source": [
    "yield_curve_recession = yield_curve[['Date','NBER_Rec']]"
   ]
  },
  {
   "cell_type": "code",
   "execution_count": 61,
   "metadata": {},
   "outputs": [
    {
     "data": {
      "text/html": [
       "<div>\n",
       "<style scoped>\n",
       "    .dataframe tbody tr th:only-of-type {\n",
       "        vertical-align: middle;\n",
       "    }\n",
       "\n",
       "    .dataframe tbody tr th {\n",
       "        vertical-align: top;\n",
       "    }\n",
       "\n",
       "    .dataframe thead th {\n",
       "        text-align: right;\n",
       "    }\n",
       "</style>\n",
       "<table border=\"1\" class=\"dataframe\">\n",
       "  <thead>\n",
       "    <tr style=\"text-align: right;\">\n",
       "      <th></th>\n",
       "      <th>Date</th>\n",
       "      <th>NBER_Rec</th>\n",
       "    </tr>\n",
       "  </thead>\n",
       "  <tbody>\n",
       "    <tr>\n",
       "      <th>0</th>\n",
       "      <td>1960-01-31</td>\n",
       "      <td>0.0</td>\n",
       "    </tr>\n",
       "    <tr>\n",
       "      <th>1</th>\n",
       "      <td>1960-02-29</td>\n",
       "      <td>0.0</td>\n",
       "    </tr>\n",
       "    <tr>\n",
       "      <th>2</th>\n",
       "      <td>1960-03-31</td>\n",
       "      <td>0.0</td>\n",
       "    </tr>\n",
       "    <tr>\n",
       "      <th>3</th>\n",
       "      <td>1960-04-30</td>\n",
       "      <td>0.0</td>\n",
       "    </tr>\n",
       "    <tr>\n",
       "      <th>4</th>\n",
       "      <td>1960-05-31</td>\n",
       "      <td>1.0</td>\n",
       "    </tr>\n",
       "  </tbody>\n",
       "</table>\n",
       "</div>"
      ],
      "text/plain": [
       "        Date  NBER_Rec\n",
       "0 1960-01-31       0.0\n",
       "1 1960-02-29       0.0\n",
       "2 1960-03-31       0.0\n",
       "3 1960-04-30       0.0\n",
       "4 1960-05-31       1.0"
      ]
     },
     "execution_count": 61,
     "metadata": {},
     "output_type": "execute_result"
    }
   ],
   "source": [
    "yield_curve_recession.head() # Extracting the Recession column for later use."
   ]
  },
  {
   "cell_type": "code",
   "execution_count": 62,
   "metadata": {},
   "outputs": [],
   "source": [
    "yield_curve_recession.to_csv('/Users/vladimirautier/Documents/GitHub/Week9/Project-Week-9-Final-Project/your-project/Final Project/Modified:Cleaned Data/Nber_Rec_col.csv')"
   ]
  },
  {
   "cell_type": "code",
   "execution_count": 63,
   "metadata": {},
   "outputs": [
    {
     "data": {
      "text/plain": [
       "Date        datetime64[ns]\n",
       "NBER_Rec           float64\n",
       "dtype: object"
      ]
     },
     "execution_count": 63,
     "metadata": {},
     "output_type": "execute_result"
    }
   ],
   "source": [
    "yield_curve_recession.dtypes"
   ]
  },
  {
   "cell_type": "code",
   "execution_count": 64,
   "metadata": {},
   "outputs": [],
   "source": [
    "yield_curve_recession.set_index('Date', inplace=True)"
   ]
  },
  {
   "cell_type": "code",
   "execution_count": 65,
   "metadata": {},
   "outputs": [
    {
     "name": "stderr",
     "output_type": "stream",
     "text": [
      "/Users/vladimirautier/anaconda3/lib/python3.7/site-packages/ipykernel_launcher.py:1: SettingWithCopyWarning:\n",
      "\n",
      "\n",
      "A value is trying to be set on a copy of a slice from a DataFrame.\n",
      "Try using .loc[row_indexer,col_indexer] = value instead\n",
      "\n",
      "See the caveats in the documentation: http://pandas.pydata.org/pandas-docs/stable/indexing.html#indexing-view-versus-copy\n",
      "\n"
     ]
    }
   ],
   "source": [
    "yield_curve_recession['Year'] = yield_curve_recession.index.year"
   ]
  },
  {
   "cell_type": "code",
   "execution_count": 66,
   "metadata": {},
   "outputs": [
    {
     "data": {
      "text/plain": [
       "NBER_Rec    float64\n",
       "Year          int64\n",
       "dtype: object"
      ]
     },
     "execution_count": 66,
     "metadata": {},
     "output_type": "execute_result"
    }
   ],
   "source": [
    "yield_curve_recession.dtypes"
   ]
  },
  {
   "cell_type": "code",
   "execution_count": 67,
   "metadata": {},
   "outputs": [],
   "source": [
    "yield_curve_recession = yield_curve_recession.reset_index()"
   ]
  },
  {
   "cell_type": "code",
   "execution_count": 95,
   "metadata": {},
   "outputs": [],
   "source": [
    "#Year resampling because I want to add the GDP that has a yearly index\n",
    "\n",
    "yield_curve_recession = yield_curve_recession.resample('Y',on='Date').max() "
   ]
  },
  {
   "cell_type": "code",
   "execution_count": 96,
   "metadata": {},
   "outputs": [
    {
     "data": {
      "text/html": [
       "<div>\n",
       "<style scoped>\n",
       "    .dataframe tbody tr th:only-of-type {\n",
       "        vertical-align: middle;\n",
       "    }\n",
       "\n",
       "    .dataframe tbody tr th {\n",
       "        vertical-align: top;\n",
       "    }\n",
       "\n",
       "    .dataframe thead th {\n",
       "        text-align: right;\n",
       "    }\n",
       "</style>\n",
       "<table border=\"1\" class=\"dataframe\">\n",
       "  <thead>\n",
       "    <tr style=\"text-align: right;\">\n",
       "      <th></th>\n",
       "      <th>Date</th>\n",
       "      <th>NBER_Rec</th>\n",
       "      <th>Year</th>\n",
       "    </tr>\n",
       "    <tr>\n",
       "      <th>Date</th>\n",
       "      <th></th>\n",
       "      <th></th>\n",
       "      <th></th>\n",
       "    </tr>\n",
       "  </thead>\n",
       "  <tbody>\n",
       "    <tr>\n",
       "      <th>1960-12-31</th>\n",
       "      <td>1960-12-31</td>\n",
       "      <td>1.0</td>\n",
       "      <td>1960</td>\n",
       "    </tr>\n",
       "    <tr>\n",
       "      <th>1961-12-31</th>\n",
       "      <td>1961-12-31</td>\n",
       "      <td>1.0</td>\n",
       "      <td>1961</td>\n",
       "    </tr>\n",
       "    <tr>\n",
       "      <th>1962-12-31</th>\n",
       "      <td>1962-12-31</td>\n",
       "      <td>0.0</td>\n",
       "      <td>1962</td>\n",
       "    </tr>\n",
       "    <tr>\n",
       "      <th>1963-12-31</th>\n",
       "      <td>1963-12-31</td>\n",
       "      <td>0.0</td>\n",
       "      <td>1963</td>\n",
       "    </tr>\n",
       "    <tr>\n",
       "      <th>1964-12-31</th>\n",
       "      <td>1964-12-31</td>\n",
       "      <td>0.0</td>\n",
       "      <td>1964</td>\n",
       "    </tr>\n",
       "  </tbody>\n",
       "</table>\n",
       "</div>"
      ],
      "text/plain": [
       "                 Date  NBER_Rec  Year\n",
       "Date                                 \n",
       "1960-12-31 1960-12-31       1.0  1960\n",
       "1961-12-31 1961-12-31       1.0  1961\n",
       "1962-12-31 1962-12-31       0.0  1962\n",
       "1963-12-31 1963-12-31       0.0  1963\n",
       "1964-12-31 1964-12-31       0.0  1964"
      ]
     },
     "execution_count": 96,
     "metadata": {},
     "output_type": "execute_result"
    }
   ],
   "source": [
    "yield_curve_recession.head()"
   ]
  },
  {
   "cell_type": "code",
   "execution_count": null,
   "metadata": {},
   "outputs": [],
   "source": []
  },
  {
   "cell_type": "code",
   "execution_count": 70,
   "metadata": {},
   "outputs": [],
   "source": [
    "yield_curve_yre = yield_curve.resample('Y', on='Date').mean()"
   ]
  },
  {
   "cell_type": "code",
   "execution_count": 71,
   "metadata": {},
   "outputs": [
    {
     "data": {
      "text/html": [
       "<div>\n",
       "<style scoped>\n",
       "    .dataframe tbody tr th:only-of-type {\n",
       "        vertical-align: middle;\n",
       "    }\n",
       "\n",
       "    .dataframe tbody tr th {\n",
       "        vertical-align: top;\n",
       "    }\n",
       "\n",
       "    .dataframe thead th {\n",
       "        text-align: right;\n",
       "    }\n",
       "</style>\n",
       "<table border=\"1\" class=\"dataframe\">\n",
       "  <thead>\n",
       "    <tr style=\"text-align: right;\">\n",
       "      <th></th>\n",
       "      <th>index</th>\n",
       "      <th>10 Year Treasury Yield</th>\n",
       "      <th>3 Month Treasury Yield</th>\n",
       "      <th>3 Month Treasury Yield (Bond Equivalent Basis)</th>\n",
       "      <th>Spread</th>\n",
       "      <th>Rec_prob</th>\n",
       "      <th>NBER_Rec</th>\n",
       "      <th>Year</th>\n",
       "    </tr>\n",
       "    <tr>\n",
       "      <th>Date</th>\n",
       "      <th></th>\n",
       "      <th></th>\n",
       "      <th></th>\n",
       "      <th></th>\n",
       "      <th></th>\n",
       "      <th></th>\n",
       "      <th></th>\n",
       "      <th></th>\n",
       "    </tr>\n",
       "  </thead>\n",
       "  <tbody>\n",
       "    <tr>\n",
       "      <th>1960-12-31</th>\n",
       "      <td>5.5</td>\n",
       "      <td>4.116667</td>\n",
       "      <td>2.883333</td>\n",
       "      <td>2.946112</td>\n",
       "      <td>1.170554</td>\n",
       "      <td>0.147225</td>\n",
       "      <td>0.666667</td>\n",
       "      <td>1960.0</td>\n",
       "    </tr>\n",
       "    <tr>\n",
       "      <th>1961-12-31</th>\n",
       "      <td>17.5</td>\n",
       "      <td>3.882500</td>\n",
       "      <td>2.354167</td>\n",
       "      <td>2.401180</td>\n",
       "      <td>1.481320</td>\n",
       "      <td>0.110397</td>\n",
       "      <td>0.166667</td>\n",
       "      <td>1961.0</td>\n",
       "    </tr>\n",
       "    <tr>\n",
       "      <th>1962-12-31</th>\n",
       "      <td>29.5</td>\n",
       "      <td>3.945833</td>\n",
       "      <td>2.773333</td>\n",
       "      <td>2.831715</td>\n",
       "      <td>1.114118</td>\n",
       "      <td>0.071206</td>\n",
       "      <td>0.000000</td>\n",
       "      <td>1962.0</td>\n",
       "    </tr>\n",
       "    <tr>\n",
       "      <th>1963-12-31</th>\n",
       "      <td>41.5</td>\n",
       "      <td>4.002500</td>\n",
       "      <td>3.159167</td>\n",
       "      <td>3.228995</td>\n",
       "      <td>0.773505</td>\n",
       "      <td>0.108181</td>\n",
       "      <td>0.000000</td>\n",
       "      <td>1963.0</td>\n",
       "    </tr>\n",
       "    <tr>\n",
       "      <th>1964-12-31</th>\n",
       "      <td>53.5</td>\n",
       "      <td>4.186667</td>\n",
       "      <td>3.546667</td>\n",
       "      <td>3.628482</td>\n",
       "      <td>0.558184</td>\n",
       "      <td>0.154766</td>\n",
       "      <td>0.000000</td>\n",
       "      <td>1964.0</td>\n",
       "    </tr>\n",
       "  </tbody>\n",
       "</table>\n",
       "</div>"
      ],
      "text/plain": [
       "            index  10 Year Treasury Yield  3 Month Treasury Yield  \\\n",
       "Date                                                                \n",
       "1960-12-31    5.5                4.116667                2.883333   \n",
       "1961-12-31   17.5                3.882500                2.354167   \n",
       "1962-12-31   29.5                3.945833                2.773333   \n",
       "1963-12-31   41.5                4.002500                3.159167   \n",
       "1964-12-31   53.5                4.186667                3.546667   \n",
       "\n",
       "            3 Month Treasury Yield (Bond Equivalent Basis)    Spread  \\\n",
       "Date                                                                   \n",
       "1960-12-31                                        2.946112  1.170554   \n",
       "1961-12-31                                        2.401180  1.481320   \n",
       "1962-12-31                                        2.831715  1.114118   \n",
       "1963-12-31                                        3.228995  0.773505   \n",
       "1964-12-31                                        3.628482  0.558184   \n",
       "\n",
       "            Rec_prob  NBER_Rec    Year  \n",
       "Date                                    \n",
       "1960-12-31  0.147225  0.666667  1960.0  \n",
       "1961-12-31  0.110397  0.166667  1961.0  \n",
       "1962-12-31  0.071206  0.000000  1962.0  \n",
       "1963-12-31  0.108181  0.000000  1963.0  \n",
       "1964-12-31  0.154766  0.000000  1964.0  "
      ]
     },
     "execution_count": 71,
     "metadata": {},
     "output_type": "execute_result"
    }
   ],
   "source": [
    "yield_curve_yre.head()"
   ]
  },
  {
   "cell_type": "code",
   "execution_count": 72,
   "metadata": {},
   "outputs": [
    {
     "data": {
      "text/html": [
       "<div>\n",
       "<style scoped>\n",
       "    .dataframe tbody tr th:only-of-type {\n",
       "        vertical-align: middle;\n",
       "    }\n",
       "\n",
       "    .dataframe tbody tr th {\n",
       "        vertical-align: top;\n",
       "    }\n",
       "\n",
       "    .dataframe thead th {\n",
       "        text-align: right;\n",
       "    }\n",
       "</style>\n",
       "<table border=\"1\" class=\"dataframe\">\n",
       "  <thead>\n",
       "    <tr style=\"text-align: right;\">\n",
       "      <th></th>\n",
       "      <th>Location</th>\n",
       "      <th>Date</th>\n",
       "      <th>CCI Value</th>\n",
       "    </tr>\n",
       "  </thead>\n",
       "  <tbody>\n",
       "    <tr>\n",
       "      <th>0</th>\n",
       "      <td>OECD</td>\n",
       "      <td>1974-01-01</td>\n",
       "      <td>98.96154</td>\n",
       "    </tr>\n",
       "    <tr>\n",
       "      <th>1</th>\n",
       "      <td>OECD</td>\n",
       "      <td>1974-02-01</td>\n",
       "      <td>98.94519</td>\n",
       "    </tr>\n",
       "    <tr>\n",
       "      <th>2</th>\n",
       "      <td>OECD</td>\n",
       "      <td>1974-03-01</td>\n",
       "      <td>99.07729</td>\n",
       "    </tr>\n",
       "    <tr>\n",
       "      <th>3</th>\n",
       "      <td>OECD</td>\n",
       "      <td>1974-04-01</td>\n",
       "      <td>99.20571</td>\n",
       "    </tr>\n",
       "    <tr>\n",
       "      <th>4</th>\n",
       "      <td>OECD</td>\n",
       "      <td>1974-05-01</td>\n",
       "      <td>99.18984</td>\n",
       "    </tr>\n",
       "  </tbody>\n",
       "</table>\n",
       "</div>"
      ],
      "text/plain": [
       "  Location       Date  CCI Value\n",
       "0     OECD 1974-01-01   98.96154\n",
       "1     OECD 1974-02-01   98.94519\n",
       "2     OECD 1974-03-01   99.07729\n",
       "3     OECD 1974-04-01   99.20571\n",
       "4     OECD 1974-05-01   99.18984"
      ]
     },
     "execution_count": 72,
     "metadata": {},
     "output_type": "execute_result"
    }
   ],
   "source": [
    "cci.head()"
   ]
  },
  {
   "cell_type": "code",
   "execution_count": 73,
   "metadata": {},
   "outputs": [],
   "source": [
    "cci_yre = cci.resample('Y',on='Date').mean()"
   ]
  },
  {
   "cell_type": "code",
   "execution_count": 74,
   "metadata": {},
   "outputs": [
    {
     "data": {
      "text/html": [
       "<div>\n",
       "<style scoped>\n",
       "    .dataframe tbody tr th:only-of-type {\n",
       "        vertical-align: middle;\n",
       "    }\n",
       "\n",
       "    .dataframe tbody tr th {\n",
       "        vertical-align: top;\n",
       "    }\n",
       "\n",
       "    .dataframe thead th {\n",
       "        text-align: right;\n",
       "    }\n",
       "</style>\n",
       "<table border=\"1\" class=\"dataframe\">\n",
       "  <thead>\n",
       "    <tr style=\"text-align: right;\">\n",
       "      <th></th>\n",
       "      <th>CCI Value</th>\n",
       "    </tr>\n",
       "    <tr>\n",
       "      <th>Date</th>\n",
       "      <th></th>\n",
       "    </tr>\n",
       "  </thead>\n",
       "  <tbody>\n",
       "    <tr>\n",
       "      <th>1970-12-31</th>\n",
       "      <td>98.743870</td>\n",
       "    </tr>\n",
       "    <tr>\n",
       "      <th>1971-12-31</th>\n",
       "      <td>99.425517</td>\n",
       "    </tr>\n",
       "    <tr>\n",
       "      <th>1972-12-31</th>\n",
       "      <td>100.458448</td>\n",
       "    </tr>\n",
       "    <tr>\n",
       "      <th>1973-12-31</th>\n",
       "      <td>98.640602</td>\n",
       "    </tr>\n",
       "    <tr>\n",
       "      <th>1974-12-31</th>\n",
       "      <td>98.089943</td>\n",
       "    </tr>\n",
       "  </tbody>\n",
       "</table>\n",
       "</div>"
      ],
      "text/plain": [
       "             CCI Value\n",
       "Date                  \n",
       "1970-12-31   98.743870\n",
       "1971-12-31   99.425517\n",
       "1972-12-31  100.458448\n",
       "1973-12-31   98.640602\n",
       "1974-12-31   98.089943"
      ]
     },
     "execution_count": 74,
     "metadata": {},
     "output_type": "execute_result"
    }
   ],
   "source": [
    "cci_yre.head()"
   ]
  },
  {
   "cell_type": "code",
   "execution_count": 75,
   "metadata": {},
   "outputs": [
    {
     "data": {
      "text/html": [
       "<div>\n",
       "<style scoped>\n",
       "    .dataframe tbody tr th:only-of-type {\n",
       "        vertical-align: middle;\n",
       "    }\n",
       "\n",
       "    .dataframe tbody tr th {\n",
       "        vertical-align: top;\n",
       "    }\n",
       "\n",
       "    .dataframe thead th {\n",
       "        text-align: right;\n",
       "    }\n",
       "</style>\n",
       "<table border=\"1\" class=\"dataframe\">\n",
       "  <thead>\n",
       "    <tr style=\"text-align: right;\">\n",
       "      <th></th>\n",
       "      <th>GDP per capita growth (annual %)</th>\n",
       "    </tr>\n",
       "    <tr>\n",
       "      <th>Date</th>\n",
       "      <th></th>\n",
       "    </tr>\n",
       "  </thead>\n",
       "  <tbody>\n",
       "    <tr>\n",
       "      <th>1961-01-01</th>\n",
       "      <td>2.965469</td>\n",
       "    </tr>\n",
       "    <tr>\n",
       "      <th>1962-01-01</th>\n",
       "      <td>3.786323</td>\n",
       "    </tr>\n",
       "    <tr>\n",
       "      <th>1963-01-01</th>\n",
       "      <td>3.070278</td>\n",
       "    </tr>\n",
       "    <tr>\n",
       "      <th>1964-01-01</th>\n",
       "      <td>4.518973</td>\n",
       "    </tr>\n",
       "    <tr>\n",
       "      <th>1965-01-01</th>\n",
       "      <td>3.433511</td>\n",
       "    </tr>\n",
       "  </tbody>\n",
       "</table>\n",
       "</div>"
      ],
      "text/plain": [
       "            GDP per capita growth (annual %)\n",
       "Date                                        \n",
       "1961-01-01                          2.965469\n",
       "1962-01-01                          3.786323\n",
       "1963-01-01                          3.070278\n",
       "1964-01-01                          4.518973\n",
       "1965-01-01                          3.433511"
      ]
     },
     "execution_count": 75,
     "metadata": {},
     "output_type": "execute_result"
    }
   ],
   "source": [
    "gdp.head()"
   ]
  },
  {
   "cell_type": "code",
   "execution_count": 76,
   "metadata": {},
   "outputs": [],
   "source": [
    "gdp = gdp.reset_index()"
   ]
  },
  {
   "cell_type": "code",
   "execution_count": 77,
   "metadata": {},
   "outputs": [
    {
     "data": {
      "text/plain": [
       "Date                                datetime64[ns]\n",
       "GDP per capita growth (annual %)           float64\n",
       "dtype: object"
      ]
     },
     "execution_count": 77,
     "metadata": {},
     "output_type": "execute_result"
    }
   ],
   "source": [
    "gdp.dtypes"
   ]
  },
  {
   "cell_type": "code",
   "execution_count": 78,
   "metadata": {},
   "outputs": [],
   "source": [
    "gdp_yre = gdp.resample('Y',on='Date').mean()"
   ]
  },
  {
   "cell_type": "code",
   "execution_count": 79,
   "metadata": {},
   "outputs": [
    {
     "data": {
      "text/html": [
       "<div>\n",
       "<style scoped>\n",
       "    .dataframe tbody tr th:only-of-type {\n",
       "        vertical-align: middle;\n",
       "    }\n",
       "\n",
       "    .dataframe tbody tr th {\n",
       "        vertical-align: top;\n",
       "    }\n",
       "\n",
       "    .dataframe thead th {\n",
       "        text-align: right;\n",
       "    }\n",
       "</style>\n",
       "<table border=\"1\" class=\"dataframe\">\n",
       "  <thead>\n",
       "    <tr style=\"text-align: right;\">\n",
       "      <th></th>\n",
       "      <th>GDP per capita growth (annual %)</th>\n",
       "    </tr>\n",
       "    <tr>\n",
       "      <th>Date</th>\n",
       "      <th></th>\n",
       "    </tr>\n",
       "  </thead>\n",
       "  <tbody>\n",
       "    <tr>\n",
       "      <th>1961-12-31</th>\n",
       "      <td>2.965469</td>\n",
       "    </tr>\n",
       "    <tr>\n",
       "      <th>1962-12-31</th>\n",
       "      <td>3.786323</td>\n",
       "    </tr>\n",
       "    <tr>\n",
       "      <th>1963-12-31</th>\n",
       "      <td>3.070278</td>\n",
       "    </tr>\n",
       "    <tr>\n",
       "      <th>1964-12-31</th>\n",
       "      <td>4.518973</td>\n",
       "    </tr>\n",
       "    <tr>\n",
       "      <th>1965-12-31</th>\n",
       "      <td>3.433511</td>\n",
       "    </tr>\n",
       "  </tbody>\n",
       "</table>\n",
       "</div>"
      ],
      "text/plain": [
       "            GDP per capita growth (annual %)\n",
       "Date                                        \n",
       "1961-12-31                          2.965469\n",
       "1962-12-31                          3.786323\n",
       "1963-12-31                          3.070278\n",
       "1964-12-31                          4.518973\n",
       "1965-12-31                          3.433511"
      ]
     },
     "execution_count": 79,
     "metadata": {},
     "output_type": "execute_result"
    }
   ],
   "source": [
    "gdp_yre.head()"
   ]
  },
  {
   "cell_type": "code",
   "execution_count": 97,
   "metadata": {},
   "outputs": [],
   "source": [
    "#Now that the 3 estimators are on the same level we can merge them together"
   ]
  },
  {
   "cell_type": "code",
   "execution_count": 80,
   "metadata": {},
   "outputs": [],
   "source": [
    "df_gdp_cci = pd.merge(cci_yre, gdp_yre, left_index=True, right_index=True)"
   ]
  },
  {
   "cell_type": "code",
   "execution_count": 81,
   "metadata": {},
   "outputs": [
    {
     "data": {
      "text/html": [
       "<div>\n",
       "<style scoped>\n",
       "    .dataframe tbody tr th:only-of-type {\n",
       "        vertical-align: middle;\n",
       "    }\n",
       "\n",
       "    .dataframe tbody tr th {\n",
       "        vertical-align: top;\n",
       "    }\n",
       "\n",
       "    .dataframe thead th {\n",
       "        text-align: right;\n",
       "    }\n",
       "</style>\n",
       "<table border=\"1\" class=\"dataframe\">\n",
       "  <thead>\n",
       "    <tr style=\"text-align: right;\">\n",
       "      <th></th>\n",
       "      <th>CCI Value</th>\n",
       "      <th>GDP per capita growth (annual %)</th>\n",
       "    </tr>\n",
       "    <tr>\n",
       "      <th>Date</th>\n",
       "      <th></th>\n",
       "      <th></th>\n",
       "    </tr>\n",
       "  </thead>\n",
       "  <tbody>\n",
       "    <tr>\n",
       "      <th>1970-12-31</th>\n",
       "      <td>98.743870</td>\n",
       "      <td>1.552273</td>\n",
       "    </tr>\n",
       "    <tr>\n",
       "      <th>1971-12-31</th>\n",
       "      <td>99.425517</td>\n",
       "      <td>2.188471</td>\n",
       "    </tr>\n",
       "    <tr>\n",
       "      <th>1972-12-31</th>\n",
       "      <td>100.458448</td>\n",
       "      <td>3.620346</td>\n",
       "    </tr>\n",
       "    <tr>\n",
       "      <th>1973-12-31</th>\n",
       "      <td>98.640602</td>\n",
       "      <td>4.452205</td>\n",
       "    </tr>\n",
       "    <tr>\n",
       "      <th>1974-12-31</th>\n",
       "      <td>98.089943</td>\n",
       "      <td>0.050785</td>\n",
       "    </tr>\n",
       "  </tbody>\n",
       "</table>\n",
       "</div>"
      ],
      "text/plain": [
       "             CCI Value  GDP per capita growth (annual %)\n",
       "Date                                                    \n",
       "1970-12-31   98.743870                          1.552273\n",
       "1971-12-31   99.425517                          2.188471\n",
       "1972-12-31  100.458448                          3.620346\n",
       "1973-12-31   98.640602                          4.452205\n",
       "1974-12-31   98.089943                          0.050785"
      ]
     },
     "execution_count": 81,
     "metadata": {},
     "output_type": "execute_result"
    }
   ],
   "source": [
    "df_gdp_cci.head()"
   ]
  },
  {
   "cell_type": "code",
   "execution_count": 82,
   "metadata": {},
   "outputs": [],
   "source": [
    "df_final = pd.merge(df_gdp_cci,yield_curve_yre,left_index=True, right_index=True)"
   ]
  },
  {
   "cell_type": "code",
   "execution_count": 83,
   "metadata": {},
   "outputs": [
    {
     "data": {
      "text/html": [
       "<div>\n",
       "<style scoped>\n",
       "    .dataframe tbody tr th:only-of-type {\n",
       "        vertical-align: middle;\n",
       "    }\n",
       "\n",
       "    .dataframe tbody tr th {\n",
       "        vertical-align: top;\n",
       "    }\n",
       "\n",
       "    .dataframe thead th {\n",
       "        text-align: right;\n",
       "    }\n",
       "</style>\n",
       "<table border=\"1\" class=\"dataframe\">\n",
       "  <thead>\n",
       "    <tr style=\"text-align: right;\">\n",
       "      <th></th>\n",
       "      <th>CCI Value</th>\n",
       "      <th>GDP per capita growth (annual %)</th>\n",
       "      <th>index</th>\n",
       "      <th>10 Year Treasury Yield</th>\n",
       "      <th>3 Month Treasury Yield</th>\n",
       "      <th>3 Month Treasury Yield (Bond Equivalent Basis)</th>\n",
       "      <th>Spread</th>\n",
       "      <th>Rec_prob</th>\n",
       "      <th>NBER_Rec</th>\n",
       "      <th>Year</th>\n",
       "    </tr>\n",
       "    <tr>\n",
       "      <th>Date</th>\n",
       "      <th></th>\n",
       "      <th></th>\n",
       "      <th></th>\n",
       "      <th></th>\n",
       "      <th></th>\n",
       "      <th></th>\n",
       "      <th></th>\n",
       "      <th></th>\n",
       "      <th></th>\n",
       "      <th></th>\n",
       "    </tr>\n",
       "  </thead>\n",
       "  <tbody>\n",
       "    <tr>\n",
       "      <th>1970-12-31</th>\n",
       "      <td>98.743870</td>\n",
       "      <td>1.552273</td>\n",
       "      <td>125.5</td>\n",
       "      <td>7.348333</td>\n",
       "      <td>6.391667</td>\n",
       "      <td>6.588419</td>\n",
       "      <td>0.759914</td>\n",
       "      <td>0.344521</td>\n",
       "      <td>0.916667</td>\n",
       "      <td>1970.0</td>\n",
       "    </tr>\n",
       "    <tr>\n",
       "      <th>1971-12-31</th>\n",
       "      <td>99.425517</td>\n",
       "      <td>2.188471</td>\n",
       "      <td>137.5</td>\n",
       "      <td>6.159167</td>\n",
       "      <td>4.332500</td>\n",
       "      <td>4.442091</td>\n",
       "      <td>1.717076</td>\n",
       "      <td>0.168818</td>\n",
       "      <td>0.000000</td>\n",
       "      <td>1971.0</td>\n",
       "    </tr>\n",
       "    <tr>\n",
       "      <th>1972-12-31</th>\n",
       "      <td>100.458448</td>\n",
       "      <td>3.620346</td>\n",
       "      <td>149.5</td>\n",
       "      <td>6.210000</td>\n",
       "      <td>4.072500</td>\n",
       "      <td>4.172884</td>\n",
       "      <td>2.037116</td>\n",
       "      <td>0.056955</td>\n",
       "      <td>0.000000</td>\n",
       "      <td>1972.0</td>\n",
       "    </tr>\n",
       "    <tr>\n",
       "      <th>1973-12-31</th>\n",
       "      <td>98.640602</td>\n",
       "      <td>4.452205</td>\n",
       "      <td>161.5</td>\n",
       "      <td>6.842500</td>\n",
       "      <td>7.031667</td>\n",
       "      <td>7.261206</td>\n",
       "      <td>-0.418706</td>\n",
       "      <td>0.040342</td>\n",
       "      <td>0.083333</td>\n",
       "      <td>1973.0</td>\n",
       "    </tr>\n",
       "    <tr>\n",
       "      <th>1974-12-31</th>\n",
       "      <td>98.089943</td>\n",
       "      <td>0.050785</td>\n",
       "      <td>173.5</td>\n",
       "      <td>7.557500</td>\n",
       "      <td>7.830000</td>\n",
       "      <td>8.099749</td>\n",
       "      <td>-0.542249</td>\n",
       "      <td>0.410346</td>\n",
       "      <td>1.000000</td>\n",
       "      <td>1974.0</td>\n",
       "    </tr>\n",
       "  </tbody>\n",
       "</table>\n",
       "</div>"
      ],
      "text/plain": [
       "             CCI Value  GDP per capita growth (annual %)  index  \\\n",
       "Date                                                              \n",
       "1970-12-31   98.743870                          1.552273  125.5   \n",
       "1971-12-31   99.425517                          2.188471  137.5   \n",
       "1972-12-31  100.458448                          3.620346  149.5   \n",
       "1973-12-31   98.640602                          4.452205  161.5   \n",
       "1974-12-31   98.089943                          0.050785  173.5   \n",
       "\n",
       "            10 Year Treasury Yield  3 Month Treasury Yield  \\\n",
       "Date                                                         \n",
       "1970-12-31                7.348333                6.391667   \n",
       "1971-12-31                6.159167                4.332500   \n",
       "1972-12-31                6.210000                4.072500   \n",
       "1973-12-31                6.842500                7.031667   \n",
       "1974-12-31                7.557500                7.830000   \n",
       "\n",
       "            3 Month Treasury Yield (Bond Equivalent Basis)    Spread  \\\n",
       "Date                                                                   \n",
       "1970-12-31                                        6.588419  0.759914   \n",
       "1971-12-31                                        4.442091  1.717076   \n",
       "1972-12-31                                        4.172884  2.037116   \n",
       "1973-12-31                                        7.261206 -0.418706   \n",
       "1974-12-31                                        8.099749 -0.542249   \n",
       "\n",
       "            Rec_prob  NBER_Rec    Year  \n",
       "Date                                    \n",
       "1970-12-31  0.344521  0.916667  1970.0  \n",
       "1971-12-31  0.168818  0.000000  1971.0  \n",
       "1972-12-31  0.056955  0.000000  1972.0  \n",
       "1973-12-31  0.040342  0.083333  1973.0  \n",
       "1974-12-31  0.410346  1.000000  1974.0  "
      ]
     },
     "execution_count": 83,
     "metadata": {},
     "output_type": "execute_result"
    }
   ],
   "source": [
    "df_final.head()"
   ]
  },
  {
   "cell_type": "code",
   "execution_count": 84,
   "metadata": {},
   "outputs": [],
   "source": [
    "df_final.drop(['NBER_Rec'],axis=1,inplace=True)"
   ]
  },
  {
   "cell_type": "code",
   "execution_count": 85,
   "metadata": {},
   "outputs": [
    {
     "data": {
      "text/html": [
       "<div>\n",
       "<style scoped>\n",
       "    .dataframe tbody tr th:only-of-type {\n",
       "        vertical-align: middle;\n",
       "    }\n",
       "\n",
       "    .dataframe tbody tr th {\n",
       "        vertical-align: top;\n",
       "    }\n",
       "\n",
       "    .dataframe thead th {\n",
       "        text-align: right;\n",
       "    }\n",
       "</style>\n",
       "<table border=\"1\" class=\"dataframe\">\n",
       "  <thead>\n",
       "    <tr style=\"text-align: right;\">\n",
       "      <th></th>\n",
       "      <th>CCI Value</th>\n",
       "      <th>GDP per capita growth (annual %)</th>\n",
       "      <th>index</th>\n",
       "      <th>10 Year Treasury Yield</th>\n",
       "      <th>3 Month Treasury Yield</th>\n",
       "      <th>3 Month Treasury Yield (Bond Equivalent Basis)</th>\n",
       "      <th>Spread</th>\n",
       "      <th>Rec_prob</th>\n",
       "      <th>Year</th>\n",
       "    </tr>\n",
       "    <tr>\n",
       "      <th>Date</th>\n",
       "      <th></th>\n",
       "      <th></th>\n",
       "      <th></th>\n",
       "      <th></th>\n",
       "      <th></th>\n",
       "      <th></th>\n",
       "      <th></th>\n",
       "      <th></th>\n",
       "      <th></th>\n",
       "    </tr>\n",
       "  </thead>\n",
       "  <tbody>\n",
       "    <tr>\n",
       "      <th>1970-12-31</th>\n",
       "      <td>98.743870</td>\n",
       "      <td>1.552273</td>\n",
       "      <td>125.5</td>\n",
       "      <td>7.348333</td>\n",
       "      <td>6.391667</td>\n",
       "      <td>6.588419</td>\n",
       "      <td>0.759914</td>\n",
       "      <td>0.344521</td>\n",
       "      <td>1970.0</td>\n",
       "    </tr>\n",
       "    <tr>\n",
       "      <th>1971-12-31</th>\n",
       "      <td>99.425517</td>\n",
       "      <td>2.188471</td>\n",
       "      <td>137.5</td>\n",
       "      <td>6.159167</td>\n",
       "      <td>4.332500</td>\n",
       "      <td>4.442091</td>\n",
       "      <td>1.717076</td>\n",
       "      <td>0.168818</td>\n",
       "      <td>1971.0</td>\n",
       "    </tr>\n",
       "    <tr>\n",
       "      <th>1972-12-31</th>\n",
       "      <td>100.458448</td>\n",
       "      <td>3.620346</td>\n",
       "      <td>149.5</td>\n",
       "      <td>6.210000</td>\n",
       "      <td>4.072500</td>\n",
       "      <td>4.172884</td>\n",
       "      <td>2.037116</td>\n",
       "      <td>0.056955</td>\n",
       "      <td>1972.0</td>\n",
       "    </tr>\n",
       "    <tr>\n",
       "      <th>1973-12-31</th>\n",
       "      <td>98.640602</td>\n",
       "      <td>4.452205</td>\n",
       "      <td>161.5</td>\n",
       "      <td>6.842500</td>\n",
       "      <td>7.031667</td>\n",
       "      <td>7.261206</td>\n",
       "      <td>-0.418706</td>\n",
       "      <td>0.040342</td>\n",
       "      <td>1973.0</td>\n",
       "    </tr>\n",
       "    <tr>\n",
       "      <th>1974-12-31</th>\n",
       "      <td>98.089943</td>\n",
       "      <td>0.050785</td>\n",
       "      <td>173.5</td>\n",
       "      <td>7.557500</td>\n",
       "      <td>7.830000</td>\n",
       "      <td>8.099749</td>\n",
       "      <td>-0.542249</td>\n",
       "      <td>0.410346</td>\n",
       "      <td>1974.0</td>\n",
       "    </tr>\n",
       "  </tbody>\n",
       "</table>\n",
       "</div>"
      ],
      "text/plain": [
       "             CCI Value  GDP per capita growth (annual %)  index  \\\n",
       "Date                                                              \n",
       "1970-12-31   98.743870                          1.552273  125.5   \n",
       "1971-12-31   99.425517                          2.188471  137.5   \n",
       "1972-12-31  100.458448                          3.620346  149.5   \n",
       "1973-12-31   98.640602                          4.452205  161.5   \n",
       "1974-12-31   98.089943                          0.050785  173.5   \n",
       "\n",
       "            10 Year Treasury Yield  3 Month Treasury Yield  \\\n",
       "Date                                                         \n",
       "1970-12-31                7.348333                6.391667   \n",
       "1971-12-31                6.159167                4.332500   \n",
       "1972-12-31                6.210000                4.072500   \n",
       "1973-12-31                6.842500                7.031667   \n",
       "1974-12-31                7.557500                7.830000   \n",
       "\n",
       "            3 Month Treasury Yield (Bond Equivalent Basis)    Spread  \\\n",
       "Date                                                                   \n",
       "1970-12-31                                        6.588419  0.759914   \n",
       "1971-12-31                                        4.442091  1.717076   \n",
       "1972-12-31                                        4.172884  2.037116   \n",
       "1973-12-31                                        7.261206 -0.418706   \n",
       "1974-12-31                                        8.099749 -0.542249   \n",
       "\n",
       "            Rec_prob    Year  \n",
       "Date                          \n",
       "1970-12-31  0.344521  1970.0  \n",
       "1971-12-31  0.168818  1971.0  \n",
       "1972-12-31  0.056955  1972.0  \n",
       "1973-12-31  0.040342  1973.0  \n",
       "1974-12-31  0.410346  1974.0  "
      ]
     },
     "execution_count": 85,
     "metadata": {},
     "output_type": "execute_result"
    }
   ],
   "source": [
    "df_final.head()"
   ]
  },
  {
   "cell_type": "code",
   "execution_count": 86,
   "metadata": {},
   "outputs": [],
   "source": [
    "df_final = pd.merge(df_final,yield_curve_recession,left_index=True, right_index=True)"
   ]
  },
  {
   "cell_type": "code",
   "execution_count": 87,
   "metadata": {},
   "outputs": [
    {
     "data": {
      "text/html": [
       "<div>\n",
       "<style scoped>\n",
       "    .dataframe tbody tr th:only-of-type {\n",
       "        vertical-align: middle;\n",
       "    }\n",
       "\n",
       "    .dataframe tbody tr th {\n",
       "        vertical-align: top;\n",
       "    }\n",
       "\n",
       "    .dataframe thead th {\n",
       "        text-align: right;\n",
       "    }\n",
       "</style>\n",
       "<table border=\"1\" class=\"dataframe\">\n",
       "  <thead>\n",
       "    <tr style=\"text-align: right;\">\n",
       "      <th></th>\n",
       "      <th>CCI Value</th>\n",
       "      <th>GDP per capita growth (annual %)</th>\n",
       "      <th>index</th>\n",
       "      <th>10 Year Treasury Yield</th>\n",
       "      <th>3 Month Treasury Yield</th>\n",
       "      <th>3 Month Treasury Yield (Bond Equivalent Basis)</th>\n",
       "      <th>Spread</th>\n",
       "      <th>Rec_prob</th>\n",
       "      <th>Year_x</th>\n",
       "      <th>Date</th>\n",
       "      <th>NBER_Rec</th>\n",
       "      <th>Year_y</th>\n",
       "    </tr>\n",
       "    <tr>\n",
       "      <th>Date</th>\n",
       "      <th></th>\n",
       "      <th></th>\n",
       "      <th></th>\n",
       "      <th></th>\n",
       "      <th></th>\n",
       "      <th></th>\n",
       "      <th></th>\n",
       "      <th></th>\n",
       "      <th></th>\n",
       "      <th></th>\n",
       "      <th></th>\n",
       "      <th></th>\n",
       "    </tr>\n",
       "  </thead>\n",
       "  <tbody>\n",
       "    <tr>\n",
       "      <th>1970-12-31</th>\n",
       "      <td>98.743870</td>\n",
       "      <td>1.552273</td>\n",
       "      <td>125.5</td>\n",
       "      <td>7.348333</td>\n",
       "      <td>6.391667</td>\n",
       "      <td>6.588419</td>\n",
       "      <td>0.759914</td>\n",
       "      <td>0.344521</td>\n",
       "      <td>1970.0</td>\n",
       "      <td>1970-12-31</td>\n",
       "      <td>1.0</td>\n",
       "      <td>1970</td>\n",
       "    </tr>\n",
       "    <tr>\n",
       "      <th>1971-12-31</th>\n",
       "      <td>99.425517</td>\n",
       "      <td>2.188471</td>\n",
       "      <td>137.5</td>\n",
       "      <td>6.159167</td>\n",
       "      <td>4.332500</td>\n",
       "      <td>4.442091</td>\n",
       "      <td>1.717076</td>\n",
       "      <td>0.168818</td>\n",
       "      <td>1971.0</td>\n",
       "      <td>1971-12-31</td>\n",
       "      <td>0.0</td>\n",
       "      <td>1971</td>\n",
       "    </tr>\n",
       "    <tr>\n",
       "      <th>1972-12-31</th>\n",
       "      <td>100.458448</td>\n",
       "      <td>3.620346</td>\n",
       "      <td>149.5</td>\n",
       "      <td>6.210000</td>\n",
       "      <td>4.072500</td>\n",
       "      <td>4.172884</td>\n",
       "      <td>2.037116</td>\n",
       "      <td>0.056955</td>\n",
       "      <td>1972.0</td>\n",
       "      <td>1972-12-31</td>\n",
       "      <td>0.0</td>\n",
       "      <td>1972</td>\n",
       "    </tr>\n",
       "    <tr>\n",
       "      <th>1973-12-31</th>\n",
       "      <td>98.640602</td>\n",
       "      <td>4.452205</td>\n",
       "      <td>161.5</td>\n",
       "      <td>6.842500</td>\n",
       "      <td>7.031667</td>\n",
       "      <td>7.261206</td>\n",
       "      <td>-0.418706</td>\n",
       "      <td>0.040342</td>\n",
       "      <td>1973.0</td>\n",
       "      <td>1973-12-31</td>\n",
       "      <td>1.0</td>\n",
       "      <td>1973</td>\n",
       "    </tr>\n",
       "    <tr>\n",
       "      <th>1974-12-31</th>\n",
       "      <td>98.089943</td>\n",
       "      <td>0.050785</td>\n",
       "      <td>173.5</td>\n",
       "      <td>7.557500</td>\n",
       "      <td>7.830000</td>\n",
       "      <td>8.099749</td>\n",
       "      <td>-0.542249</td>\n",
       "      <td>0.410346</td>\n",
       "      <td>1974.0</td>\n",
       "      <td>1974-12-31</td>\n",
       "      <td>1.0</td>\n",
       "      <td>1974</td>\n",
       "    </tr>\n",
       "  </tbody>\n",
       "</table>\n",
       "</div>"
      ],
      "text/plain": [
       "             CCI Value  GDP per capita growth (annual %)  index  \\\n",
       "Date                                                              \n",
       "1970-12-31   98.743870                          1.552273  125.5   \n",
       "1971-12-31   99.425517                          2.188471  137.5   \n",
       "1972-12-31  100.458448                          3.620346  149.5   \n",
       "1973-12-31   98.640602                          4.452205  161.5   \n",
       "1974-12-31   98.089943                          0.050785  173.5   \n",
       "\n",
       "            10 Year Treasury Yield  3 Month Treasury Yield  \\\n",
       "Date                                                         \n",
       "1970-12-31                7.348333                6.391667   \n",
       "1971-12-31                6.159167                4.332500   \n",
       "1972-12-31                6.210000                4.072500   \n",
       "1973-12-31                6.842500                7.031667   \n",
       "1974-12-31                7.557500                7.830000   \n",
       "\n",
       "            3 Month Treasury Yield (Bond Equivalent Basis)    Spread  \\\n",
       "Date                                                                   \n",
       "1970-12-31                                        6.588419  0.759914   \n",
       "1971-12-31                                        4.442091  1.717076   \n",
       "1972-12-31                                        4.172884  2.037116   \n",
       "1973-12-31                                        7.261206 -0.418706   \n",
       "1974-12-31                                        8.099749 -0.542249   \n",
       "\n",
       "            Rec_prob  Year_x       Date  NBER_Rec  Year_y  \n",
       "Date                                                       \n",
       "1970-12-31  0.344521  1970.0 1970-12-31       1.0    1970  \n",
       "1971-12-31  0.168818  1971.0 1971-12-31       0.0    1971  \n",
       "1972-12-31  0.056955  1972.0 1972-12-31       0.0    1972  \n",
       "1973-12-31  0.040342  1973.0 1973-12-31       1.0    1973  \n",
       "1974-12-31  0.410346  1974.0 1974-12-31       1.0    1974  "
      ]
     },
     "execution_count": 87,
     "metadata": {},
     "output_type": "execute_result"
    }
   ],
   "source": [
    "df_final.head()"
   ]
  },
  {
   "cell_type": "code",
   "execution_count": 88,
   "metadata": {},
   "outputs": [
    {
     "data": {
      "text/plain": [
       "Index(['CCI Value', 'GDP per capita growth (annual %)', 'index',\n",
       "       '10 Year Treasury Yield', '3 Month Treasury Yield',\n",
       "       '3 Month Treasury Yield (Bond Equivalent Basis)', 'Spread', 'Rec_prob',\n",
       "       'Year_x', 'Date', 'NBER_Rec', 'Year_y'],\n",
       "      dtype='object')"
      ]
     },
     "execution_count": 88,
     "metadata": {},
     "output_type": "execute_result"
    }
   ],
   "source": [
    "df_final.columns"
   ]
  },
  {
   "cell_type": "code",
   "execution_count": 89,
   "metadata": {},
   "outputs": [],
   "source": [
    "df_final.drop(['Year_x','Date'],axis=1,inplace=True)"
   ]
  },
  {
   "cell_type": "code",
   "execution_count": 90,
   "metadata": {},
   "outputs": [
    {
     "data": {
      "text/html": [
       "<div>\n",
       "<style scoped>\n",
       "    .dataframe tbody tr th:only-of-type {\n",
       "        vertical-align: middle;\n",
       "    }\n",
       "\n",
       "    .dataframe tbody tr th {\n",
       "        vertical-align: top;\n",
       "    }\n",
       "\n",
       "    .dataframe thead th {\n",
       "        text-align: right;\n",
       "    }\n",
       "</style>\n",
       "<table border=\"1\" class=\"dataframe\">\n",
       "  <thead>\n",
       "    <tr style=\"text-align: right;\">\n",
       "      <th></th>\n",
       "      <th>CCI Value</th>\n",
       "      <th>GDP per capita growth (annual %)</th>\n",
       "      <th>index</th>\n",
       "      <th>10 Year Treasury Yield</th>\n",
       "      <th>3 Month Treasury Yield</th>\n",
       "      <th>3 Month Treasury Yield (Bond Equivalent Basis)</th>\n",
       "      <th>Spread</th>\n",
       "      <th>Rec_prob</th>\n",
       "      <th>NBER_Rec</th>\n",
       "      <th>Year_y</th>\n",
       "    </tr>\n",
       "    <tr>\n",
       "      <th>Date</th>\n",
       "      <th></th>\n",
       "      <th></th>\n",
       "      <th></th>\n",
       "      <th></th>\n",
       "      <th></th>\n",
       "      <th></th>\n",
       "      <th></th>\n",
       "      <th></th>\n",
       "      <th></th>\n",
       "      <th></th>\n",
       "    </tr>\n",
       "  </thead>\n",
       "  <tbody>\n",
       "    <tr>\n",
       "      <th>1970-12-31</th>\n",
       "      <td>98.743870</td>\n",
       "      <td>1.552273</td>\n",
       "      <td>125.5</td>\n",
       "      <td>7.348333</td>\n",
       "      <td>6.391667</td>\n",
       "      <td>6.588419</td>\n",
       "      <td>0.759914</td>\n",
       "      <td>0.344521</td>\n",
       "      <td>1.0</td>\n",
       "      <td>1970</td>\n",
       "    </tr>\n",
       "    <tr>\n",
       "      <th>1971-12-31</th>\n",
       "      <td>99.425517</td>\n",
       "      <td>2.188471</td>\n",
       "      <td>137.5</td>\n",
       "      <td>6.159167</td>\n",
       "      <td>4.332500</td>\n",
       "      <td>4.442091</td>\n",
       "      <td>1.717076</td>\n",
       "      <td>0.168818</td>\n",
       "      <td>0.0</td>\n",
       "      <td>1971</td>\n",
       "    </tr>\n",
       "    <tr>\n",
       "      <th>1972-12-31</th>\n",
       "      <td>100.458448</td>\n",
       "      <td>3.620346</td>\n",
       "      <td>149.5</td>\n",
       "      <td>6.210000</td>\n",
       "      <td>4.072500</td>\n",
       "      <td>4.172884</td>\n",
       "      <td>2.037116</td>\n",
       "      <td>0.056955</td>\n",
       "      <td>0.0</td>\n",
       "      <td>1972</td>\n",
       "    </tr>\n",
       "    <tr>\n",
       "      <th>1973-12-31</th>\n",
       "      <td>98.640602</td>\n",
       "      <td>4.452205</td>\n",
       "      <td>161.5</td>\n",
       "      <td>6.842500</td>\n",
       "      <td>7.031667</td>\n",
       "      <td>7.261206</td>\n",
       "      <td>-0.418706</td>\n",
       "      <td>0.040342</td>\n",
       "      <td>1.0</td>\n",
       "      <td>1973</td>\n",
       "    </tr>\n",
       "    <tr>\n",
       "      <th>1974-12-31</th>\n",
       "      <td>98.089943</td>\n",
       "      <td>0.050785</td>\n",
       "      <td>173.5</td>\n",
       "      <td>7.557500</td>\n",
       "      <td>7.830000</td>\n",
       "      <td>8.099749</td>\n",
       "      <td>-0.542249</td>\n",
       "      <td>0.410346</td>\n",
       "      <td>1.0</td>\n",
       "      <td>1974</td>\n",
       "    </tr>\n",
       "  </tbody>\n",
       "</table>\n",
       "</div>"
      ],
      "text/plain": [
       "             CCI Value  GDP per capita growth (annual %)  index  \\\n",
       "Date                                                              \n",
       "1970-12-31   98.743870                          1.552273  125.5   \n",
       "1971-12-31   99.425517                          2.188471  137.5   \n",
       "1972-12-31  100.458448                          3.620346  149.5   \n",
       "1973-12-31   98.640602                          4.452205  161.5   \n",
       "1974-12-31   98.089943                          0.050785  173.5   \n",
       "\n",
       "            10 Year Treasury Yield  3 Month Treasury Yield  \\\n",
       "Date                                                         \n",
       "1970-12-31                7.348333                6.391667   \n",
       "1971-12-31                6.159167                4.332500   \n",
       "1972-12-31                6.210000                4.072500   \n",
       "1973-12-31                6.842500                7.031667   \n",
       "1974-12-31                7.557500                7.830000   \n",
       "\n",
       "            3 Month Treasury Yield (Bond Equivalent Basis)    Spread  \\\n",
       "Date                                                                   \n",
       "1970-12-31                                        6.588419  0.759914   \n",
       "1971-12-31                                        4.442091  1.717076   \n",
       "1972-12-31                                        4.172884  2.037116   \n",
       "1973-12-31                                        7.261206 -0.418706   \n",
       "1974-12-31                                        8.099749 -0.542249   \n",
       "\n",
       "            Rec_prob  NBER_Rec  Year_y  \n",
       "Date                                    \n",
       "1970-12-31  0.344521       1.0    1970  \n",
       "1971-12-31  0.168818       0.0    1971  \n",
       "1972-12-31  0.056955       0.0    1972  \n",
       "1973-12-31  0.040342       1.0    1973  \n",
       "1974-12-31  0.410346       1.0    1974  "
      ]
     },
     "execution_count": 90,
     "metadata": {},
     "output_type": "execute_result"
    }
   ],
   "source": [
    "df_final.head()"
   ]
  },
  {
   "cell_type": "code",
   "execution_count": 91,
   "metadata": {},
   "outputs": [],
   "source": [
    "df_final['Year'] = df_final['Year_y']"
   ]
  },
  {
   "cell_type": "code",
   "execution_count": 92,
   "metadata": {},
   "outputs": [],
   "source": [
    "df_final.drop(['Year_y'],axis=1,inplace=True)"
   ]
  },
  {
   "cell_type": "code",
   "execution_count": 93,
   "metadata": {},
   "outputs": [
    {
     "data": {
      "text/html": [
       "<div>\n",
       "<style scoped>\n",
       "    .dataframe tbody tr th:only-of-type {\n",
       "        vertical-align: middle;\n",
       "    }\n",
       "\n",
       "    .dataframe tbody tr th {\n",
       "        vertical-align: top;\n",
       "    }\n",
       "\n",
       "    .dataframe thead th {\n",
       "        text-align: right;\n",
       "    }\n",
       "</style>\n",
       "<table border=\"1\" class=\"dataframe\">\n",
       "  <thead>\n",
       "    <tr style=\"text-align: right;\">\n",
       "      <th></th>\n",
       "      <th>CCI Value</th>\n",
       "      <th>GDP per capita growth (annual %)</th>\n",
       "      <th>index</th>\n",
       "      <th>10 Year Treasury Yield</th>\n",
       "      <th>3 Month Treasury Yield</th>\n",
       "      <th>3 Month Treasury Yield (Bond Equivalent Basis)</th>\n",
       "      <th>Spread</th>\n",
       "      <th>Rec_prob</th>\n",
       "      <th>NBER_Rec</th>\n",
       "      <th>Year</th>\n",
       "    </tr>\n",
       "    <tr>\n",
       "      <th>Date</th>\n",
       "      <th></th>\n",
       "      <th></th>\n",
       "      <th></th>\n",
       "      <th></th>\n",
       "      <th></th>\n",
       "      <th></th>\n",
       "      <th></th>\n",
       "      <th></th>\n",
       "      <th></th>\n",
       "      <th></th>\n",
       "    </tr>\n",
       "  </thead>\n",
       "  <tbody>\n",
       "    <tr>\n",
       "      <th>1970-12-31</th>\n",
       "      <td>98.743870</td>\n",
       "      <td>1.552273</td>\n",
       "      <td>125.5</td>\n",
       "      <td>7.348333</td>\n",
       "      <td>6.391667</td>\n",
       "      <td>6.588419</td>\n",
       "      <td>0.759914</td>\n",
       "      <td>0.344521</td>\n",
       "      <td>1.0</td>\n",
       "      <td>1970</td>\n",
       "    </tr>\n",
       "    <tr>\n",
       "      <th>1971-12-31</th>\n",
       "      <td>99.425517</td>\n",
       "      <td>2.188471</td>\n",
       "      <td>137.5</td>\n",
       "      <td>6.159167</td>\n",
       "      <td>4.332500</td>\n",
       "      <td>4.442091</td>\n",
       "      <td>1.717076</td>\n",
       "      <td>0.168818</td>\n",
       "      <td>0.0</td>\n",
       "      <td>1971</td>\n",
       "    </tr>\n",
       "    <tr>\n",
       "      <th>1972-12-31</th>\n",
       "      <td>100.458448</td>\n",
       "      <td>3.620346</td>\n",
       "      <td>149.5</td>\n",
       "      <td>6.210000</td>\n",
       "      <td>4.072500</td>\n",
       "      <td>4.172884</td>\n",
       "      <td>2.037116</td>\n",
       "      <td>0.056955</td>\n",
       "      <td>0.0</td>\n",
       "      <td>1972</td>\n",
       "    </tr>\n",
       "    <tr>\n",
       "      <th>1973-12-31</th>\n",
       "      <td>98.640602</td>\n",
       "      <td>4.452205</td>\n",
       "      <td>161.5</td>\n",
       "      <td>6.842500</td>\n",
       "      <td>7.031667</td>\n",
       "      <td>7.261206</td>\n",
       "      <td>-0.418706</td>\n",
       "      <td>0.040342</td>\n",
       "      <td>1.0</td>\n",
       "      <td>1973</td>\n",
       "    </tr>\n",
       "    <tr>\n",
       "      <th>1974-12-31</th>\n",
       "      <td>98.089943</td>\n",
       "      <td>0.050785</td>\n",
       "      <td>173.5</td>\n",
       "      <td>7.557500</td>\n",
       "      <td>7.830000</td>\n",
       "      <td>8.099749</td>\n",
       "      <td>-0.542249</td>\n",
       "      <td>0.410346</td>\n",
       "      <td>1.0</td>\n",
       "      <td>1974</td>\n",
       "    </tr>\n",
       "  </tbody>\n",
       "</table>\n",
       "</div>"
      ],
      "text/plain": [
       "             CCI Value  GDP per capita growth (annual %)  index  \\\n",
       "Date                                                              \n",
       "1970-12-31   98.743870                          1.552273  125.5   \n",
       "1971-12-31   99.425517                          2.188471  137.5   \n",
       "1972-12-31  100.458448                          3.620346  149.5   \n",
       "1973-12-31   98.640602                          4.452205  161.5   \n",
       "1974-12-31   98.089943                          0.050785  173.5   \n",
       "\n",
       "            10 Year Treasury Yield  3 Month Treasury Yield  \\\n",
       "Date                                                         \n",
       "1970-12-31                7.348333                6.391667   \n",
       "1971-12-31                6.159167                4.332500   \n",
       "1972-12-31                6.210000                4.072500   \n",
       "1973-12-31                6.842500                7.031667   \n",
       "1974-12-31                7.557500                7.830000   \n",
       "\n",
       "            3 Month Treasury Yield (Bond Equivalent Basis)    Spread  \\\n",
       "Date                                                                   \n",
       "1970-12-31                                        6.588419  0.759914   \n",
       "1971-12-31                                        4.442091  1.717076   \n",
       "1972-12-31                                        4.172884  2.037116   \n",
       "1973-12-31                                        7.261206 -0.418706   \n",
       "1974-12-31                                        8.099749 -0.542249   \n",
       "\n",
       "            Rec_prob  NBER_Rec  Year  \n",
       "Date                                  \n",
       "1970-12-31  0.344521       1.0  1970  \n",
       "1971-12-31  0.168818       0.0  1971  \n",
       "1972-12-31  0.056955       0.0  1972  \n",
       "1973-12-31  0.040342       1.0  1973  \n",
       "1974-12-31  0.410346       1.0  1974  "
      ]
     },
     "execution_count": 93,
     "metadata": {},
     "output_type": "execute_result"
    }
   ],
   "source": [
    "df_final.head() # Overall economic tables of estimators ( Y resampling )"
   ]
  },
  {
   "cell_type": "code",
   "execution_count": 94,
   "metadata": {},
   "outputs": [],
   "source": [
    "df_final.to_csv('/Users/vladimirautier/Documents/GitHub/Week9/Project-Week-9-Final-Project/your-project/Final Project/Modified:Cleaned Data/df_gdp_yield_cci_yre.csv')"
   ]
  }
 ],
 "metadata": {
  "kernelspec": {
   "display_name": "Python 3",
   "language": "python",
   "name": "python3"
  },
  "language_info": {
   "codemirror_mode": {
    "name": "ipython",
    "version": 3
   },
   "file_extension": ".py",
   "mimetype": "text/x-python",
   "name": "python",
   "nbconvert_exporter": "python",
   "pygments_lexer": "ipython3",
   "version": "3.7.3"
  }
 },
 "nbformat": 4,
 "nbformat_minor": 2
}
